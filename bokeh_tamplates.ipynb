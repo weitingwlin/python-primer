{
 "cells": [
  {
   "cell_type": "markdown",
   "metadata": {},
   "source": [
    "<a id='home'></a>\n",
    "\n",
    "\n",
    "# Bokeh tamplates\n",
    "\n",
    "### Plot types\n",
    "* [bar](#bar); [stacked bar](#stackedbar)\n",
    "* [scatter/circle](#scatter)\n",
    "\n",
    "### Tools\n",
    "* [list of tools](#tools)\n",
    "* [hover (scatter)](#scatter); [hover (stacked bar)](#stackedbar)\n",
    "* [click](#click)\n",
    "* [make the logo dissapear](#tools)\n",
    "\n",
    "### Widgets\n",
    "* [slider; select; input](#pandas-widgets)\n",
    "\n",
    "### Use cases\n",
    "* [starting with pandas](#pandas) \n",
    "\n",
    "### Colors\n",
    "* [color palettes; factor-to-color](#bar)\n",
    "* [color viewer](#color_viewer)\n",
    "* [colors in scatter plot](#scatter)\n",
    "\n",
    "### Typeset\n",
    "* [font size; label orientation](#pandas)\n",
    "* [range padding](#scatter)\n",
    "* [axes, ticks](#typeset)"
   ]
  },
  {
   "cell_type": "code",
   "execution_count": 113,
   "metadata": {
    "collapsed": true
   },
   "outputs": [],
   "source": [
    "import numpy as np"
   ]
  },
  {
   "cell_type": "code",
   "execution_count": 114,
   "metadata": {
    "scrolled": false
   },
   "outputs": [
    {
     "data": {
      "text/html": [
       "\n",
       "    <div class=\"bk-root\">\n",
       "        <a href=\"https://bokeh.pydata.org\" target=\"_blank\" class=\"bk-logo bk-logo-small bk-logo-notebook\"></a>\n",
       "        <span id=\"9bc91c93-48d5-4630-bb98-b6af6bdc1c52\">Loading BokehJS ...</span>\n",
       "    </div>"
      ]
     },
     "metadata": {},
     "output_type": "display_data"
    },
    {
     "data": {
      "application/javascript": [
       "\n",
       "(function(root) {\n",
       "  function now() {\n",
       "    return new Date();\n",
       "  }\n",
       "\n",
       "  var force = true;\n",
       "\n",
       "  if (typeof (root._bokeh_onload_callbacks) === \"undefined\" || force === true) {\n",
       "    root._bokeh_onload_callbacks = [];\n",
       "    root._bokeh_is_loading = undefined;\n",
       "  }\n",
       "\n",
       "  var JS_MIME_TYPE = 'application/javascript';\n",
       "  var HTML_MIME_TYPE = 'text/html';\n",
       "  var EXEC_MIME_TYPE = 'application/vnd.bokehjs_exec.v0+json';\n",
       "  var CLASS_NAME = 'output_bokeh rendered_html';\n",
       "\n",
       "  /**\n",
       "   * Render data to the DOM node\n",
       "   */\n",
       "  function render(props, node) {\n",
       "    var script = document.createElement(\"script\");\n",
       "    node.appendChild(script);\n",
       "  }\n",
       "\n",
       "  /**\n",
       "   * Handle when an output is cleared or removed\n",
       "   */\n",
       "  function handleClearOutput(event, handle) {\n",
       "    var cell = handle.cell;\n",
       "\n",
       "    var id = cell.output_area._bokeh_element_id;\n",
       "    var server_id = cell.output_area._bokeh_server_id;\n",
       "    // Clean up Bokeh references\n",
       "    if (id !== undefined) {\n",
       "      Bokeh.index[id].model.document.clear();\n",
       "      delete Bokeh.index[id];\n",
       "    }\n",
       "\n",
       "    if (server_id !== undefined) {\n",
       "      // Clean up Bokeh references\n",
       "      var cmd = \"from bokeh.io.state import curstate; print(curstate().uuid_to_server['\" + server_id + \"'].get_sessions()[0].document.roots[0]._id)\";\n",
       "      cell.notebook.kernel.execute(cmd, {\n",
       "        iopub: {\n",
       "          output: function(msg) {\n",
       "            var element_id = msg.content.text.trim();\n",
       "            Bokeh.index[element_id].model.document.clear();\n",
       "            delete Bokeh.index[element_id];\n",
       "          }\n",
       "        }\n",
       "      });\n",
       "      // Destroy server and session\n",
       "      var cmd = \"import bokeh.io.notebook as ion; ion.destroy_server('\" + server_id + \"')\";\n",
       "      cell.notebook.kernel.execute(cmd);\n",
       "    }\n",
       "  }\n",
       "\n",
       "  /**\n",
       "   * Handle when a new output is added\n",
       "   */\n",
       "  function handleAddOutput(event, handle) {\n",
       "    var output_area = handle.output_area;\n",
       "    var output = handle.output;\n",
       "\n",
       "    // limit handleAddOutput to display_data with EXEC_MIME_TYPE content only\n",
       "    if ((output.output_type != \"display_data\") || (!output.data.hasOwnProperty(EXEC_MIME_TYPE))) {\n",
       "      return\n",
       "    }\n",
       "\n",
       "    var toinsert = output_area.element.find(\".\" + CLASS_NAME.split(' ')[0]);\n",
       "\n",
       "    if (output.metadata[EXEC_MIME_TYPE][\"id\"] !== undefined) {\n",
       "      toinsert[toinsert.length - 1].firstChild.textContent = output.data[JS_MIME_TYPE];\n",
       "      // store reference to embed id on output_area\n",
       "      output_area._bokeh_element_id = output.metadata[EXEC_MIME_TYPE][\"id\"];\n",
       "    }\n",
       "    if (output.metadata[EXEC_MIME_TYPE][\"server_id\"] !== undefined) {\n",
       "      var bk_div = document.createElement(\"div\");\n",
       "      bk_div.innerHTML = output.data[HTML_MIME_TYPE];\n",
       "      var script_attrs = bk_div.children[0].attributes;\n",
       "      for (var i = 0; i < script_attrs.length; i++) {\n",
       "        toinsert[toinsert.length - 1].firstChild.setAttribute(script_attrs[i].name, script_attrs[i].value);\n",
       "      }\n",
       "      // store reference to server id on output_area\n",
       "      output_area._bokeh_server_id = output.metadata[EXEC_MIME_TYPE][\"server_id\"];\n",
       "    }\n",
       "  }\n",
       "\n",
       "  function register_renderer(events, OutputArea) {\n",
       "\n",
       "    function append_mime(data, metadata, element) {\n",
       "      // create a DOM node to render to\n",
       "      var toinsert = this.create_output_subarea(\n",
       "        metadata,\n",
       "        CLASS_NAME,\n",
       "        EXEC_MIME_TYPE\n",
       "      );\n",
       "      this.keyboard_manager.register_events(toinsert);\n",
       "      // Render to node\n",
       "      var props = {data: data, metadata: metadata[EXEC_MIME_TYPE]};\n",
       "      render(props, toinsert[toinsert.length - 1]);\n",
       "      element.append(toinsert);\n",
       "      return toinsert\n",
       "    }\n",
       "\n",
       "    /* Handle when an output is cleared or removed */\n",
       "    events.on('clear_output.CodeCell', handleClearOutput);\n",
       "    events.on('delete.Cell', handleClearOutput);\n",
       "\n",
       "    /* Handle when a new output is added */\n",
       "    events.on('output_added.OutputArea', handleAddOutput);\n",
       "\n",
       "    /**\n",
       "     * Register the mime type and append_mime function with output_area\n",
       "     */\n",
       "    OutputArea.prototype.register_mime_type(EXEC_MIME_TYPE, append_mime, {\n",
       "      /* Is output safe? */\n",
       "      safe: true,\n",
       "      /* Index of renderer in `output_area.display_order` */\n",
       "      index: 0\n",
       "    });\n",
       "  }\n",
       "\n",
       "  // register the mime type if in Jupyter Notebook environment and previously unregistered\n",
       "  if (root.Jupyter !== undefined) {\n",
       "    var events = require('base/js/events');\n",
       "    var OutputArea = require('notebook/js/outputarea').OutputArea;\n",
       "\n",
       "    if (OutputArea.prototype.mime_types().indexOf(EXEC_MIME_TYPE) == -1) {\n",
       "      register_renderer(events, OutputArea);\n",
       "    }\n",
       "  }\n",
       "\n",
       "  \n",
       "  if (typeof (root._bokeh_timeout) === \"undefined\" || force === true) {\n",
       "    root._bokeh_timeout = Date.now() + 5000;\n",
       "    root._bokeh_failed_load = false;\n",
       "  }\n",
       "\n",
       "  var NB_LOAD_WARNING = {'data': {'text/html':\n",
       "     \"<div style='background-color: #fdd'>\\n\"+\n",
       "     \"<p>\\n\"+\n",
       "     \"BokehJS does not appear to have successfully loaded. If loading BokehJS from CDN, this \\n\"+\n",
       "     \"may be due to a slow or bad network connection. Possible fixes:\\n\"+\n",
       "     \"</p>\\n\"+\n",
       "     \"<ul>\\n\"+\n",
       "     \"<li>re-rerun `output_notebook()` to attempt to load from CDN again, or</li>\\n\"+\n",
       "     \"<li>use INLINE resources instead, as so:</li>\\n\"+\n",
       "     \"</ul>\\n\"+\n",
       "     \"<code>\\n\"+\n",
       "     \"from bokeh.resources import INLINE\\n\"+\n",
       "     \"output_notebook(resources=INLINE)\\n\"+\n",
       "     \"</code>\\n\"+\n",
       "     \"</div>\"}};\n",
       "\n",
       "  function display_loaded() {\n",
       "    var el = document.getElementById(\"9bc91c93-48d5-4630-bb98-b6af6bdc1c52\");\n",
       "    if (el != null) {\n",
       "      el.textContent = \"BokehJS is loading...\";\n",
       "    }\n",
       "    if (root.Bokeh !== undefined) {\n",
       "      if (el != null) {\n",
       "        el.textContent = \"BokehJS \" + root.Bokeh.version + \" successfully loaded.\";\n",
       "      }\n",
       "    } else if (Date.now() < root._bokeh_timeout) {\n",
       "      setTimeout(display_loaded, 100)\n",
       "    }\n",
       "  }\n",
       "\n",
       "\n",
       "  function run_callbacks() {\n",
       "    try {\n",
       "      root._bokeh_onload_callbacks.forEach(function(callback) { callback() });\n",
       "    }\n",
       "    finally {\n",
       "      delete root._bokeh_onload_callbacks\n",
       "    }\n",
       "    console.info(\"Bokeh: all callbacks have finished\");\n",
       "  }\n",
       "\n",
       "  function load_libs(js_urls, callback) {\n",
       "    root._bokeh_onload_callbacks.push(callback);\n",
       "    if (root._bokeh_is_loading > 0) {\n",
       "      console.log(\"Bokeh: BokehJS is being loaded, scheduling callback at\", now());\n",
       "      return null;\n",
       "    }\n",
       "    if (js_urls == null || js_urls.length === 0) {\n",
       "      run_callbacks();\n",
       "      return null;\n",
       "    }\n",
       "    console.log(\"Bokeh: BokehJS not loaded, scheduling load and callback at\", now());\n",
       "    root._bokeh_is_loading = js_urls.length;\n",
       "    for (var i = 0; i < js_urls.length; i++) {\n",
       "      var url = js_urls[i];\n",
       "      var s = document.createElement('script');\n",
       "      s.src = url;\n",
       "      s.async = false;\n",
       "      s.onreadystatechange = s.onload = function() {\n",
       "        root._bokeh_is_loading--;\n",
       "        if (root._bokeh_is_loading === 0) {\n",
       "          console.log(\"Bokeh: all BokehJS libraries loaded\");\n",
       "          run_callbacks()\n",
       "        }\n",
       "      };\n",
       "      s.onerror = function() {\n",
       "        console.warn(\"failed to load library \" + url);\n",
       "      };\n",
       "      console.log(\"Bokeh: injecting script tag for BokehJS library: \", url);\n",
       "      document.getElementsByTagName(\"head\")[0].appendChild(s);\n",
       "    }\n",
       "  };var element = document.getElementById(\"9bc91c93-48d5-4630-bb98-b6af6bdc1c52\");\n",
       "  if (element == null) {\n",
       "    console.log(\"Bokeh: ERROR: autoload.js configured with elementid '9bc91c93-48d5-4630-bb98-b6af6bdc1c52' but no matching script tag was found. \")\n",
       "    return false;\n",
       "  }\n",
       "\n",
       "  var js_urls = [\"https://cdn.pydata.org/bokeh/release/bokeh-0.12.15.min.js\", \"https://cdn.pydata.org/bokeh/release/bokeh-widgets-0.12.15.min.js\", \"https://cdn.pydata.org/bokeh/release/bokeh-tables-0.12.15.min.js\", \"https://cdn.pydata.org/bokeh/release/bokeh-gl-0.12.15.min.js\"];\n",
       "\n",
       "  var inline_js = [\n",
       "    function(Bokeh) {\n",
       "      Bokeh.set_log_level(\"info\");\n",
       "    },\n",
       "    \n",
       "    function(Bokeh) {\n",
       "      \n",
       "    },\n",
       "    function(Bokeh) {\n",
       "      console.log(\"Bokeh: injecting CSS: https://cdn.pydata.org/bokeh/release/bokeh-0.12.15.min.css\");\n",
       "      Bokeh.embed.inject_css(\"https://cdn.pydata.org/bokeh/release/bokeh-0.12.15.min.css\");\n",
       "      console.log(\"Bokeh: injecting CSS: https://cdn.pydata.org/bokeh/release/bokeh-widgets-0.12.15.min.css\");\n",
       "      Bokeh.embed.inject_css(\"https://cdn.pydata.org/bokeh/release/bokeh-widgets-0.12.15.min.css\");\n",
       "      console.log(\"Bokeh: injecting CSS: https://cdn.pydata.org/bokeh/release/bokeh-tables-0.12.15.min.css\");\n",
       "      Bokeh.embed.inject_css(\"https://cdn.pydata.org/bokeh/release/bokeh-tables-0.12.15.min.css\");\n",
       "    }\n",
       "  ];\n",
       "\n",
       "  function run_inline_js() {\n",
       "    \n",
       "    if ((root.Bokeh !== undefined) || (force === true)) {\n",
       "      for (var i = 0; i < inline_js.length; i++) {\n",
       "        inline_js[i].call(root, root.Bokeh);\n",
       "      }if (force === true) {\n",
       "        display_loaded();\n",
       "      }} else if (Date.now() < root._bokeh_timeout) {\n",
       "      setTimeout(run_inline_js, 100);\n",
       "    } else if (!root._bokeh_failed_load) {\n",
       "      console.log(\"Bokeh: BokehJS failed to load within specified timeout.\");\n",
       "      root._bokeh_failed_load = true;\n",
       "    } else if (force !== true) {\n",
       "      var cell = $(document.getElementById(\"9bc91c93-48d5-4630-bb98-b6af6bdc1c52\")).parents('.cell').data().cell;\n",
       "      cell.output_area.append_execute_result(NB_LOAD_WARNING)\n",
       "    }\n",
       "\n",
       "  }\n",
       "\n",
       "  if (root._bokeh_is_loading === 0) {\n",
       "    console.log(\"Bokeh: BokehJS loaded, going straight to plotting\");\n",
       "    run_inline_js();\n",
       "  } else {\n",
       "    load_libs(js_urls, function() {\n",
       "      console.log(\"Bokeh: BokehJS plotting callback run at\", now());\n",
       "      run_inline_js();\n",
       "    });\n",
       "  }\n",
       "}(window));"
      ],
      "application/vnd.bokehjs_load.v0+json": "\n(function(root) {\n  function now() {\n    return new Date();\n  }\n\n  var force = true;\n\n  if (typeof (root._bokeh_onload_callbacks) === \"undefined\" || force === true) {\n    root._bokeh_onload_callbacks = [];\n    root._bokeh_is_loading = undefined;\n  }\n\n  \n\n  \n  if (typeof (root._bokeh_timeout) === \"undefined\" || force === true) {\n    root._bokeh_timeout = Date.now() + 5000;\n    root._bokeh_failed_load = false;\n  }\n\n  var NB_LOAD_WARNING = {'data': {'text/html':\n     \"<div style='background-color: #fdd'>\\n\"+\n     \"<p>\\n\"+\n     \"BokehJS does not appear to have successfully loaded. If loading BokehJS from CDN, this \\n\"+\n     \"may be due to a slow or bad network connection. Possible fixes:\\n\"+\n     \"</p>\\n\"+\n     \"<ul>\\n\"+\n     \"<li>re-rerun `output_notebook()` to attempt to load from CDN again, or</li>\\n\"+\n     \"<li>use INLINE resources instead, as so:</li>\\n\"+\n     \"</ul>\\n\"+\n     \"<code>\\n\"+\n     \"from bokeh.resources import INLINE\\n\"+\n     \"output_notebook(resources=INLINE)\\n\"+\n     \"</code>\\n\"+\n     \"</div>\"}};\n\n  function display_loaded() {\n    var el = document.getElementById(\"9bc91c93-48d5-4630-bb98-b6af6bdc1c52\");\n    if (el != null) {\n      el.textContent = \"BokehJS is loading...\";\n    }\n    if (root.Bokeh !== undefined) {\n      if (el != null) {\n        el.textContent = \"BokehJS \" + root.Bokeh.version + \" successfully loaded.\";\n      }\n    } else if (Date.now() < root._bokeh_timeout) {\n      setTimeout(display_loaded, 100)\n    }\n  }\n\n\n  function run_callbacks() {\n    try {\n      root._bokeh_onload_callbacks.forEach(function(callback) { callback() });\n    }\n    finally {\n      delete root._bokeh_onload_callbacks\n    }\n    console.info(\"Bokeh: all callbacks have finished\");\n  }\n\n  function load_libs(js_urls, callback) {\n    root._bokeh_onload_callbacks.push(callback);\n    if (root._bokeh_is_loading > 0) {\n      console.log(\"Bokeh: BokehJS is being loaded, scheduling callback at\", now());\n      return null;\n    }\n    if (js_urls == null || js_urls.length === 0) {\n      run_callbacks();\n      return null;\n    }\n    console.log(\"Bokeh: BokehJS not loaded, scheduling load and callback at\", now());\n    root._bokeh_is_loading = js_urls.length;\n    for (var i = 0; i < js_urls.length; i++) {\n      var url = js_urls[i];\n      var s = document.createElement('script');\n      s.src = url;\n      s.async = false;\n      s.onreadystatechange = s.onload = function() {\n        root._bokeh_is_loading--;\n        if (root._bokeh_is_loading === 0) {\n          console.log(\"Bokeh: all BokehJS libraries loaded\");\n          run_callbacks()\n        }\n      };\n      s.onerror = function() {\n        console.warn(\"failed to load library \" + url);\n      };\n      console.log(\"Bokeh: injecting script tag for BokehJS library: \", url);\n      document.getElementsByTagName(\"head\")[0].appendChild(s);\n    }\n  };var element = document.getElementById(\"9bc91c93-48d5-4630-bb98-b6af6bdc1c52\");\n  if (element == null) {\n    console.log(\"Bokeh: ERROR: autoload.js configured with elementid '9bc91c93-48d5-4630-bb98-b6af6bdc1c52' but no matching script tag was found. \")\n    return false;\n  }\n\n  var js_urls = [\"https://cdn.pydata.org/bokeh/release/bokeh-0.12.15.min.js\", \"https://cdn.pydata.org/bokeh/release/bokeh-widgets-0.12.15.min.js\", \"https://cdn.pydata.org/bokeh/release/bokeh-tables-0.12.15.min.js\", \"https://cdn.pydata.org/bokeh/release/bokeh-gl-0.12.15.min.js\"];\n\n  var inline_js = [\n    function(Bokeh) {\n      Bokeh.set_log_level(\"info\");\n    },\n    \n    function(Bokeh) {\n      \n    },\n    function(Bokeh) {\n      console.log(\"Bokeh: injecting CSS: https://cdn.pydata.org/bokeh/release/bokeh-0.12.15.min.css\");\n      Bokeh.embed.inject_css(\"https://cdn.pydata.org/bokeh/release/bokeh-0.12.15.min.css\");\n      console.log(\"Bokeh: injecting CSS: https://cdn.pydata.org/bokeh/release/bokeh-widgets-0.12.15.min.css\");\n      Bokeh.embed.inject_css(\"https://cdn.pydata.org/bokeh/release/bokeh-widgets-0.12.15.min.css\");\n      console.log(\"Bokeh: injecting CSS: https://cdn.pydata.org/bokeh/release/bokeh-tables-0.12.15.min.css\");\n      Bokeh.embed.inject_css(\"https://cdn.pydata.org/bokeh/release/bokeh-tables-0.12.15.min.css\");\n    }\n  ];\n\n  function run_inline_js() {\n    \n    if ((root.Bokeh !== undefined) || (force === true)) {\n      for (var i = 0; i < inline_js.length; i++) {\n        inline_js[i].call(root, root.Bokeh);\n      }if (force === true) {\n        display_loaded();\n      }} else if (Date.now() < root._bokeh_timeout) {\n      setTimeout(run_inline_js, 100);\n    } else if (!root._bokeh_failed_load) {\n      console.log(\"Bokeh: BokehJS failed to load within specified timeout.\");\n      root._bokeh_failed_load = true;\n    } else if (force !== true) {\n      var cell = $(document.getElementById(\"9bc91c93-48d5-4630-bb98-b6af6bdc1c52\")).parents('.cell').data().cell;\n      cell.output_area.append_execute_result(NB_LOAD_WARNING)\n    }\n\n  }\n\n  if (root._bokeh_is_loading === 0) {\n    console.log(\"Bokeh: BokehJS loaded, going straight to plotting\");\n    run_inline_js();\n  } else {\n    load_libs(js_urls, function() {\n      console.log(\"Bokeh: BokehJS plotting callback run at\", now());\n      run_inline_js();\n    });\n  }\n}(window));"
     },
     "metadata": {},
     "output_type": "display_data"
    }
   ],
   "source": [
    "from bokeh.layouts import column\n",
    "from bokeh.models import *\n",
    "from bokeh.io import output_notebook, reset_output\n",
    "from bokeh.plotting import figure, output_file, show, ColumnDataSource\n",
    "\n",
    "reset_output()\n",
    "output_notebook()\n",
    "# these examples are for 0.12.15"
   ]
  },
  {
   "cell_type": "markdown",
   "metadata": {},
   "source": [
    "## <a id='bar'></a>\n",
    "\n",
    "## Bar chart (color palettes; factor-to-color; linear to color)\n",
    "\n",
    "[more palettes](https://bokeh.pydata.org/en/latest/docs/reference/palettes.html)\n",
    "\n",
    "####  [home](#home)"
   ]
  },
  {
   "cell_type": "code",
   "execution_count": 115,
   "metadata": {
    "scrolled": false
   },
   "outputs": [
    {
     "data": {
      "text/html": [
       "\n",
       "<div class=\"bk-root\">\n",
       "    <div class=\"bk-plotdiv\" id=\"3bb460c6-d01c-4d89-a0f3-e2b344be5397\"></div>\n",
       "</div>"
      ]
     },
     "metadata": {},
     "output_type": "display_data"
    },
    {
     "data": {
      "application/javascript": [
       "(function(root) {\n",
       "  function embed_document(root) {\n",
       "    \n",
       "  var docs_json = {\"ba2e75cc-9602-4be4-b58c-eff8bf5fb1dc\":{\"roots\":{\"references\":[{\"attributes\":{\"grid_line_color\":{\"value\":null},\"plot\":{\"id\":\"f429953c-97e3-48bc-96d4-90a0967ff00c\",\"subtype\":\"Figure\",\"type\":\"Plot\"},\"ticker\":{\"id\":\"3228cead-209b-4a69-978f-fbe6285804d1\",\"type\":\"CategoricalTicker\"}},\"id\":\"63f0969d-653c-4371-af10-7dc59d10ee07\",\"type\":\"Grid\"},{\"attributes\":{\"formatter\":{\"id\":\"e28d3d50-4f9a-426f-9a8d-06bcf822412f\",\"type\":\"CategoricalTickFormatter\"},\"plot\":{\"id\":\"f429953c-97e3-48bc-96d4-90a0967ff00c\",\"subtype\":\"Figure\",\"type\":\"Plot\"},\"ticker\":{\"id\":\"3228cead-209b-4a69-978f-fbe6285804d1\",\"type\":\"CategoricalTicker\"}},\"id\":\"7a53e3eb-e652-4fba-88d9-4b8a60a44b6c\",\"type\":\"CategoricalAxis\"},{\"attributes\":{\"fill_alpha\":{\"value\":0.1},\"fill_color\":{\"value\":\"#1f77b4\"},\"line_alpha\":{\"value\":0.1},\"line_color\":{\"value\":\"#1f77b4\"},\"top\":{\"field\":\"counts\"},\"width\":{\"value\":0.9},\"x\":{\"field\":\"fruits\"}},\"id\":\"c7363358-aeaf-4576-8ce4-fc9fc2623805\",\"type\":\"VBar\"},{\"attributes\":{},\"id\":\"7e61297f-e75f-43c3-9261-bf26bdba2ebe\",\"type\":\"CategoricalScale\"},{\"attributes\":{\"items\":[{\"id\":\"e7105917-b8c1-4e9d-991e-7debcf18a9d3\",\"type\":\"LegendItem\"}],\"location\":\"top_center\",\"orientation\":\"horizontal\",\"plot\":{\"id\":\"f429953c-97e3-48bc-96d4-90a0967ff00c\",\"subtype\":\"Figure\",\"type\":\"Plot\"}},\"id\":\"2133cbe1-d333-4708-acf9-2046f7487cb7\",\"type\":\"Legend\"},{\"attributes\":{\"fill_color\":{\"field\":\"fruits\",\"transform\":{\"id\":\"2b0f7dd9-12d0-4ea2-be08-3a607ef3aa13\",\"type\":\"CategoricalColorMapper\"}},\"line_color\":{\"value\":\"white\"},\"top\":{\"field\":\"counts\"},\"width\":{\"value\":0.9},\"x\":{\"field\":\"fruits\"}},\"id\":\"b58ceb53-cf9b-43b1-8cd7-4de8729c1cb2\",\"type\":\"VBar\"},{\"attributes\":{\"below\":[{\"id\":\"7a53e3eb-e652-4fba-88d9-4b8a60a44b6c\",\"type\":\"CategoricalAxis\"}],\"left\":[{\"id\":\"ce6b9f41-e87a-4f61-9500-e5cc978366fc\",\"type\":\"LinearAxis\"}],\"plot_height\":350,\"renderers\":[{\"id\":\"7a53e3eb-e652-4fba-88d9-4b8a60a44b6c\",\"type\":\"CategoricalAxis\"},{\"id\":\"63f0969d-653c-4371-af10-7dc59d10ee07\",\"type\":\"Grid\"},{\"id\":\"ce6b9f41-e87a-4f61-9500-e5cc978366fc\",\"type\":\"LinearAxis\"},{\"id\":\"3d3b2f8c-c1b3-4a3e-97ad-198d8f725c07\",\"type\":\"Grid\"},{\"id\":\"10207fd7-f31e-4171-a0a8-45da9eee8c91\",\"type\":\"BoxAnnotation\"},{\"id\":\"2133cbe1-d333-4708-acf9-2046f7487cb7\",\"type\":\"Legend\"},{\"id\":\"bd38fdb9-d469-43b4-a1a6-ad264cd6ea9c\",\"type\":\"GlyphRenderer\"}],\"title\":{\"id\":\"e55ecfbb-6b41-4ffc-bd52-80d5ba23b908\",\"type\":\"Title\"},\"toolbar\":{\"id\":\"e90475f2-faa3-4e04-b9fa-92dcda2d2706\",\"type\":\"Toolbar\"},\"x_range\":{\"id\":\"3b85e859-185f-4bcf-9812-28949e806252\",\"type\":\"FactorRange\"},\"x_scale\":{\"id\":\"7e61297f-e75f-43c3-9261-bf26bdba2ebe\",\"type\":\"CategoricalScale\"},\"y_range\":{\"id\":\"dbf8a880-90d6-4552-8d52-6dc06488de92\",\"type\":\"DataRange1d\"},\"y_scale\":{\"id\":\"7bbff9a2-0b14-4cbd-8951-9f100ea7fc6a\",\"type\":\"LinearScale\"}},\"id\":\"f429953c-97e3-48bc-96d4-90a0967ff00c\",\"subtype\":\"Figure\",\"type\":\"Plot\"},{\"attributes\":{\"callback\":null,\"column_names\":[\"counts\",\"fruits\"],\"data\":{\"counts\":[5,3,4,2,4,6],\"fruits\":[\"Apples\",\"Pears\",\"Nectarines\",\"Plums\",\"Grapes\",\"Strawberries\"]},\"selected\":null,\"selection_policy\":null},\"id\":\"e677d9ff-9cbd-41be-a20d-a3b9651ad708\",\"type\":\"ColumnDataSource\"},{\"attributes\":{\"dimension\":1,\"plot\":{\"id\":\"f429953c-97e3-48bc-96d4-90a0967ff00c\",\"subtype\":\"Figure\",\"type\":\"Plot\"},\"ticker\":{\"id\":\"764fde48-9094-42fc-9da8-7b42994bf0de\",\"type\":\"BasicTicker\"}},\"id\":\"3d3b2f8c-c1b3-4a3e-97ad-198d8f725c07\",\"type\":\"Grid\"},{\"attributes\":{\"overlay\":{\"id\":\"10207fd7-f31e-4171-a0a8-45da9eee8c91\",\"type\":\"BoxAnnotation\"}},\"id\":\"df7aa167-bf1f-4aac-bf26-c56da15ddcc0\",\"type\":\"BoxZoomTool\"},{\"attributes\":{\"factors\":[\"Nectarines\",\"Plums\",\"Apples\",\"Pears\",\"Grapes\",\"Strawberries\"],\"palette\":[\"#440154\",\"#482374\",\"#404387\",\"#345E8D\",\"#29788E\",\"#208F8C\",\"#22A784\",\"#42BE71\",\"#79D151\",\"#BADE27\",\"#FDE724\"]},\"id\":\"2b0f7dd9-12d0-4ea2-be08-3a607ef3aa13\",\"type\":\"CategoricalColorMapper\"},{\"attributes\":{},\"id\":\"7bbff9a2-0b14-4cbd-8951-9f100ea7fc6a\",\"type\":\"LinearScale\"},{\"attributes\":{\"callback\":null,\"factors\":[\"Nectarines\",\"Plums\",\"Apples\",\"Pears\",\"Grapes\",\"Strawberries\"]},\"id\":\"3b85e859-185f-4bcf-9812-28949e806252\",\"type\":\"FactorRange\"},{\"attributes\":{\"source\":{\"id\":\"e677d9ff-9cbd-41be-a20d-a3b9651ad708\",\"type\":\"ColumnDataSource\"}},\"id\":\"5f9ec220-2829-4e16-a7cb-1dd1545209e6\",\"type\":\"CDSView\"},{\"attributes\":{\"bottom_units\":\"screen\",\"fill_alpha\":{\"value\":0.5},\"fill_color\":{\"value\":\"lightgrey\"},\"left_units\":\"screen\",\"level\":\"overlay\",\"line_alpha\":{\"value\":1.0},\"line_color\":{\"value\":\"black\"},\"line_dash\":[4,4],\"line_width\":{\"value\":2},\"plot\":null,\"render_mode\":\"css\",\"right_units\":\"screen\",\"top_units\":\"screen\"},\"id\":\"10207fd7-f31e-4171-a0a8-45da9eee8c91\",\"type\":\"BoxAnnotation\"},{\"attributes\":{\"label\":{\"field\":\"fruits\"},\"renderers\":[{\"id\":\"bd38fdb9-d469-43b4-a1a6-ad264cd6ea9c\",\"type\":\"GlyphRenderer\"}]},\"id\":\"e7105917-b8c1-4e9d-991e-7debcf18a9d3\",\"type\":\"LegendItem\"},{\"attributes\":{\"data_source\":{\"id\":\"e677d9ff-9cbd-41be-a20d-a3b9651ad708\",\"type\":\"ColumnDataSource\"},\"glyph\":{\"id\":\"b58ceb53-cf9b-43b1-8cd7-4de8729c1cb2\",\"type\":\"VBar\"},\"hover_glyph\":null,\"muted_glyph\":null,\"nonselection_glyph\":{\"id\":\"c7363358-aeaf-4576-8ce4-fc9fc2623805\",\"type\":\"VBar\"},\"selection_glyph\":null,\"view\":{\"id\":\"5f9ec220-2829-4e16-a7cb-1dd1545209e6\",\"type\":\"CDSView\"}},\"id\":\"bd38fdb9-d469-43b4-a1a6-ad264cd6ea9c\",\"type\":\"GlyphRenderer\"},{\"attributes\":{\"plot\":null,\"text\":\"Fruit Counts\"},\"id\":\"e55ecfbb-6b41-4ffc-bd52-80d5ba23b908\",\"type\":\"Title\"},{\"attributes\":{\"formatter\":{\"id\":\"4f80027a-6a86-432a-91d6-b182798c8b42\",\"type\":\"BasicTickFormatter\"},\"plot\":{\"id\":\"f429953c-97e3-48bc-96d4-90a0967ff00c\",\"subtype\":\"Figure\",\"type\":\"Plot\"},\"ticker\":{\"id\":\"764fde48-9094-42fc-9da8-7b42994bf0de\",\"type\":\"BasicTicker\"}},\"id\":\"ce6b9f41-e87a-4f61-9500-e5cc978366fc\",\"type\":\"LinearAxis\"},{\"attributes\":{},\"id\":\"4f80027a-6a86-432a-91d6-b182798c8b42\",\"type\":\"BasicTickFormatter\"},{\"attributes\":{},\"id\":\"3228cead-209b-4a69-978f-fbe6285804d1\",\"type\":\"CategoricalTicker\"},{\"attributes\":{},\"id\":\"e28d3d50-4f9a-426f-9a8d-06bcf822412f\",\"type\":\"CategoricalTickFormatter\"},{\"attributes\":{\"callback\":null,\"end\":9,\"start\":0},\"id\":\"dbf8a880-90d6-4552-8d52-6dc06488de92\",\"type\":\"DataRange1d\"},{\"attributes\":{},\"id\":\"764fde48-9094-42fc-9da8-7b42994bf0de\",\"type\":\"BasicTicker\"},{\"attributes\":{\"active_drag\":\"auto\",\"active_inspect\":\"auto\",\"active_scroll\":\"auto\",\"active_tap\":\"auto\",\"tools\":[{\"id\":\"df7aa167-bf1f-4aac-bf26-c56da15ddcc0\",\"type\":\"BoxZoomTool\"}]},\"id\":\"e90475f2-faa3-4e04-b9fa-92dcda2d2706\",\"type\":\"Toolbar\"}],\"root_ids\":[\"f429953c-97e3-48bc-96d4-90a0967ff00c\"]},\"title\":\"Bokeh Application\",\"version\":\"0.12.15\"}};\n",
       "  var render_items = [{\"docid\":\"ba2e75cc-9602-4be4-b58c-eff8bf5fb1dc\",\"elementid\":\"3bb460c6-d01c-4d89-a0f3-e2b344be5397\",\"modelid\":\"f429953c-97e3-48bc-96d4-90a0967ff00c\"}];\n",
       "  root.Bokeh.embed.embed_items_notebook(docs_json, render_items);\n",
       "\n",
       "  }\n",
       "  if (root.Bokeh !== undefined) {\n",
       "    embed_document(root);\n",
       "  } else {\n",
       "    var attempts = 0;\n",
       "    var timer = setInterval(function(root) {\n",
       "      if (root.Bokeh !== undefined) {\n",
       "        embed_document(root);\n",
       "        clearInterval(timer);\n",
       "      }\n",
       "      attempts++;\n",
       "      if (attempts > 100) {\n",
       "        console.log(\"Bokeh: ERROR: Unable to run BokehJS code because BokehJS library is missing\")\n",
       "        clearInterval(timer);\n",
       "      }\n",
       "    }, 10, root)\n",
       "  }\n",
       "})(window);"
      ],
      "application/vnd.bokehjs_exec.v0+json": ""
     },
     "metadata": {
      "application/vnd.bokehjs_exec.v0+json": {
       "id": "f429953c-97e3-48bc-96d4-90a0967ff00c"
      }
     },
     "output_type": "display_data"
    }
   ],
   "source": [
    "from bokeh.transform import factor_cmap, linear_cmap\n",
    "from bokeh.models import ColumnDataSource\n",
    "from bokeh.palettes import Spectral6, Set3, Viridis, RdBu\n",
    "# output_file(\"bar_colormapped.html\")\n",
    "\n",
    "fruits_range = ['Nectarines', 'Plums', 'Apples', 'Pears', 'Grapes', 'Strawberries']\n",
    "# fruits=['Apples', 'Pears', 'Nectarines', 'Plums', 'Grapes', 'Strawberries']\n",
    "counts = [5, 3, 4, 2, 4, 6]\n",
    "\n",
    "source = ColumnDataSource(data=dict(fruits=['Apples', 'Pears', 'Nectarines', 'Plums', 'Grapes', 'Strawberries'], counts=[5, 3, 4, 2, 4, 6]))\n",
    "\n",
    "p = figure(x_range=fruits_range, plot_height=350,  title=\"Fruit Counts\",tools=['box_zoom'])\n",
    "\n",
    "####\n",
    "# play with the 3 color palettes below\n",
    "#### \n",
    "\n",
    "# p.vbar(x='fruits', top='counts', width=0.9, source=source, legend=\"fruits\",\n",
    "#        line_color='white', fill_color=factor_cmap('fruits', palette=Spectral6, factors=fruits))\n",
    "\n",
    "# p.vbar(x='fruits', top='counts', width=0.9, source=source, legend=\"fruits\",\n",
    "#        line_color='white', fill_color=factor_cmap('fruits', palette=Set3[12], factors=fruits))\n",
    "\n",
    "p.vbar(x='fruits', top='counts', width=0.9, source=source, legend=\"fruits\",\n",
    "       line_color='white', fill_color=factor_cmap('fruits', palette=Viridis[11], factors=fruits_range))\n",
    "\n",
    "# p.vbar(x='fruits', top='counts', width=0.9, source=source, legend=\"counts\",\n",
    "#        line_color='white', fill_color=linear_cmap('counts', palette=RdBu[10], low=0, high=6))\n",
    "\n",
    "p.xgrid.grid_line_color = None\n",
    "p.y_range.start = 0\n",
    "p.y_range.end = 9\n",
    "p.legend.orientation = \"horizontal\"\n",
    "p.legend.location = \"top_center\"\n",
    "\n",
    "show(p)"
   ]
  },
  {
   "cell_type": "markdown",
   "metadata": {},
   "source": [
    "## <a id='color_viewer'></a>\n",
    "\n",
    "## Bokeh color viewer function\n",
    "\n",
    "\n",
    "####  [home](#home)"
   ]
  },
  {
   "cell_type": "code",
   "execution_count": 116,
   "metadata": {
    "collapsed": true
   },
   "outputs": [],
   "source": [
    "# pallette = Set3[12]\n",
    "# pallette = Viridis[11]\n",
    "\n",
    "def bokeh_color_viewer(pallette, to_show=True):\n",
    "    X = np.arange(len(pallette))\n",
    "    if isinstance(pallette, list):\n",
    "        colors = pallette\n",
    "        tags = [str(i) for i in np.arange(len(pallette))]\n",
    "    if isinstance(pallette, dict):\n",
    "        colors = list(pallette.values())\n",
    "        tags = list(pallette.keys())\n",
    "        \n",
    "    \n",
    "    source = ColumnDataSource(data=dict(\n",
    "        x = X,\n",
    "        y = np.zeros(len(colors)),\n",
    "        colors = colors,\n",
    "        desc = tags\n",
    "    ))\n",
    "\n",
    "    hover = HoverTool(tooltips = [\n",
    "        (\"color: \", \"@colors\"),\n",
    "        (\"desc: \", \"@desc\"),\n",
    "    ])\n",
    "\n",
    "\n",
    "    p = figure(plot_width=600, plot_height=100,  tools=[hover],\\\n",
    "               title=\"Bokeh color viewer\")\n",
    "    p.circle('x', 'y', size=25, fill_color ='colors',source=source,  line_color=None)\n",
    "    p.circle('x', 'y', size=25, fill_color ='colors',source=source,  line_color=None)\n",
    "    p.axis.major_label_text_color = None\n",
    "    p.axis.axis_line_color =None\n",
    "    p.axis.axis_label_text_color = None\n",
    "    p.axis.major_tick_line_color = None\n",
    "    p.axis.minor_tick_line_color = None\n",
    "    p.toolbar.logo = None\n",
    "    if to_show:\n",
    "        show(p)\n",
    "    else:\n",
    "        return p\n",
    "# p.grid.clear\n",
    "\n"
   ]
  },
  {
   "cell_type": "code",
   "execution_count": 117,
   "metadata": {},
   "outputs": [
    {
     "data": {
      "text/html": [
       "\n",
       "<div class=\"bk-root\">\n",
       "    <div class=\"bk-plotdiv\" id=\"a7c586ce-5075-4622-8083-69984c29107c\"></div>\n",
       "</div>"
      ]
     },
     "metadata": {},
     "output_type": "display_data"
    },
    {
     "data": {
      "application/javascript": [
       "(function(root) {\n",
       "  function embed_document(root) {\n",
       "    \n",
       "  var docs_json = {\"93919f7c-26cb-4ac6-9a6b-554adc63d6a3\":{\"roots\":{\"references\":[{\"attributes\":{},\"id\":\"0b8eb39d-e8de-443f-bfcf-5cd81b197336\",\"type\":\"BasicTickFormatter\"},{\"attributes\":{\"fill_alpha\":{\"value\":0.1},\"fill_color\":{\"value\":\"#1f77b4\"},\"line_alpha\":{\"value\":0.1},\"line_color\":{\"value\":\"#1f77b4\"},\"size\":{\"units\":\"screen\",\"value\":25},\"x\":{\"field\":\"x\"},\"y\":{\"field\":\"y\"}},\"id\":\"49c23c15-72ce-48a1-84d0-39462b4e4a36\",\"type\":\"Circle\"},{\"attributes\":{\"plot\":{\"id\":\"0b3d60ad-b42d-4d44-8edb-c4dd664d6777\",\"subtype\":\"Figure\",\"type\":\"Plot\"},\"ticker\":{\"id\":\"309bab51-ee7d-4cfc-b4ec-457ae09fa99e\",\"type\":\"BasicTicker\"}},\"id\":\"f1d46e05-1356-47d4-bce7-dff51b4a46f3\",\"type\":\"Grid\"},{\"attributes\":{\"below\":[{\"id\":\"8814df8f-18ee-4cb1-831c-3ef6eb997696\",\"type\":\"LinearAxis\"}],\"left\":[{\"id\":\"79943717-c3ed-4c5e-87d6-3dba5eaf2704\",\"type\":\"LinearAxis\"}],\"plot_height\":100,\"renderers\":[{\"id\":\"8814df8f-18ee-4cb1-831c-3ef6eb997696\",\"type\":\"LinearAxis\"},{\"id\":\"f1d46e05-1356-47d4-bce7-dff51b4a46f3\",\"type\":\"Grid\"},{\"id\":\"79943717-c3ed-4c5e-87d6-3dba5eaf2704\",\"type\":\"LinearAxis\"},{\"id\":\"15ad2d3c-5984-4869-b723-0a30deba278c\",\"type\":\"Grid\"},{\"id\":\"eb7219f4-feab-4cf5-aa10-430ce4f02db7\",\"type\":\"GlyphRenderer\"},{\"id\":\"b6171ad1-ec6a-4784-9339-5e8671253b73\",\"type\":\"GlyphRenderer\"}],\"title\":{\"id\":\"3f2c05c5-007c-42f6-ac84-23d02ed86f5b\",\"type\":\"Title\"},\"toolbar\":{\"id\":\"ae1b9fb0-8d2a-4759-a335-10c47050faaa\",\"type\":\"Toolbar\"},\"x_range\":{\"id\":\"3f9a2921-8a1f-470e-b6db-5311bbc7b9e1\",\"type\":\"DataRange1d\"},\"x_scale\":{\"id\":\"e930c3ef-4a1e-412e-b68d-db0a617c126f\",\"type\":\"LinearScale\"},\"y_range\":{\"id\":\"e173f1e0-eb76-41fe-8adb-141ff44d25c6\",\"type\":\"DataRange1d\"},\"y_scale\":{\"id\":\"4bc222e8-5aa4-4108-9a34-64f72685230c\",\"type\":\"LinearScale\"}},\"id\":\"0b3d60ad-b42d-4d44-8edb-c4dd664d6777\",\"subtype\":\"Figure\",\"type\":\"Plot\"},{\"attributes\":{},\"id\":\"309bab51-ee7d-4cfc-b4ec-457ae09fa99e\",\"type\":\"BasicTicker\"},{\"attributes\":{\"axis_label_text_color\":{\"value\":null},\"axis_line_color\":{\"value\":null},\"formatter\":{\"id\":\"0b8eb39d-e8de-443f-bfcf-5cd81b197336\",\"type\":\"BasicTickFormatter\"},\"major_label_text_color\":{\"value\":null},\"major_tick_line_color\":{\"value\":null},\"minor_tick_line_color\":{\"value\":null},\"plot\":{\"id\":\"0b3d60ad-b42d-4d44-8edb-c4dd664d6777\",\"subtype\":\"Figure\",\"type\":\"Plot\"},\"ticker\":{\"id\":\"f682d2c9-dc29-4274-9d7f-d37aa5a1977e\",\"type\":\"BasicTicker\"}},\"id\":\"79943717-c3ed-4c5e-87d6-3dba5eaf2704\",\"type\":\"LinearAxis\"},{\"attributes\":{\"source\":{\"id\":\"72b4043a-807d-4a25-aede-86f6743bcf45\",\"type\":\"ColumnDataSource\"}},\"id\":\"481a65a6-a6f0-45d3-ae0a-a0c2e4a89fcf\",\"type\":\"CDSView\"},{\"attributes\":{},\"id\":\"e930c3ef-4a1e-412e-b68d-db0a617c126f\",\"type\":\"LinearScale\"},{\"attributes\":{\"dimension\":1,\"plot\":{\"id\":\"0b3d60ad-b42d-4d44-8edb-c4dd664d6777\",\"subtype\":\"Figure\",\"type\":\"Plot\"},\"ticker\":{\"id\":\"f682d2c9-dc29-4274-9d7f-d37aa5a1977e\",\"type\":\"BasicTicker\"}},\"id\":\"15ad2d3c-5984-4869-b723-0a30deba278c\",\"type\":\"Grid\"},{\"attributes\":{},\"id\":\"4bc222e8-5aa4-4108-9a34-64f72685230c\",\"type\":\"LinearScale\"},{\"attributes\":{\"callback\":null},\"id\":\"3f9a2921-8a1f-470e-b6db-5311bbc7b9e1\",\"type\":\"DataRange1d\"},{\"attributes\":{\"data_source\":{\"id\":\"72b4043a-807d-4a25-aede-86f6743bcf45\",\"type\":\"ColumnDataSource\"},\"glyph\":{\"id\":\"fe3b07be-b896-4531-899e-1d338e98916c\",\"type\":\"Circle\"},\"hover_glyph\":null,\"muted_glyph\":null,\"nonselection_glyph\":{\"id\":\"6af30b34-d090-4639-9675-644f855e2428\",\"type\":\"Circle\"},\"selection_glyph\":null,\"view\":{\"id\":\"e850ce11-9c70-4517-9520-13154082c5cf\",\"type\":\"CDSView\"}},\"id\":\"b6171ad1-ec6a-4784-9339-5e8671253b73\",\"type\":\"GlyphRenderer\"},{\"attributes\":{\"callback\":null},\"id\":\"e173f1e0-eb76-41fe-8adb-141ff44d25c6\",\"type\":\"DataRange1d\"},{\"attributes\":{\"source\":{\"id\":\"72b4043a-807d-4a25-aede-86f6743bcf45\",\"type\":\"ColumnDataSource\"}},\"id\":\"e850ce11-9c70-4517-9520-13154082c5cf\",\"type\":\"CDSView\"},{\"attributes\":{\"active_drag\":\"auto\",\"active_inspect\":\"auto\",\"active_scroll\":\"auto\",\"active_tap\":\"auto\",\"logo\":null,\"tools\":[{\"id\":\"f232cee9-3f25-4ac6-b9d1-e38f7180335a\",\"type\":\"HoverTool\"}]},\"id\":\"ae1b9fb0-8d2a-4759-a335-10c47050faaa\",\"type\":\"Toolbar\"},{\"attributes\":{\"data_source\":{\"id\":\"72b4043a-807d-4a25-aede-86f6743bcf45\",\"type\":\"ColumnDataSource\"},\"glyph\":{\"id\":\"d80248a4-e263-4d14-a369-fe216c9a3d45\",\"type\":\"Circle\"},\"hover_glyph\":null,\"muted_glyph\":null,\"nonselection_glyph\":{\"id\":\"49c23c15-72ce-48a1-84d0-39462b4e4a36\",\"type\":\"Circle\"},\"selection_glyph\":null,\"view\":{\"id\":\"481a65a6-a6f0-45d3-ae0a-a0c2e4a89fcf\",\"type\":\"CDSView\"}},\"id\":\"eb7219f4-feab-4cf5-aa10-430ce4f02db7\",\"type\":\"GlyphRenderer\"},{\"attributes\":{\"axis_label_text_color\":{\"value\":null},\"axis_line_color\":{\"value\":null},\"formatter\":{\"id\":\"d7c51fc6-42ec-40d7-a0f2-4b7f2a1a035f\",\"type\":\"BasicTickFormatter\"},\"major_label_text_color\":{\"value\":null},\"major_tick_line_color\":{\"value\":null},\"minor_tick_line_color\":{\"value\":null},\"plot\":{\"id\":\"0b3d60ad-b42d-4d44-8edb-c4dd664d6777\",\"subtype\":\"Figure\",\"type\":\"Plot\"},\"ticker\":{\"id\":\"309bab51-ee7d-4cfc-b4ec-457ae09fa99e\",\"type\":\"BasicTicker\"}},\"id\":\"8814df8f-18ee-4cb1-831c-3ef6eb997696\",\"type\":\"LinearAxis\"},{\"attributes\":{\"fill_alpha\":{\"value\":0.1},\"fill_color\":{\"value\":\"#1f77b4\"},\"line_alpha\":{\"value\":0.1},\"line_color\":{\"value\":\"#1f77b4\"},\"size\":{\"units\":\"screen\",\"value\":25},\"x\":{\"field\":\"x\"},\"y\":{\"field\":\"y\"}},\"id\":\"6af30b34-d090-4639-9675-644f855e2428\",\"type\":\"Circle\"},{\"attributes\":{\"fill_color\":{\"field\":\"colors\"},\"line_color\":{\"value\":null},\"size\":{\"units\":\"screen\",\"value\":25},\"x\":{\"field\":\"x\"},\"y\":{\"field\":\"y\"}},\"id\":\"d80248a4-e263-4d14-a369-fe216c9a3d45\",\"type\":\"Circle\"},{\"attributes\":{},\"id\":\"d7c51fc6-42ec-40d7-a0f2-4b7f2a1a035f\",\"type\":\"BasicTickFormatter\"},{\"attributes\":{\"plot\":null,\"text\":\"Bokeh color viewer\"},\"id\":\"3f2c05c5-007c-42f6-ac84-23d02ed86f5b\",\"type\":\"Title\"},{\"attributes\":{\"callback\":null,\"tooltips\":[[\"color: \",\"@colors\"],[\"desc: \",\"@desc\"]]},\"id\":\"f232cee9-3f25-4ac6-b9d1-e38f7180335a\",\"type\":\"HoverTool\"},{\"attributes\":{},\"id\":\"f682d2c9-dc29-4274-9d7f-d37aa5a1977e\",\"type\":\"BasicTicker\"},{\"attributes\":{\"fill_color\":{\"field\":\"colors\"},\"line_color\":{\"value\":null},\"size\":{\"units\":\"screen\",\"value\":25},\"x\":{\"field\":\"x\"},\"y\":{\"field\":\"y\"}},\"id\":\"fe3b07be-b896-4531-899e-1d338e98916c\",\"type\":\"Circle\"},{\"attributes\":{\"callback\":null,\"column_names\":[\"y\",\"colors\",\"x\",\"desc\"],\"data\":{\"colors\":[\"#440154\",\"#482374\",\"#404387\",\"#345E8D\",\"#29788E\",\"#208F8C\",\"#22A784\",\"#42BE71\",\"#79D151\",\"#BADE27\",\"#FDE724\"],\"desc\":[\"0\",\"1\",\"2\",\"3\",\"4\",\"5\",\"6\",\"7\",\"8\",\"9\",\"10\"],\"x\":[0,1,2,3,4,5,6,7,8,9,10],\"y\":{\"__ndarray__\":\"AAAAAAAAAAAAAAAAAAAAAAAAAAAAAAAAAAAAAAAAAAAAAAAAAAAAAAAAAAAAAAAAAAAAAAAAAAAAAAAAAAAAAAAAAAAAAAAAAAAAAAAAAAAAAAAAAAAAAA==\",\"dtype\":\"float64\",\"shape\":[11]}},\"selected\":null,\"selection_policy\":null},\"id\":\"72b4043a-807d-4a25-aede-86f6743bcf45\",\"type\":\"ColumnDataSource\"}],\"root_ids\":[\"0b3d60ad-b42d-4d44-8edb-c4dd664d6777\"]},\"title\":\"Bokeh Application\",\"version\":\"0.12.15\"}};\n",
       "  var render_items = [{\"docid\":\"93919f7c-26cb-4ac6-9a6b-554adc63d6a3\",\"elementid\":\"a7c586ce-5075-4622-8083-69984c29107c\",\"modelid\":\"0b3d60ad-b42d-4d44-8edb-c4dd664d6777\"}];\n",
       "  root.Bokeh.embed.embed_items_notebook(docs_json, render_items);\n",
       "\n",
       "  }\n",
       "  if (root.Bokeh !== undefined) {\n",
       "    embed_document(root);\n",
       "  } else {\n",
       "    var attempts = 0;\n",
       "    var timer = setInterval(function(root) {\n",
       "      if (root.Bokeh !== undefined) {\n",
       "        embed_document(root);\n",
       "        clearInterval(timer);\n",
       "      }\n",
       "      attempts++;\n",
       "      if (attempts > 100) {\n",
       "        console.log(\"Bokeh: ERROR: Unable to run BokehJS code because BokehJS library is missing\")\n",
       "        clearInterval(timer);\n",
       "      }\n",
       "    }, 10, root)\n",
       "  }\n",
       "})(window);"
      ],
      "application/vnd.bokehjs_exec.v0+json": ""
     },
     "metadata": {
      "application/vnd.bokehjs_exec.v0+json": {
       "id": "0b3d60ad-b42d-4d44-8edb-c4dd664d6777"
      }
     },
     "output_type": "display_data"
    }
   ],
   "source": [
    "bokeh_color_viewer(Viridis[11])"
   ]
  },
  {
   "cell_type": "code",
   "execution_count": 118,
   "metadata": {},
   "outputs": [
    {
     "data": {
      "text/html": [
       "\n",
       "<div class=\"bk-root\">\n",
       "    <div class=\"bk-plotdiv\" id=\"5c0a31c7-7825-40f4-b641-b166d4bd2687\"></div>\n",
       "</div>"
      ]
     },
     "metadata": {},
     "output_type": "display_data"
    },
    {
     "data": {
      "application/javascript": [
       "(function(root) {\n",
       "  function embed_document(root) {\n",
       "    \n",
       "  var docs_json = {\"ed8b5889-4ec6-43e8-8ee1-4a5bec09db4a\":{\"roots\":{\"references\":[{\"attributes\":{},\"id\":\"67d7904d-aaed-42b9-88e4-79262802c382\",\"type\":\"BasicTickFormatter\"},{\"attributes\":{\"plot\":null,\"text\":\"Bokeh color viewer\"},\"id\":\"0543b6ba-c0c0-490b-85e0-71913704d38f\",\"type\":\"Title\"},{\"attributes\":{\"below\":[{\"id\":\"f64725c8-e335-43d4-ac2c-fe104c661427\",\"type\":\"LinearAxis\"}],\"left\":[{\"id\":\"bb0a5d6b-3d91-4747-84b7-a179d2d5eb0d\",\"type\":\"LinearAxis\"}],\"plot_height\":100,\"renderers\":[{\"id\":\"f64725c8-e335-43d4-ac2c-fe104c661427\",\"type\":\"LinearAxis\"},{\"id\":\"bb7ded2b-eea5-4010-9043-4682e8cfbbdd\",\"type\":\"Grid\"},{\"id\":\"bb0a5d6b-3d91-4747-84b7-a179d2d5eb0d\",\"type\":\"LinearAxis\"},{\"id\":\"7aa5f04c-f0f7-4304-82e3-7dfcbba588a5\",\"type\":\"Grid\"},{\"id\":\"cdc9da6e-2232-499a-8256-0c66fbe679fb\",\"type\":\"GlyphRenderer\"},{\"id\":\"e0499337-9a6d-46d1-a7fd-05dd82608408\",\"type\":\"GlyphRenderer\"}],\"title\":{\"id\":\"0543b6ba-c0c0-490b-85e0-71913704d38f\",\"type\":\"Title\"},\"toolbar\":{\"id\":\"e902a852-7b3f-4396-b7e5-5d3389c89887\",\"type\":\"Toolbar\"},\"x_range\":{\"id\":\"f30a65a8-2cee-46fa-9d95-1f93807e20da\",\"type\":\"DataRange1d\"},\"x_scale\":{\"id\":\"dc1f24ee-9914-4757-aa4e-dd859a4e3d40\",\"type\":\"LinearScale\"},\"y_range\":{\"id\":\"669bf2b8-0067-4703-a158-b3868f4de23d\",\"type\":\"DataRange1d\"},\"y_scale\":{\"id\":\"2e4f4db8-eb92-4eba-81c0-9313cfae3659\",\"type\":\"LinearScale\"}},\"id\":\"48adb5f4-97d5-44d1-b0ac-288571b55c49\",\"subtype\":\"Figure\",\"type\":\"Plot\"},{\"attributes\":{\"callback\":null},\"id\":\"f30a65a8-2cee-46fa-9d95-1f93807e20da\",\"type\":\"DataRange1d\"},{\"attributes\":{\"data_source\":{\"id\":\"5122d21d-c69f-4ec9-905a-50f852c5de51\",\"type\":\"ColumnDataSource\"},\"glyph\":{\"id\":\"985d0aa0-d730-4e1a-9045-1667af720b56\",\"type\":\"Circle\"},\"hover_glyph\":null,\"muted_glyph\":null,\"nonselection_glyph\":{\"id\":\"1844856d-08bf-4588-8d2e-3068a8968e10\",\"type\":\"Circle\"},\"selection_glyph\":null,\"view\":{\"id\":\"1e396357-78e2-4d4c-a134-bf683af6075b\",\"type\":\"CDSView\"}},\"id\":\"cdc9da6e-2232-499a-8256-0c66fbe679fb\",\"type\":\"GlyphRenderer\"},{\"attributes\":{\"fill_color\":{\"field\":\"colors\"},\"line_color\":{\"value\":null},\"size\":{\"units\":\"screen\",\"value\":25},\"x\":{\"field\":\"x\"},\"y\":{\"field\":\"y\"}},\"id\":\"89ad513d-82ae-4707-bc17-78cccc4e23ff\",\"type\":\"Circle\"},{\"attributes\":{\"fill_color\":{\"field\":\"colors\"},\"line_color\":{\"value\":null},\"size\":{\"units\":\"screen\",\"value\":25},\"x\":{\"field\":\"x\"},\"y\":{\"field\":\"y\"}},\"id\":\"985d0aa0-d730-4e1a-9045-1667af720b56\",\"type\":\"Circle\"},{\"attributes\":{\"plot\":{\"id\":\"48adb5f4-97d5-44d1-b0ac-288571b55c49\",\"subtype\":\"Figure\",\"type\":\"Plot\"},\"ticker\":{\"id\":\"e00f4af1-335d-4acd-b7ff-0b136da49157\",\"type\":\"BasicTicker\"}},\"id\":\"bb7ded2b-eea5-4010-9043-4682e8cfbbdd\",\"type\":\"Grid\"},{\"attributes\":{},\"id\":\"e00f4af1-335d-4acd-b7ff-0b136da49157\",\"type\":\"BasicTicker\"},{\"attributes\":{\"source\":{\"id\":\"5122d21d-c69f-4ec9-905a-50f852c5de51\",\"type\":\"ColumnDataSource\"}},\"id\":\"1e396357-78e2-4d4c-a134-bf683af6075b\",\"type\":\"CDSView\"},{\"attributes\":{\"callback\":null,\"tooltips\":[[\"color: \",\"@colors\"],[\"desc: \",\"@desc\"]]},\"id\":\"d50b36fb-e823-4f32-8353-29fa7ec3814f\",\"type\":\"HoverTool\"},{\"attributes\":{\"axis_label_text_color\":{\"value\":null},\"axis_line_color\":{\"value\":null},\"formatter\":{\"id\":\"24455804-c95f-44ff-8623-5db4f29ee483\",\"type\":\"BasicTickFormatter\"},\"major_label_text_color\":{\"value\":null},\"major_tick_line_color\":{\"value\":null},\"minor_tick_line_color\":{\"value\":null},\"plot\":{\"id\":\"48adb5f4-97d5-44d1-b0ac-288571b55c49\",\"subtype\":\"Figure\",\"type\":\"Plot\"},\"ticker\":{\"id\":\"d7a91169-598c-4bf8-9186-46e75abb6d09\",\"type\":\"BasicTicker\"}},\"id\":\"bb0a5d6b-3d91-4747-84b7-a179d2d5eb0d\",\"type\":\"LinearAxis\"},{\"attributes\":{\"dimension\":1,\"plot\":{\"id\":\"48adb5f4-97d5-44d1-b0ac-288571b55c49\",\"subtype\":\"Figure\",\"type\":\"Plot\"},\"ticker\":{\"id\":\"d7a91169-598c-4bf8-9186-46e75abb6d09\",\"type\":\"BasicTicker\"}},\"id\":\"7aa5f04c-f0f7-4304-82e3-7dfcbba588a5\",\"type\":\"Grid\"},{\"attributes\":{\"source\":{\"id\":\"5122d21d-c69f-4ec9-905a-50f852c5de51\",\"type\":\"ColumnDataSource\"}},\"id\":\"6c7b8429-3b42-4c57-9385-6b4ff5b4ce32\",\"type\":\"CDSView\"},{\"attributes\":{},\"id\":\"dc1f24ee-9914-4757-aa4e-dd859a4e3d40\",\"type\":\"LinearScale\"},{\"attributes\":{\"axis_label_text_color\":{\"value\":null},\"axis_line_color\":{\"value\":null},\"formatter\":{\"id\":\"67d7904d-aaed-42b9-88e4-79262802c382\",\"type\":\"BasicTickFormatter\"},\"major_label_text_color\":{\"value\":null},\"major_tick_line_color\":{\"value\":null},\"minor_tick_line_color\":{\"value\":null},\"plot\":{\"id\":\"48adb5f4-97d5-44d1-b0ac-288571b55c49\",\"subtype\":\"Figure\",\"type\":\"Plot\"},\"ticker\":{\"id\":\"e00f4af1-335d-4acd-b7ff-0b136da49157\",\"type\":\"BasicTicker\"}},\"id\":\"f64725c8-e335-43d4-ac2c-fe104c661427\",\"type\":\"LinearAxis\"},{\"attributes\":{},\"id\":\"d7a91169-598c-4bf8-9186-46e75abb6d09\",\"type\":\"BasicTicker\"},{\"attributes\":{\"active_drag\":\"auto\",\"active_inspect\":\"auto\",\"active_scroll\":\"auto\",\"active_tap\":\"auto\",\"logo\":null,\"tools\":[{\"id\":\"d50b36fb-e823-4f32-8353-29fa7ec3814f\",\"type\":\"HoverTool\"}]},\"id\":\"e902a852-7b3f-4396-b7e5-5d3389c89887\",\"type\":\"Toolbar\"},{\"attributes\":{\"data_source\":{\"id\":\"5122d21d-c69f-4ec9-905a-50f852c5de51\",\"type\":\"ColumnDataSource\"},\"glyph\":{\"id\":\"89ad513d-82ae-4707-bc17-78cccc4e23ff\",\"type\":\"Circle\"},\"hover_glyph\":null,\"muted_glyph\":null,\"nonselection_glyph\":{\"id\":\"4c5f5872-edbd-49dc-a9e3-e8720f1c2775\",\"type\":\"Circle\"},\"selection_glyph\":null,\"view\":{\"id\":\"6c7b8429-3b42-4c57-9385-6b4ff5b4ce32\",\"type\":\"CDSView\"}},\"id\":\"e0499337-9a6d-46d1-a7fd-05dd82608408\",\"type\":\"GlyphRenderer\"},{\"attributes\":{},\"id\":\"24455804-c95f-44ff-8623-5db4f29ee483\",\"type\":\"BasicTickFormatter\"},{\"attributes\":{\"fill_alpha\":{\"value\":0.1},\"fill_color\":{\"value\":\"#1f77b4\"},\"line_alpha\":{\"value\":0.1},\"line_color\":{\"value\":\"#1f77b4\"},\"size\":{\"units\":\"screen\",\"value\":25},\"x\":{\"field\":\"x\"},\"y\":{\"field\":\"y\"}},\"id\":\"1844856d-08bf-4588-8d2e-3068a8968e10\",\"type\":\"Circle\"},{\"attributes\":{},\"id\":\"2e4f4db8-eb92-4eba-81c0-9313cfae3659\",\"type\":\"LinearScale\"},{\"attributes\":{\"callback\":null},\"id\":\"669bf2b8-0067-4703-a158-b3868f4de23d\",\"type\":\"DataRange1d\"},{\"attributes\":{\"fill_alpha\":{\"value\":0.1},\"fill_color\":{\"value\":\"#1f77b4\"},\"line_alpha\":{\"value\":0.1},\"line_color\":{\"value\":\"#1f77b4\"},\"size\":{\"units\":\"screen\",\"value\":25},\"x\":{\"field\":\"x\"},\"y\":{\"field\":\"y\"}},\"id\":\"4c5f5872-edbd-49dc-a9e3-e8720f1c2775\",\"type\":\"Circle\"},{\"attributes\":{\"callback\":null,\"column_names\":[\"y\",\"colors\",\"x\",\"desc\"],\"data\":{\"colors\":[\"#8dd3c7\",\"#ffffb3\",\"#bebada\",\"#fb8072\",\"#80b1d3\",\"#fdb462\",\"#b3de69\",\"#fccde5\",\"#d9d9d9\",\"#bc80bd\",\"#ccebc5\",\"#ffed6f\",\"#3288bd\",\"#99d594\",\"#e6f598\",\"#fee08b\",\"#fc8d59\",\"#d53e4f\"],\"desc\":[\"0\",\"1\",\"2\",\"3\",\"4\",\"5\",\"6\",\"7\",\"8\",\"9\",\"10\",\"11\",\"12\",\"13\",\"14\",\"15\",\"16\",\"17\"],\"x\":[0,1,2,3,4,5,6,7,8,9,10,11,12,13,14,15,16,17],\"y\":{\"__ndarray__\":\"AAAAAAAAAAAAAAAAAAAAAAAAAAAAAAAAAAAAAAAAAAAAAAAAAAAAAAAAAAAAAAAAAAAAAAAAAAAAAAAAAAAAAAAAAAAAAAAAAAAAAAAAAAAAAAAAAAAAAAAAAAAAAAAAAAAAAAAAAAAAAAAAAAAAAAAAAAAAAAAAAAAAAAAAAAAAAAAAAAAAAAAAAAAAAAAA\",\"dtype\":\"float64\",\"shape\":[18]}},\"selected\":null,\"selection_policy\":null},\"id\":\"5122d21d-c69f-4ec9-905a-50f852c5de51\",\"type\":\"ColumnDataSource\"}],\"root_ids\":[\"48adb5f4-97d5-44d1-b0ac-288571b55c49\"]},\"title\":\"Bokeh Application\",\"version\":\"0.12.15\"}};\n",
       "  var render_items = [{\"docid\":\"ed8b5889-4ec6-43e8-8ee1-4a5bec09db4a\",\"elementid\":\"5c0a31c7-7825-40f4-b641-b166d4bd2687\",\"modelid\":\"48adb5f4-97d5-44d1-b0ac-288571b55c49\"}];\n",
       "  root.Bokeh.embed.embed_items_notebook(docs_json, render_items);\n",
       "\n",
       "  }\n",
       "  if (root.Bokeh !== undefined) {\n",
       "    embed_document(root);\n",
       "  } else {\n",
       "    var attempts = 0;\n",
       "    var timer = setInterval(function(root) {\n",
       "      if (root.Bokeh !== undefined) {\n",
       "        embed_document(root);\n",
       "        clearInterval(timer);\n",
       "      }\n",
       "      attempts++;\n",
       "      if (attempts > 100) {\n",
       "        console.log(\"Bokeh: ERROR: Unable to run BokehJS code because BokehJS library is missing\")\n",
       "        clearInterval(timer);\n",
       "      }\n",
       "    }, 10, root)\n",
       "  }\n",
       "})(window);"
      ],
      "application/vnd.bokehjs_exec.v0+json": ""
     },
     "metadata": {
      "application/vnd.bokehjs_exec.v0+json": {
       "id": "48adb5f4-97d5-44d1-b0ac-288571b55c49"
      }
     },
     "output_type": "display_data"
    }
   ],
   "source": [
    "p = bokeh_color_viewer(Set3[12]+ Spectral6, to_show=False)\n",
    "show(p)"
   ]
  },
  {
   "cell_type": "code",
   "execution_count": 119,
   "metadata": {},
   "outputs": [
    {
     "data": {
      "text/html": [
       "\n",
       "<div class=\"bk-root\">\n",
       "    <div class=\"bk-plotdiv\" id=\"4fbdbc16-64bb-4127-bc5e-dffc9173eb5b\"></div>\n",
       "</div>"
      ]
     },
     "metadata": {},
     "output_type": "display_data"
    },
    {
     "data": {
      "application/javascript": [
       "(function(root) {\n",
       "  function embed_document(root) {\n",
       "    \n",
       "  var docs_json = {\"e66bd3ca-fad2-4c0b-8993-f824895016f3\":{\"roots\":{\"references\":[{\"attributes\":{},\"id\":\"b9cdc2a4-a905-4956-8170-af3ea92de1c4\",\"type\":\"LinearScale\"},{\"attributes\":{\"fill_alpha\":{\"value\":0.1},\"fill_color\":{\"value\":\"#1f77b4\"},\"line_alpha\":{\"value\":0.1},\"line_color\":{\"value\":\"#1f77b4\"},\"size\":{\"units\":\"screen\",\"value\":25},\"x\":{\"field\":\"x\"},\"y\":{\"field\":\"y\"}},\"id\":\"fd4816bb-6506-41c6-9a1d-0e8d9af06431\",\"type\":\"Circle\"},{\"attributes\":{\"active_drag\":\"auto\",\"active_inspect\":\"auto\",\"active_scroll\":\"auto\",\"active_tap\":\"auto\",\"logo\":null,\"tools\":[{\"id\":\"3aacd83f-1ff1-4e38-a0f5-0250795b7140\",\"type\":\"HoverTool\"}]},\"id\":\"903af344-2547-4237-8819-eb49ffa99b57\",\"type\":\"Toolbar\"},{\"attributes\":{\"data_source\":{\"id\":\"89613c10-9c11-4da0-9e58-c9c3c2d23b26\",\"type\":\"ColumnDataSource\"},\"glyph\":{\"id\":\"12a1860f-85e8-4245-90e2-df75988e7786\",\"type\":\"Circle\"},\"hover_glyph\":null,\"muted_glyph\":null,\"nonselection_glyph\":{\"id\":\"df032225-d835-414f-bf03-f8a7fcee9689\",\"type\":\"Circle\"},\"selection_glyph\":null,\"view\":{\"id\":\"b25f4201-7207-47f7-9c17-aa94e182c547\",\"type\":\"CDSView\"}},\"id\":\"4c6a0d4f-3581-444c-a3ec-6de048938f3d\",\"type\":\"GlyphRenderer\"},{\"attributes\":{\"source\":{\"id\":\"89613c10-9c11-4da0-9e58-c9c3c2d23b26\",\"type\":\"ColumnDataSource\"}},\"id\":\"7b816fd5-6980-42af-b7f1-8c891994314c\",\"type\":\"CDSView\"},{\"attributes\":{},\"id\":\"b71b59fb-fca8-41fa-afb8-65a892235485\",\"type\":\"BasicTickFormatter\"},{\"attributes\":{},\"id\":\"b0bed0ab-2d5d-4a99-a1aa-ab5dd68c5850\",\"type\":\"LinearScale\"},{\"attributes\":{},\"id\":\"aaa527c1-2e2f-4913-9271-d28cf43b773e\",\"type\":\"BasicTicker\"},{\"attributes\":{\"fill_alpha\":{\"value\":0.1},\"fill_color\":{\"value\":\"#1f77b4\"},\"line_alpha\":{\"value\":0.1},\"line_color\":{\"value\":\"#1f77b4\"},\"size\":{\"units\":\"screen\",\"value\":25},\"x\":{\"field\":\"x\"},\"y\":{\"field\":\"y\"}},\"id\":\"df032225-d835-414f-bf03-f8a7fcee9689\",\"type\":\"Circle\"},{\"attributes\":{},\"id\":\"16cf405d-64f9-4bab-94cf-64cb37c3118e\",\"type\":\"BasicTicker\"},{\"attributes\":{\"callback\":null,\"column_names\":[\"y\",\"colors\",\"x\",\"desc\"],\"data\":{\"colors\":[\"#d53e4f\",\"#bc80bd\"],\"desc\":[\"apple\",\"grape\"],\"x\":[0,1],\"y\":{\"__ndarray__\":\"AAAAAAAAAAAAAAAAAAAAAA==\",\"dtype\":\"float64\",\"shape\":[2]}},\"selected\":null,\"selection_policy\":null},\"id\":\"89613c10-9c11-4da0-9e58-c9c3c2d23b26\",\"type\":\"ColumnDataSource\"},{\"attributes\":{\"callback\":null},\"id\":\"f9c48871-1862-42b1-a30a-66140c977e38\",\"type\":\"DataRange1d\"},{\"attributes\":{\"source\":{\"id\":\"89613c10-9c11-4da0-9e58-c9c3c2d23b26\",\"type\":\"ColumnDataSource\"}},\"id\":\"b25f4201-7207-47f7-9c17-aa94e182c547\",\"type\":\"CDSView\"},{\"attributes\":{\"axis_label_text_color\":{\"value\":null},\"axis_line_color\":{\"value\":null},\"formatter\":{\"id\":\"b71b59fb-fca8-41fa-afb8-65a892235485\",\"type\":\"BasicTickFormatter\"},\"major_label_text_color\":{\"value\":null},\"major_tick_line_color\":{\"value\":null},\"minor_tick_line_color\":{\"value\":null},\"plot\":{\"id\":\"3afba34e-5bfc-477e-9b8f-26a38b04886c\",\"subtype\":\"Figure\",\"type\":\"Plot\"},\"ticker\":{\"id\":\"aaa527c1-2e2f-4913-9271-d28cf43b773e\",\"type\":\"BasicTicker\"}},\"id\":\"131ff61f-a892-4b30-ae15-f389e1b13e89\",\"type\":\"LinearAxis\"},{\"attributes\":{\"axis_label_text_color\":{\"value\":null},\"axis_line_color\":{\"value\":null},\"formatter\":{\"id\":\"c8b1f75e-11c5-415f-9754-011eaa346cb5\",\"type\":\"BasicTickFormatter\"},\"major_label_text_color\":{\"value\":null},\"major_tick_line_color\":{\"value\":null},\"minor_tick_line_color\":{\"value\":null},\"plot\":{\"id\":\"3afba34e-5bfc-477e-9b8f-26a38b04886c\",\"subtype\":\"Figure\",\"type\":\"Plot\"},\"ticker\":{\"id\":\"16cf405d-64f9-4bab-94cf-64cb37c3118e\",\"type\":\"BasicTicker\"}},\"id\":\"d9c5cf63-de0d-498c-9db0-1fa853abdca5\",\"type\":\"LinearAxis\"},{\"attributes\":{\"data_source\":{\"id\":\"89613c10-9c11-4da0-9e58-c9c3c2d23b26\",\"type\":\"ColumnDataSource\"},\"glyph\":{\"id\":\"94b23bc9-4d81-4028-8505-f10500e76d62\",\"type\":\"Circle\"},\"hover_glyph\":null,\"muted_glyph\":null,\"nonselection_glyph\":{\"id\":\"fd4816bb-6506-41c6-9a1d-0e8d9af06431\",\"type\":\"Circle\"},\"selection_glyph\":null,\"view\":{\"id\":\"7b816fd5-6980-42af-b7f1-8c891994314c\",\"type\":\"CDSView\"}},\"id\":\"8e59e5be-1bf7-49b6-b3e4-f416e5b8ce15\",\"type\":\"GlyphRenderer\"},{\"attributes\":{\"plot\":{\"id\":\"3afba34e-5bfc-477e-9b8f-26a38b04886c\",\"subtype\":\"Figure\",\"type\":\"Plot\"},\"ticker\":{\"id\":\"16cf405d-64f9-4bab-94cf-64cb37c3118e\",\"type\":\"BasicTicker\"}},\"id\":\"6734fa67-6f25-4bff-bff1-8d07eaf19abe\",\"type\":\"Grid\"},{\"attributes\":{\"dimension\":1,\"plot\":{\"id\":\"3afba34e-5bfc-477e-9b8f-26a38b04886c\",\"subtype\":\"Figure\",\"type\":\"Plot\"},\"ticker\":{\"id\":\"aaa527c1-2e2f-4913-9271-d28cf43b773e\",\"type\":\"BasicTicker\"}},\"id\":\"a82fe292-8449-498f-8507-abed17be05d0\",\"type\":\"Grid\"},{\"attributes\":{\"callback\":null},\"id\":\"84c29e04-69c9-4a82-8a4a-bc61c2449118\",\"type\":\"DataRange1d\"},{\"attributes\":{\"fill_color\":{\"field\":\"colors\"},\"line_color\":{\"value\":null},\"size\":{\"units\":\"screen\",\"value\":25},\"x\":{\"field\":\"x\"},\"y\":{\"field\":\"y\"}},\"id\":\"12a1860f-85e8-4245-90e2-df75988e7786\",\"type\":\"Circle\"},{\"attributes\":{\"below\":[{\"id\":\"d9c5cf63-de0d-498c-9db0-1fa853abdca5\",\"type\":\"LinearAxis\"}],\"left\":[{\"id\":\"131ff61f-a892-4b30-ae15-f389e1b13e89\",\"type\":\"LinearAxis\"}],\"plot_height\":100,\"renderers\":[{\"id\":\"d9c5cf63-de0d-498c-9db0-1fa853abdca5\",\"type\":\"LinearAxis\"},{\"id\":\"6734fa67-6f25-4bff-bff1-8d07eaf19abe\",\"type\":\"Grid\"},{\"id\":\"131ff61f-a892-4b30-ae15-f389e1b13e89\",\"type\":\"LinearAxis\"},{\"id\":\"a82fe292-8449-498f-8507-abed17be05d0\",\"type\":\"Grid\"},{\"id\":\"4c6a0d4f-3581-444c-a3ec-6de048938f3d\",\"type\":\"GlyphRenderer\"},{\"id\":\"8e59e5be-1bf7-49b6-b3e4-f416e5b8ce15\",\"type\":\"GlyphRenderer\"}],\"title\":{\"id\":\"bb4ba7c1-c2bc-4314-925c-793f11ca3911\",\"type\":\"Title\"},\"toolbar\":{\"id\":\"903af344-2547-4237-8819-eb49ffa99b57\",\"type\":\"Toolbar\"},\"x_range\":{\"id\":\"84c29e04-69c9-4a82-8a4a-bc61c2449118\",\"type\":\"DataRange1d\"},\"x_scale\":{\"id\":\"b0bed0ab-2d5d-4a99-a1aa-ab5dd68c5850\",\"type\":\"LinearScale\"},\"y_range\":{\"id\":\"f9c48871-1862-42b1-a30a-66140c977e38\",\"type\":\"DataRange1d\"},\"y_scale\":{\"id\":\"b9cdc2a4-a905-4956-8170-af3ea92de1c4\",\"type\":\"LinearScale\"}},\"id\":\"3afba34e-5bfc-477e-9b8f-26a38b04886c\",\"subtype\":\"Figure\",\"type\":\"Plot\"},{\"attributes\":{\"plot\":null,\"text\":\"Bokeh color viewer\"},\"id\":\"bb4ba7c1-c2bc-4314-925c-793f11ca3911\",\"type\":\"Title\"},{\"attributes\":{\"callback\":null,\"tooltips\":[[\"color: \",\"@colors\"],[\"desc: \",\"@desc\"]]},\"id\":\"3aacd83f-1ff1-4e38-a0f5-0250795b7140\",\"type\":\"HoverTool\"},{\"attributes\":{},\"id\":\"c8b1f75e-11c5-415f-9754-011eaa346cb5\",\"type\":\"BasicTickFormatter\"},{\"attributes\":{\"fill_color\":{\"field\":\"colors\"},\"line_color\":{\"value\":null},\"size\":{\"units\":\"screen\",\"value\":25},\"x\":{\"field\":\"x\"},\"y\":{\"field\":\"y\"}},\"id\":\"94b23bc9-4d81-4028-8505-f10500e76d62\",\"type\":\"Circle\"}],\"root_ids\":[\"3afba34e-5bfc-477e-9b8f-26a38b04886c\"]},\"title\":\"Bokeh Application\",\"version\":\"0.12.15\"}};\n",
       "  var render_items = [{\"docid\":\"e66bd3ca-fad2-4c0b-8993-f824895016f3\",\"elementid\":\"4fbdbc16-64bb-4127-bc5e-dffc9173eb5b\",\"modelid\":\"3afba34e-5bfc-477e-9b8f-26a38b04886c\"}];\n",
       "  root.Bokeh.embed.embed_items_notebook(docs_json, render_items);\n",
       "\n",
       "  }\n",
       "  if (root.Bokeh !== undefined) {\n",
       "    embed_document(root);\n",
       "  } else {\n",
       "    var attempts = 0;\n",
       "    var timer = setInterval(function(root) {\n",
       "      if (root.Bokeh !== undefined) {\n",
       "        embed_document(root);\n",
       "        clearInterval(timer);\n",
       "      }\n",
       "      attempts++;\n",
       "      if (attempts > 100) {\n",
       "        console.log(\"Bokeh: ERROR: Unable to run BokehJS code because BokehJS library is missing\")\n",
       "        clearInterval(timer);\n",
       "      }\n",
       "    }, 10, root)\n",
       "  }\n",
       "})(window);"
      ],
      "application/vnd.bokehjs_exec.v0+json": ""
     },
     "metadata": {
      "application/vnd.bokehjs_exec.v0+json": {
       "id": "3afba34e-5bfc-477e-9b8f-26a38b04886c"
      }
     },
     "output_type": "display_data"
    }
   ],
   "source": [
    "# making a color dictionary\n",
    "colormap = {'grape': Set3[12][9], 'apple': Spectral6[5]}\n",
    "bokeh_color_viewer(colormap)"
   ]
  },
  {
   "cell_type": "code",
   "execution_count": 120,
   "metadata": {},
   "outputs": [
    {
     "data": {
      "text/plain": [
       "['apple', 'grape']"
      ]
     },
     "execution_count": 120,
     "metadata": {},
     "output_type": "execute_result"
    }
   ],
   "source": [
    "list(colormap.keys())"
   ]
  },
  {
   "cell_type": "markdown",
   "metadata": {},
   "source": [
    "## <a id='scatter'></a>\n",
    "\n",
    "## Scatterplots (hover); circle (sizes; color; alpha); range-padding\n",
    "\n",
    "####  [home](#home)"
   ]
  },
  {
   "cell_type": "code",
   "execution_count": 121,
   "metadata": {
    "scrolled": false
   },
   "outputs": [
    {
     "data": {
      "text/html": [
       "\n",
       "<div class=\"bk-root\">\n",
       "    <div class=\"bk-plotdiv\" id=\"1671c635-a5fb-4941-a8b7-d4e6a608e1e3\"></div>\n",
       "</div>"
      ]
     },
     "metadata": {},
     "output_type": "display_data"
    },
    {
     "data": {
      "application/javascript": [
       "(function(root) {\n",
       "  function embed_document(root) {\n",
       "    \n",
       "  var docs_json = {\"af3acbf9-980f-44d7-bda1-87f1d965938a\":{\"roots\":{\"references\":[{\"attributes\":{},\"id\":\"f3ca1258-1213-4865-8a2f-705dc54fbe4e\",\"type\":\"BasicTicker\"},{\"attributes\":{\"formatter\":{\"id\":\"11b91db0-4c3a-4cdb-87df-98cfe938825b\",\"type\":\"BasicTickFormatter\"},\"plot\":{\"id\":\"88b3a2fb-313b-4bab-87f9-c1be6a6947c2\",\"subtype\":\"Figure\",\"type\":\"Plot\"},\"ticker\":{\"id\":\"e3746479-25d1-44d2-b6fd-d30f9204ebdb\",\"type\":\"BasicTicker\"}},\"id\":\"7d9f602e-3158-4039-b71b-c0d6269addec\",\"type\":\"LinearAxis\"},{\"attributes\":{},\"id\":\"c389ab0f-f773-4fcb-9d0f-9a34f209e1c4\",\"type\":\"ResetTool\"},{\"attributes\":{\"overlay\":{\"id\":\"5179c260-84df-450a-8b2b-341045773fa4\",\"type\":\"BoxAnnotation\"}},\"id\":\"da3ff4a2-aee1-48d5-9f50-805414a68830\",\"type\":\"BoxZoomTool\"},{\"attributes\":{\"active_drag\":\"auto\",\"active_inspect\":\"auto\",\"active_scroll\":\"auto\",\"active_tap\":\"auto\",\"tools\":[{\"id\":\"75e20ace-bafe-4f2b-870b-8ca4e53467b9\",\"type\":\"HoverTool\"},{\"id\":\"da3ff4a2-aee1-48d5-9f50-805414a68830\",\"type\":\"BoxZoomTool\"},{\"id\":\"c389ab0f-f773-4fcb-9d0f-9a34f209e1c4\",\"type\":\"ResetTool\"}]},\"id\":\"1fe4ff90-4a26-4405-99a9-b9f5e513746c\",\"type\":\"Toolbar\"},{\"attributes\":{},\"id\":\"e3746479-25d1-44d2-b6fd-d30f9204ebdb\",\"type\":\"BasicTicker\"},{\"attributes\":{\"data_source\":{\"id\":\"1ced55c7-99bd-447d-84ab-defe7b4bbeb2\",\"type\":\"ColumnDataSource\"},\"glyph\":{\"id\":\"9d9a826c-772e-4faa-975f-eb171237b99a\",\"type\":\"Circle\"},\"hover_glyph\":null,\"muted_glyph\":null,\"nonselection_glyph\":{\"id\":\"635d6215-ae70-4419-9f2a-fbf18d4333ea\",\"type\":\"Circle\"},\"selection_glyph\":null,\"view\":{\"id\":\"785dcfda-bb29-4d00-b6ab-dcd4472afec9\",\"type\":\"CDSView\"}},\"id\":\"f494d0e5-af1b-4c34-aa05-8d2564599272\",\"type\":\"GlyphRenderer\"},{\"attributes\":{\"callback\":null,\"range_padding\":0.3},\"id\":\"dbe07478-fc39-4968-8d03-c6d4cac6007a\",\"type\":\"DataRange1d\"},{\"attributes\":{\"callback\":null,\"range_padding\":0.3},\"id\":\"0a51c6d2-fb2d-41fe-9dee-ab861f1c6701\",\"type\":\"DataRange1d\"},{\"attributes\":{},\"id\":\"a92dd511-397d-4b00-a919-baabb74d2280\",\"type\":\"LinearScale\"},{\"attributes\":{\"plot\":{\"id\":\"88b3a2fb-313b-4bab-87f9-c1be6a6947c2\",\"subtype\":\"Figure\",\"type\":\"Plot\"},\"ticker\":{\"id\":\"f3ca1258-1213-4865-8a2f-705dc54fbe4e\",\"type\":\"BasicTicker\"}},\"id\":\"c5e72615-cf66-4d2d-a590-1750377eb184\",\"type\":\"Grid\"},{\"attributes\":{\"formatter\":{\"id\":\"32efe23d-cef8-4c4d-849a-918444839f6a\",\"type\":\"BasicTickFormatter\"},\"plot\":{\"id\":\"88b3a2fb-313b-4bab-87f9-c1be6a6947c2\",\"subtype\":\"Figure\",\"type\":\"Plot\"},\"ticker\":{\"id\":\"f3ca1258-1213-4865-8a2f-705dc54fbe4e\",\"type\":\"BasicTicker\"}},\"id\":\"e30772da-8092-4ccb-af8e-defc8eee4c63\",\"type\":\"LinearAxis\"},{\"attributes\":{\"fill_alpha\":{\"value\":0.1},\"fill_color\":{\"value\":\"#1f77b4\"},\"line_alpha\":{\"value\":0.1},\"line_color\":{\"value\":\"#1f77b4\"},\"size\":{\"field\":\"sizes\",\"units\":\"screen\"},\"x\":{\"field\":\"x\"},\"y\":{\"field\":\"y\"}},\"id\":\"635d6215-ae70-4419-9f2a-fbf18d4333ea\",\"type\":\"Circle\"},{\"attributes\":{},\"id\":\"32efe23d-cef8-4c4d-849a-918444839f6a\",\"type\":\"BasicTickFormatter\"},{\"attributes\":{},\"id\":\"6007da6b-9263-4f21-a350-9738b9dbc6e1\",\"type\":\"LinearScale\"},{\"attributes\":{\"plot\":null,\"text\":\"Mouse over the dots\"},\"id\":\"026eed3f-7df7-4d5c-acb3-561ba639e166\",\"type\":\"Title\"},{\"attributes\":{},\"id\":\"11b91db0-4c3a-4cdb-87df-98cfe938825b\",\"type\":\"BasicTickFormatter\"},{\"attributes\":{\"callback\":null,\"tooltips\":[[\"index\",\"$index\"],[\"(x,y)\",\"($x, $y)\"],[\"desc\",\"@desc\"]]},\"id\":\"75e20ace-bafe-4f2b-870b-8ca4e53467b9\",\"type\":\"HoverTool\"},{\"attributes\":{\"below\":[{\"id\":\"e30772da-8092-4ccb-af8e-defc8eee4c63\",\"type\":\"LinearAxis\"}],\"left\":[{\"id\":\"7d9f602e-3158-4039-b71b-c0d6269addec\",\"type\":\"LinearAxis\"}],\"plot_height\":400,\"plot_width\":400,\"renderers\":[{\"id\":\"e30772da-8092-4ccb-af8e-defc8eee4c63\",\"type\":\"LinearAxis\"},{\"id\":\"c5e72615-cf66-4d2d-a590-1750377eb184\",\"type\":\"Grid\"},{\"id\":\"7d9f602e-3158-4039-b71b-c0d6269addec\",\"type\":\"LinearAxis\"},{\"id\":\"40abe5c9-75ec-4a2f-8e68-292ba98a8cbf\",\"type\":\"Grid\"},{\"id\":\"5179c260-84df-450a-8b2b-341045773fa4\",\"type\":\"BoxAnnotation\"},{\"id\":\"f494d0e5-af1b-4c34-aa05-8d2564599272\",\"type\":\"GlyphRenderer\"}],\"title\":{\"id\":\"026eed3f-7df7-4d5c-acb3-561ba639e166\",\"type\":\"Title\"},\"toolbar\":{\"id\":\"1fe4ff90-4a26-4405-99a9-b9f5e513746c\",\"type\":\"Toolbar\"},\"x_range\":{\"id\":\"dbe07478-fc39-4968-8d03-c6d4cac6007a\",\"type\":\"DataRange1d\"},\"x_scale\":{\"id\":\"6007da6b-9263-4f21-a350-9738b9dbc6e1\",\"type\":\"LinearScale\"},\"y_range\":{\"id\":\"0a51c6d2-fb2d-41fe-9dee-ab861f1c6701\",\"type\":\"DataRange1d\"},\"y_scale\":{\"id\":\"a92dd511-397d-4b00-a919-baabb74d2280\",\"type\":\"LinearScale\"}},\"id\":\"88b3a2fb-313b-4bab-87f9-c1be6a6947c2\",\"subtype\":\"Figure\",\"type\":\"Plot\"},{\"attributes\":{\"source\":{\"id\":\"1ced55c7-99bd-447d-84ab-defe7b4bbeb2\",\"type\":\"ColumnDataSource\"}},\"id\":\"785dcfda-bb29-4d00-b6ab-dcd4472afec9\",\"type\":\"CDSView\"},{\"attributes\":{\"callback\":null,\"column_names\":[\"sizes\",\"y\",\"colors\",\"x\",\"desc\"],\"data\":{\"colors\":[\"#A18790\",\"#008790\",\"#A10090\",\"#248F40\",\"#558700\"],\"desc\":[\"A\",\"b\",\"C\",\"d\",\"E\"],\"sizes\":[20,50,80,20,70],\"x\":[1,2,3,4,5],\"y\":[2,5,8,2,7]},\"selected\":null,\"selection_policy\":null},\"id\":\"1ced55c7-99bd-447d-84ab-defe7b4bbeb2\",\"type\":\"ColumnDataSource\"},{\"attributes\":{\"bottom_units\":\"screen\",\"fill_alpha\":{\"value\":0.5},\"fill_color\":{\"value\":\"lightgrey\"},\"left_units\":\"screen\",\"level\":\"overlay\",\"line_alpha\":{\"value\":1.0},\"line_color\":{\"value\":\"black\"},\"line_dash\":[4,4],\"line_width\":{\"value\":2},\"plot\":null,\"render_mode\":\"css\",\"right_units\":\"screen\",\"top_units\":\"screen\"},\"id\":\"5179c260-84df-450a-8b2b-341045773fa4\",\"type\":\"BoxAnnotation\"},{\"attributes\":{\"dimension\":1,\"plot\":{\"id\":\"88b3a2fb-313b-4bab-87f9-c1be6a6947c2\",\"subtype\":\"Figure\",\"type\":\"Plot\"},\"ticker\":{\"id\":\"e3746479-25d1-44d2-b6fd-d30f9204ebdb\",\"type\":\"BasicTicker\"}},\"id\":\"40abe5c9-75ec-4a2f-8e68-292ba98a8cbf\",\"type\":\"Grid\"},{\"attributes\":{\"fill_alpha\":{\"value\":0.6},\"fill_color\":{\"field\":\"colors\"},\"line_color\":{\"value\":null},\"size\":{\"field\":\"sizes\",\"units\":\"screen\"},\"x\":{\"field\":\"x\"},\"y\":{\"field\":\"y\"}},\"id\":\"9d9a826c-772e-4faa-975f-eb171237b99a\",\"type\":\"Circle\"}],\"root_ids\":[\"88b3a2fb-313b-4bab-87f9-c1be6a6947c2\"]},\"title\":\"Bokeh Application\",\"version\":\"0.12.15\"}};\n",
       "  var render_items = [{\"docid\":\"af3acbf9-980f-44d7-bda1-87f1d965938a\",\"elementid\":\"1671c635-a5fb-4941-a8b7-d4e6a608e1e3\",\"modelid\":\"88b3a2fb-313b-4bab-87f9-c1be6a6947c2\"}];\n",
       "  root.Bokeh.embed.embed_items_notebook(docs_json, render_items);\n",
       "\n",
       "  }\n",
       "  if (root.Bokeh !== undefined) {\n",
       "    embed_document(root);\n",
       "  } else {\n",
       "    var attempts = 0;\n",
       "    var timer = setInterval(function(root) {\n",
       "      if (root.Bokeh !== undefined) {\n",
       "        embed_document(root);\n",
       "        clearInterval(timer);\n",
       "      }\n",
       "      attempts++;\n",
       "      if (attempts > 100) {\n",
       "        console.log(\"Bokeh: ERROR: Unable to run BokehJS code because BokehJS library is missing\")\n",
       "        clearInterval(timer);\n",
       "      }\n",
       "    }, 10, root)\n",
       "  }\n",
       "})(window);"
      ],
      "application/vnd.bokehjs_exec.v0+json": ""
     },
     "metadata": {
      "application/vnd.bokehjs_exec.v0+json": {
       "id": "88b3a2fb-313b-4bab-87f9-c1be6a6947c2"
      }
     },
     "output_type": "display_data"
    }
   ],
   "source": [
    "from bokeh.plotting import figure, output_file, show, ColumnDataSource\n",
    "\n",
    "# output_file(\"toolbar.html\")\n",
    "\n",
    "source = ColumnDataSource(data=dict(\n",
    "    x=[1, 2, 3, 4, 5],\n",
    "    y=[2, 5, 8, 2, 7],\n",
    "    sizes = [20, 50, 80, 20, 70],\n",
    "    colors = ['#A18790','#008790','#A10090','#248F40','#558700'],\n",
    "    desc=['A', 'b', 'C', 'd', 'E'],\n",
    "))\n",
    "\n",
    "hover = HoverTool(tooltips = [\n",
    "    (\"index\", \"$index\"),\n",
    "    (\"(x,y)\", \"($x, $y)\"),\n",
    "    (\"desc\", \"@desc\"),\n",
    "])\n",
    "\n",
    "p = figure(plot_width=400, plot_height=400,  tools=[hover, 'box_zoom','reset'],\n",
    "           title=\"Mouse over the dots\")\n",
    "\n",
    "# p.circle('x', 'y', size=20, source=source)\n",
    "p.circle('x', 'y', size='sizes', fill_color ='colors',source=source, fill_alpha =0.6, line_color=None)\n",
    "p.y_range.range_padding = 0.3\n",
    "p.x_range.range_padding = 0.3\n",
    "show(p)"
   ]
  },
  {
   "cell_type": "markdown",
   "metadata": {
    "heading_collapsed": true
   },
   "source": [
    "## <a id='pandas'></a>\n",
    "\n",
    "\n",
    "## Starting from pandas dataframe (font size; label orientation)\n",
    "\n",
    "####  [home](#home)"
   ]
  },
  {
   "cell_type": "code",
   "execution_count": 122,
   "metadata": {
    "collapsed": true,
    "hidden": true,
    "scrolled": false
   },
   "outputs": [],
   "source": [
    "import pandas as pd\n",
    "import numpy as np\n",
    "import random"
   ]
  },
  {
   "cell_type": "markdown",
   "metadata": {
    "hidden": true
   },
   "source": [
    "[Human name generater](https://www.fantasynamegenerators.com/dnd-human-names.php)"
   ]
  },
  {
   "cell_type": "code",
   "execution_count": 123,
   "metadata": {
    "collapsed": true,
    "hidden": true,
    "scrolled": false
   },
   "outputs": [],
   "source": [
    "fruits = pd.DataFrame(data= ['Zubeim', 'Musen', 'Hegred', 'Vinkam', 'Girgof', 'Glom', 'Steman', 'Tath', 'Vodam-Kof',\\\n",
    "                            'Thi-Deur', 'Brotvoozold', 'Toph', 'Telmooc', 'Ay Han', 'Hiow', 'Vimbirti', 'Grunchain',\\\n",
    "                            'Vokrod', 'Khumud', 'Nodgil', 'Sterth', 'Mojah', 'Chie Nin','Zozer','Nesk'],\n",
    "                      columns=['name'])\n",
    "fruit_list = ['Apples', 'Pears', 'Nectarines', 'Plums', 'Grapes', 'Strawberries']\n",
    "fruits['fruit'] = fruits['name'].apply(lambda x: random.choice(fruit_list))\n",
    "fruits['score'] = fruits['name'].apply(lambda x: random.choice([0,1,2,3,4,5,6,7,8,9,10]))"
   ]
  },
  {
   "cell_type": "code",
   "execution_count": 124,
   "metadata": {
    "hidden": true,
    "scrolled": false
   },
   "outputs": [
    {
     "data": {
      "text/html": [
       "<div>\n",
       "<style scoped>\n",
       "    .dataframe tbody tr th:only-of-type {\n",
       "        vertical-align: middle;\n",
       "    }\n",
       "\n",
       "    .dataframe tbody tr th {\n",
       "        vertical-align: top;\n",
       "    }\n",
       "\n",
       "    .dataframe thead th {\n",
       "        text-align: right;\n",
       "    }\n",
       "</style>\n",
       "<table border=\"1\" class=\"dataframe\">\n",
       "  <thead>\n",
       "    <tr style=\"text-align: right;\">\n",
       "      <th></th>\n",
       "      <th>name</th>\n",
       "      <th>fruit</th>\n",
       "      <th>score</th>\n",
       "    </tr>\n",
       "  </thead>\n",
       "  <tbody>\n",
       "    <tr>\n",
       "      <th>0</th>\n",
       "      <td>Zubeim</td>\n",
       "      <td>Grapes</td>\n",
       "      <td>9</td>\n",
       "    </tr>\n",
       "    <tr>\n",
       "      <th>1</th>\n",
       "      <td>Musen</td>\n",
       "      <td>Pears</td>\n",
       "      <td>0</td>\n",
       "    </tr>\n",
       "    <tr>\n",
       "      <th>2</th>\n",
       "      <td>Hegred</td>\n",
       "      <td>Nectarines</td>\n",
       "      <td>5</td>\n",
       "    </tr>\n",
       "  </tbody>\n",
       "</table>\n",
       "</div>"
      ],
      "text/plain": [
       "     name       fruit  score\n",
       "0  Zubeim      Grapes      9\n",
       "1   Musen       Pears      0\n",
       "2  Hegred  Nectarines      5"
      ]
     },
     "execution_count": 124,
     "metadata": {},
     "output_type": "execute_result"
    }
   ],
   "source": [
    "fruits.head(3)"
   ]
  },
  {
   "cell_type": "code",
   "execution_count": 125,
   "metadata": {
    "collapsed": true,
    "hidden": true,
    "scrolled": false
   },
   "outputs": [],
   "source": [
    "def list_to_string(list_in, sep = '\\n'):\n",
    "    string = ''\n",
    "    for n in list_in[:-1]:\n",
    "        string = string + n + sep\n",
    "    string = string + list_in[-1]\n",
    "    return string"
   ]
  },
  {
   "cell_type": "code",
   "execution_count": 126,
   "metadata": {
    "collapsed": true,
    "hidden": true,
    "scrolled": false
   },
   "outputs": [],
   "source": [
    "fruit_stat = fruits.groupby('fruit').count()\n",
    "fruit_stat.reset_index(inplace=True)\n",
    "fruit_stat.rename(index=str, columns={\"name\": \"counts\"},inplace=True)\n",
    "fruit_stat['names']= fruit_stat['fruit'].apply(lambda x: list(fruits[fruits['fruit'] == x]['name']))"
   ]
  },
  {
   "cell_type": "code",
   "execution_count": 127,
   "metadata": {
    "collapsed": true,
    "hidden": true,
    "scrolled": false
   },
   "outputs": [],
   "source": [
    "fruit_stat['names_string'] = fruit_stat['names'].apply(list_to_string, sep='; ')"
   ]
  },
  {
   "cell_type": "code",
   "execution_count": 128,
   "metadata": {
    "hidden": true,
    "scrolled": false
   },
   "outputs": [
    {
     "data": {
      "text/html": [
       "<div>\n",
       "<style scoped>\n",
       "    .dataframe tbody tr th:only-of-type {\n",
       "        vertical-align: middle;\n",
       "    }\n",
       "\n",
       "    .dataframe tbody tr th {\n",
       "        vertical-align: top;\n",
       "    }\n",
       "\n",
       "    .dataframe thead th {\n",
       "        text-align: right;\n",
       "    }\n",
       "</style>\n",
       "<table border=\"1\" class=\"dataframe\">\n",
       "  <thead>\n",
       "    <tr style=\"text-align: right;\">\n",
       "      <th></th>\n",
       "      <th>fruit</th>\n",
       "      <th>counts</th>\n",
       "      <th>score</th>\n",
       "      <th>names</th>\n",
       "      <th>names_string</th>\n",
       "    </tr>\n",
       "  </thead>\n",
       "  <tbody>\n",
       "    <tr>\n",
       "      <th>0</th>\n",
       "      <td>Apples</td>\n",
       "      <td>4</td>\n",
       "      <td>4</td>\n",
       "      <td>[Glom, Steman, Hiow, Sterth]</td>\n",
       "      <td>Glom; Steman; Hiow; Sterth</td>\n",
       "    </tr>\n",
       "    <tr>\n",
       "      <th>1</th>\n",
       "      <td>Grapes</td>\n",
       "      <td>8</td>\n",
       "      <td>8</td>\n",
       "      <td>[Zubeim, Vodam-Kof, Brotvoozold, Toph, Gruncha...</td>\n",
       "      <td>Zubeim; Vodam-Kof; Brotvoozold; Toph; Grunchai...</td>\n",
       "    </tr>\n",
       "    <tr>\n",
       "      <th>2</th>\n",
       "      <td>Nectarines</td>\n",
       "      <td>3</td>\n",
       "      <td>3</td>\n",
       "      <td>[Hegred, Thi-Deur, Ay Han]</td>\n",
       "      <td>Hegred; Thi-Deur; Ay Han</td>\n",
       "    </tr>\n",
       "    <tr>\n",
       "      <th>3</th>\n",
       "      <td>Pears</td>\n",
       "      <td>5</td>\n",
       "      <td>5</td>\n",
       "      <td>[Musen, Girgof, Tath, Nodgil, Nesk]</td>\n",
       "      <td>Musen; Girgof; Tath; Nodgil; Nesk</td>\n",
       "    </tr>\n",
       "    <tr>\n",
       "      <th>4</th>\n",
       "      <td>Plums</td>\n",
       "      <td>3</td>\n",
       "      <td>3</td>\n",
       "      <td>[Vinkam, Telmooc, Chie Nin]</td>\n",
       "      <td>Vinkam; Telmooc; Chie Nin</td>\n",
       "    </tr>\n",
       "    <tr>\n",
       "      <th>5</th>\n",
       "      <td>Strawberries</td>\n",
       "      <td>2</td>\n",
       "      <td>2</td>\n",
       "      <td>[Vimbirti, Zozer]</td>\n",
       "      <td>Vimbirti; Zozer</td>\n",
       "    </tr>\n",
       "  </tbody>\n",
       "</table>\n",
       "</div>"
      ],
      "text/plain": [
       "          fruit  counts  score  \\\n",
       "0        Apples       4      4   \n",
       "1        Grapes       8      8   \n",
       "2    Nectarines       3      3   \n",
       "3         Pears       5      5   \n",
       "4         Plums       3      3   \n",
       "5  Strawberries       2      2   \n",
       "\n",
       "                                               names  \\\n",
       "0                       [Glom, Steman, Hiow, Sterth]   \n",
       "1  [Zubeim, Vodam-Kof, Brotvoozold, Toph, Gruncha...   \n",
       "2                         [Hegred, Thi-Deur, Ay Han]   \n",
       "3                [Musen, Girgof, Tath, Nodgil, Nesk]   \n",
       "4                        [Vinkam, Telmooc, Chie Nin]   \n",
       "5                                  [Vimbirti, Zozer]   \n",
       "\n",
       "                                        names_string  \n",
       "0                         Glom; Steman; Hiow; Sterth  \n",
       "1  Zubeim; Vodam-Kof; Brotvoozold; Toph; Grunchai...  \n",
       "2                           Hegred; Thi-Deur; Ay Han  \n",
       "3                  Musen; Girgof; Tath; Nodgil; Nesk  \n",
       "4                          Vinkam; Telmooc; Chie Nin  \n",
       "5                                    Vimbirti; Zozer  "
      ]
     },
     "execution_count": 128,
     "metadata": {},
     "output_type": "execute_result"
    }
   ],
   "source": [
    "fruit_stat"
   ]
  },
  {
   "cell_type": "code",
   "execution_count": 129,
   "metadata": {
    "hidden": true,
    "scrolled": false
   },
   "outputs": [
    {
     "data": {
      "text/html": [
       "\n",
       "<div class=\"bk-root\">\n",
       "    <div class=\"bk-plotdiv\" id=\"7e929938-af13-437c-a809-a07dbbde58f5\"></div>\n",
       "</div>"
      ]
     },
     "metadata": {},
     "output_type": "display_data"
    },
    {
     "data": {
      "application/javascript": [
       "(function(root) {\n",
       "  function embed_document(root) {\n",
       "    \n",
       "  var docs_json = {\"cdb01635-6204-45ef-913b-fa85f25d1d57\":{\"roots\":{\"references\":[{\"attributes\":{\"factors\":[\"Apples\",\"Grapes\",\"Nectarines\",\"Pears\",\"Plums\",\"Strawberries\"],\"palette\":[\"#3288bd\",\"#99d594\",\"#e6f598\",\"#fee08b\",\"#fc8d59\",\"#d53e4f\"]},\"id\":\"9698b7d7-af8c-4339-bb66-5a46ee690500\",\"type\":\"CategoricalColorMapper\"},{\"attributes\":{\"grid_line_color\":{\"value\":null},\"plot\":{\"id\":\"e1415844-1f90-486e-b54a-52b0e927ccef\",\"subtype\":\"Figure\",\"type\":\"Plot\"},\"ticker\":{\"id\":\"7baa1ce8-33b4-4029-8a27-f4c90a1b8aab\",\"type\":\"CategoricalTicker\"}},\"id\":\"f557f471-fcd6-44b0-b9ac-12c11ea8b5f0\",\"type\":\"Grid\"},{\"attributes\":{},\"id\":\"c14a1b06-92e8-42fd-8e1a-61bfa0ed45fd\",\"type\":\"CategoricalScale\"},{\"attributes\":{\"callback\":null,\"factors\":[\"Apples\",\"Grapes\",\"Nectarines\",\"Pears\",\"Plums\",\"Strawberries\"]},\"id\":\"91f5771e-560d-4511-a48a-666f0cae8851\",\"type\":\"FactorRange\"},{\"attributes\":{},\"id\":\"b26be116-4e2d-43ec-a71d-a761c1c93a9c\",\"type\":\"BasicTickFormatter\"},{\"attributes\":{\"active_drag\":\"auto\",\"active_inspect\":\"auto\",\"active_scroll\":\"auto\",\"active_tap\":\"auto\",\"tools\":[{\"id\":\"274550d3-a3a2-4add-9747-061d7f1fde5f\",\"type\":\"HoverTool\"},{\"id\":\"6880c33e-0389-4cb7-97fe-52158f13aa60\",\"type\":\"BoxZoomTool\"},{\"id\":\"a0b1a54e-d72f-4679-afa6-fa9ccf168a93\",\"type\":\"ResetTool\"}]},\"id\":\"c1944171-c7c4-46d3-89ea-974c66107d99\",\"type\":\"Toolbar\"},{\"attributes\":{\"source\":{\"id\":\"ac24faf6-3d88-4b9b-9328-459aeaed4f67\",\"type\":\"ColumnDataSource\"}},\"id\":\"5f0510c3-bba0-4ae2-bc03-4cdf44e9935a\",\"type\":\"CDSView\"},{\"attributes\":{\"callback\":null,\"column_names\":[\"names\",\"counts\",\"fruits\"],\"data\":{\"counts\":[4,8,3,5,3,2],\"fruits\":[\"Apples\",\"Grapes\",\"Nectarines\",\"Pears\",\"Plums\",\"Strawberries\"],\"names\":[\"Glom; Steman; Hiow; Sterth\",\"Zubeim; Vodam-Kof; Brotvoozold; Toph; Grunchain; Vokrod; Khumud; Mojah\",\"Hegred; Thi-Deur; Ay Han\",\"Musen; Girgof; Tath; Nodgil; Nesk\",\"Vinkam; Telmooc; Chie Nin\",\"Vimbirti; Zozer\"]},\"selected\":null,\"selection_policy\":null},\"id\":\"ac24faf6-3d88-4b9b-9328-459aeaed4f67\",\"type\":\"ColumnDataSource\"},{\"attributes\":{\"fill_color\":{\"field\":\"fruits\",\"transform\":{\"id\":\"9698b7d7-af8c-4339-bb66-5a46ee690500\",\"type\":\"CategoricalColorMapper\"}},\"line_color\":{\"value\":\"white\"},\"top\":{\"field\":\"counts\"},\"width\":{\"value\":0.9},\"x\":{\"field\":\"fruits\"}},\"id\":\"33cd8db3-e864-4e07-a3c6-7d1aa2d0ae98\",\"type\":\"VBar\"},{\"attributes\":{\"dimension\":1,\"plot\":{\"id\":\"e1415844-1f90-486e-b54a-52b0e927ccef\",\"subtype\":\"Figure\",\"type\":\"Plot\"},\"ticker\":{\"id\":\"2e2dd80d-03d9-4e40-ab07-32af75fbc21f\",\"type\":\"BasicTicker\"}},\"id\":\"a67a07c8-179f-42a0-ab90-09ebcbbb8bea\",\"type\":\"Grid\"},{\"attributes\":{\"fill_alpha\":{\"value\":0.1},\"fill_color\":{\"value\":\"#1f77b4\"},\"line_alpha\":{\"value\":0.1},\"line_color\":{\"value\":\"#1f77b4\"},\"top\":{\"field\":\"counts\"},\"width\":{\"value\":0.9},\"x\":{\"field\":\"fruits\"}},\"id\":\"6dff28ef-5fa7-40d5-9a65-9342d818fcc1\",\"type\":\"VBar\"},{\"attributes\":{\"overlay\":{\"id\":\"033be22f-4b03-4531-bfb5-1a186aeb2f4b\",\"type\":\"BoxAnnotation\"}},\"id\":\"6880c33e-0389-4cb7-97fe-52158f13aa60\",\"type\":\"BoxZoomTool\"},{\"attributes\":{\"bottom_units\":\"screen\",\"fill_alpha\":{\"value\":0.5},\"fill_color\":{\"value\":\"lightgrey\"},\"left_units\":\"screen\",\"level\":\"overlay\",\"line_alpha\":{\"value\":1.0},\"line_color\":{\"value\":\"black\"},\"line_dash\":[4,4],\"line_width\":{\"value\":2},\"plot\":null,\"render_mode\":\"css\",\"right_units\":\"screen\",\"top_units\":\"screen\"},\"id\":\"033be22f-4b03-4531-bfb5-1a186aeb2f4b\",\"type\":\"BoxAnnotation\"},{\"attributes\":{},\"id\":\"b52c88d9-9f6e-4407-997d-f10e09d1a805\",\"type\":\"LinearScale\"},{\"attributes\":{\"formatter\":{\"id\":\"b26be116-4e2d-43ec-a71d-a761c1c93a9c\",\"type\":\"BasicTickFormatter\"},\"plot\":{\"id\":\"e1415844-1f90-486e-b54a-52b0e927ccef\",\"subtype\":\"Figure\",\"type\":\"Plot\"},\"ticker\":{\"id\":\"2e2dd80d-03d9-4e40-ab07-32af75fbc21f\",\"type\":\"BasicTicker\"}},\"id\":\"ceeaa3c0-186b-44f3-b166-d89566d21bc4\",\"type\":\"LinearAxis\"},{\"attributes\":{\"below\":[{\"id\":\"ad68afad-0c2a-4882-bb63-00e9bd8b9531\",\"type\":\"CategoricalAxis\"}],\"left\":[{\"id\":\"ceeaa3c0-186b-44f3-b166-d89566d21bc4\",\"type\":\"LinearAxis\"}],\"plot_height\":350,\"renderers\":[{\"id\":\"ad68afad-0c2a-4882-bb63-00e9bd8b9531\",\"type\":\"CategoricalAxis\"},{\"id\":\"f557f471-fcd6-44b0-b9ac-12c11ea8b5f0\",\"type\":\"Grid\"},{\"id\":\"ceeaa3c0-186b-44f3-b166-d89566d21bc4\",\"type\":\"LinearAxis\"},{\"id\":\"a67a07c8-179f-42a0-ab90-09ebcbbb8bea\",\"type\":\"Grid\"},{\"id\":\"033be22f-4b03-4531-bfb5-1a186aeb2f4b\",\"type\":\"BoxAnnotation\"},{\"id\":\"90b1b44d-6c9f-461c-bc03-f92385ec83a7\",\"type\":\"GlyphRenderer\"}],\"title\":{\"id\":\"015e6591-ff88-4b26-aaa0-7f6c555b5565\",\"type\":\"Title\"},\"toolbar\":{\"id\":\"c1944171-c7c4-46d3-89ea-974c66107d99\",\"type\":\"Toolbar\"},\"x_range\":{\"id\":\"91f5771e-560d-4511-a48a-666f0cae8851\",\"type\":\"FactorRange\"},\"x_scale\":{\"id\":\"c14a1b06-92e8-42fd-8e1a-61bfa0ed45fd\",\"type\":\"CategoricalScale\"},\"y_range\":{\"id\":\"be089f5a-f579-40f2-a877-d17ef50dad57\",\"type\":\"DataRange1d\"},\"y_scale\":{\"id\":\"b52c88d9-9f6e-4407-997d-f10e09d1a805\",\"type\":\"LinearScale\"}},\"id\":\"e1415844-1f90-486e-b54a-52b0e927ccef\",\"subtype\":\"Figure\",\"type\":\"Plot\"},{\"attributes\":{},\"id\":\"2e2dd80d-03d9-4e40-ab07-32af75fbc21f\",\"type\":\"BasicTicker\"},{\"attributes\":{\"formatter\":{\"id\":\"686776c2-4ce6-484f-8d6f-21a7a293183e\",\"type\":\"CategoricalTickFormatter\"},\"major_label_orientation\":0.6,\"major_label_text_font_size\":{\"value\":\"1.2em\"},\"plot\":{\"id\":\"e1415844-1f90-486e-b54a-52b0e927ccef\",\"subtype\":\"Figure\",\"type\":\"Plot\"},\"ticker\":{\"id\":\"7baa1ce8-33b4-4029-8a27-f4c90a1b8aab\",\"type\":\"CategoricalTicker\"}},\"id\":\"ad68afad-0c2a-4882-bb63-00e9bd8b9531\",\"type\":\"CategoricalAxis\"},{\"attributes\":{\"callback\":null,\"tooltips\":[[\"counts\",\"@counts\"],[\"who\",\"@names\"]]},\"id\":\"274550d3-a3a2-4add-9747-061d7f1fde5f\",\"type\":\"HoverTool\"},{\"attributes\":{},\"id\":\"a0b1a54e-d72f-4679-afa6-fa9ccf168a93\",\"type\":\"ResetTool\"},{\"attributes\":{\"data_source\":{\"id\":\"ac24faf6-3d88-4b9b-9328-459aeaed4f67\",\"type\":\"ColumnDataSource\"},\"glyph\":{\"id\":\"33cd8db3-e864-4e07-a3c6-7d1aa2d0ae98\",\"type\":\"VBar\"},\"hover_glyph\":null,\"muted_glyph\":null,\"nonselection_glyph\":{\"id\":\"6dff28ef-5fa7-40d5-9a65-9342d818fcc1\",\"type\":\"VBar\"},\"selection_glyph\":null,\"view\":{\"id\":\"5f0510c3-bba0-4ae2-bc03-4cdf44e9935a\",\"type\":\"CDSView\"}},\"id\":\"90b1b44d-6c9f-461c-bc03-f92385ec83a7\",\"type\":\"GlyphRenderer\"},{\"attributes\":{},\"id\":\"686776c2-4ce6-484f-8d6f-21a7a293183e\",\"type\":\"CategoricalTickFormatter\"},{\"attributes\":{\"callback\":null,\"start\":0},\"id\":\"be089f5a-f579-40f2-a877-d17ef50dad57\",\"type\":\"DataRange1d\"},{\"attributes\":{\"plot\":null,\"text\":\"Fruit Counts\",\"text_color\":{\"value\":\"salmon\"},\"text_font_size\":{\"value\":\"2em\"}},\"id\":\"015e6591-ff88-4b26-aaa0-7f6c555b5565\",\"type\":\"Title\"},{\"attributes\":{},\"id\":\"7baa1ce8-33b4-4029-8a27-f4c90a1b8aab\",\"type\":\"CategoricalTicker\"}],\"root_ids\":[\"e1415844-1f90-486e-b54a-52b0e927ccef\"]},\"title\":\"Bokeh Application\",\"version\":\"0.12.15\"}};\n",
       "  var render_items = [{\"docid\":\"cdb01635-6204-45ef-913b-fa85f25d1d57\",\"elementid\":\"7e929938-af13-437c-a809-a07dbbde58f5\",\"modelid\":\"e1415844-1f90-486e-b54a-52b0e927ccef\"}];\n",
       "  root.Bokeh.embed.embed_items_notebook(docs_json, render_items);\n",
       "\n",
       "  }\n",
       "  if (root.Bokeh !== undefined) {\n",
       "    embed_document(root);\n",
       "  } else {\n",
       "    var attempts = 0;\n",
       "    var timer = setInterval(function(root) {\n",
       "      if (root.Bokeh !== undefined) {\n",
       "        embed_document(root);\n",
       "        clearInterval(timer);\n",
       "      }\n",
       "      attempts++;\n",
       "      if (attempts > 100) {\n",
       "        console.log(\"Bokeh: ERROR: Unable to run BokehJS code because BokehJS library is missing\")\n",
       "        clearInterval(timer);\n",
       "      }\n",
       "    }, 10, root)\n",
       "  }\n",
       "})(window);"
      ],
      "application/vnd.bokehjs_exec.v0+json": ""
     },
     "metadata": {
      "application/vnd.bokehjs_exec.v0+json": {
       "id": "e1415844-1f90-486e-b54a-52b0e927ccef"
      }
     },
     "output_type": "display_data"
    }
   ],
   "source": [
    "from bokeh.transform import factor_cmap, linear_cmap\n",
    "from bokeh.models import ColumnDataSource\n",
    "from bokeh.palettes import Spectral6, Set3, Viridis, RdBu\n",
    "\n",
    "fruits=list(fruit_stat['fruit'])\n",
    "source = ColumnDataSource(data=dict(fruits=list(fruit_stat['fruit']), \n",
    "                                    counts= list(fruit_stat['counts']),\n",
    "                                    names = list(fruit_stat['names_string'])))\n",
    "\n",
    "hover = HoverTool(tooltips = [\n",
    "    (\"counts\", \"@counts\"),\n",
    "    (\"who\", \"@names\")\n",
    "])\n",
    "\n",
    "p = figure(x_range=list(fruit_stat['fruit']), plot_height=350, title=\"Fruit Counts\",tools=[hover, 'box_zoom','reset'])\n",
    "\n",
    "p.vbar(x='fruits', top='counts', width=0.9, source=source, \\\n",
    "       line_color='white', fill_color=factor_cmap('fruits', palette=Spectral6, factors=fruits))\n",
    "p.xgrid.grid_line_color = None\n",
    "p.y_range.start = 0\n",
    "p.xaxis.major_label_text_font_size = '1.2em'\n",
    "p.xaxis.major_label_orientation = 0.6\n",
    "p.title.text_font_size = '2em'\n",
    "p.title.text_color = 'salmon'\n",
    "\n",
    "show(p)"
   ]
  },
  {
   "cell_type": "markdown",
   "metadata": {
    "heading_collapsed": true
   },
   "source": [
    "## <a id='pandas-widgets'></a>\n",
    "\n",
    "## Pandas example with widgets sliders\n",
    "\n",
    "#### [HOME](#home)"
   ]
  },
  {
   "cell_type": "code",
   "execution_count": 130,
   "metadata": {
    "collapsed": true,
    "hidden": true,
    "scrolled": false
   },
   "outputs": [],
   "source": [
    "import pandas as pd\n",
    "import numpy as np"
   ]
  },
  {
   "cell_type": "code",
   "execution_count": 131,
   "metadata": {
    "collapsed": true,
    "hidden": true,
    "scrolled": false
   },
   "outputs": [],
   "source": [
    "fruits = pd.DataFrame(data= ['Zubeim', 'Musen', 'Hegred', 'Vinkam', 'Girgof', 'Glom', 'Steman', 'Tath', 'Vodam-Kof',\\\n",
    "                            'Thi-Deur', 'Brotvoozold', 'Toph', 'Telmooc', 'Ay Han', 'Hiow', 'Vimbirti', 'Grunchain',\\\n",
    "                            'Vokrod', 'Khumud', 'Nodgil', 'Sterth', 'Mojah', 'Chie Nin','Zozer','Nesk'],\n",
    "                      columns=['name'])\n",
    "fruit_list = ['Apples', 'Pears', 'Nectarines', 'Plums', 'Grapes', 'Strawberries']\n",
    "fruits['fruit'] = fruits['name'].apply(lambda x: random.choice(fruit_list))\n",
    "fruits['score'] = fruits['name'].apply(lambda x: random.choice([0,1,2,3,4,5,6,7,8,9,10]))"
   ]
  },
  {
   "cell_type": "code",
   "execution_count": 132,
   "metadata": {
    "hidden": true,
    "scrolled": false
   },
   "outputs": [
    {
     "data": {
      "text/html": [
       "\n",
       "<div class=\"bk-root\">\n",
       "    <div class=\"bk-plotdiv\" id=\"3db79d42-a59e-41ba-b9d1-507d05c3b335\"></div>\n",
       "</div>"
      ]
     },
     "metadata": {},
     "output_type": "display_data"
    },
    {
     "data": {
      "application/javascript": [
       "(function(root) {\n",
       "  function embed_document(root) {\n",
       "    \n",
       "  var docs_json = {\"c8f49a8a-0c5d-4970-a1fa-4f134ac020ac\":{\"roots\":{\"references\":[{\"attributes\":{\"overlay\":{\"id\":\"3c0ecad6-62b5-4f26-bccd-96ffd533123a\",\"type\":\"BoxAnnotation\"}},\"id\":\"7a409171-3a54-4b12-be60-81c89bb3add4\",\"type\":\"BoxZoomTool\"},{\"attributes\":{\"fill_color\":{\"field\":\"color\"},\"line_color\":{\"field\":\"color\"},\"size\":{\"units\":\"screen\",\"value\":20},\"x\":{\"field\":\"x\"},\"y\":{\"field\":\"y\"}},\"id\":\"20a9b84b-487d-44d8-9bd2-1e479ee75e7c\",\"type\":\"Circle\"},{\"attributes\":{\"callback\":null,\"column_names\":[\"fruit\",\"y0\",\"color0\",\"y\",\"color\",\"x0\",\"x\"],\"data\":{\"color\":[\"salmon\",\"salmon\",\"salmon\",\"salmon\",\"salmon\",\"salmon\",\"salmon\",\"salmon\",\"salmon\",\"salmon\",\"salmon\",\"salmon\",\"salmon\",\"salmon\",\"salmon\",\"salmon\",\"salmon\",\"salmon\",\"salmon\",\"salmon\",\"salmon\",\"salmon\",\"salmon\",\"salmon\",\"salmon\"],\"color0\":[\"salmon\",\"salmon\",\"salmon\",\"salmon\",\"salmon\",\"salmon\",\"salmon\",\"salmon\",\"salmon\",\"salmon\",\"salmon\",\"salmon\",\"salmon\",\"salmon\",\"salmon\",\"salmon\",\"salmon\",\"salmon\",\"salmon\",\"salmon\",\"salmon\",\"salmon\",\"salmon\",\"salmon\",\"salmon\"],\"fruit\":[\"Strawberries\",\"Strawberries\",\"Apples\",\"Nectarines\",\"Strawberries\",\"Grapes\",\"Grapes\",\"Apples\",\"Pears\",\"Grapes\",\"Apples\",\"Nectarines\",\"Plums\",\"Nectarines\",\"Grapes\",\"Apples\",\"Grapes\",\"Nectarines\",\"Plums\",\"Plums\",\"Apples\",\"Pears\",\"Plums\",\"Apples\",\"Plums\"],\"x\":[\"Zubeim\",\"Musen\",\"Hegred\",\"Vinkam\",\"Girgof\",\"Glom\",\"Steman\",\"Tath\",\"Vodam-Kof\",\"Thi-Deur\",\"Brotvoozold\",\"Toph\",\"Telmooc\",\"Ay Han\",\"Hiow\",\"Vimbirti\",\"Grunchain\",\"Vokrod\",\"Khumud\",\"Nodgil\",\"Sterth\",\"Mojah\",\"Chie Nin\",\"Zozer\",\"Nesk\"],\"x0\":[\"Zubeim\",\"Musen\",\"Hegred\",\"Vinkam\",\"Girgof\",\"Glom\",\"Steman\",\"Tath\",\"Vodam-Kof\",\"Thi-Deur\",\"Brotvoozold\",\"Toph\",\"Telmooc\",\"Ay Han\",\"Hiow\",\"Vimbirti\",\"Grunchain\",\"Vokrod\",\"Khumud\",\"Nodgil\",\"Sterth\",\"Mojah\",\"Chie Nin\",\"Zozer\",\"Nesk\"],\"y\":[1,0,2,9,10,9,2,9,8,5,0,6,7,5,6,5,5,8,3,4,3,7,5,0,2],\"y0\":[1,0,2,9,10,9,2,9,8,5,0,6,7,5,6,5,5,8,3,4,3,7,5,0,2]},\"selected\":null,\"selection_policy\":null},\"id\":\"5598c03b-6a0e-4b30-a7ff-1073f3188112\",\"type\":\"ColumnDataSource\"},{\"attributes\":{\"active_drag\":\"auto\",\"active_inspect\":\"auto\",\"active_scroll\":\"auto\",\"active_tap\":\"auto\",\"tools\":[{\"id\":\"9e7f2401-c385-45a2-8812-f63f5ff2434a\",\"type\":\"PanTool\"},{\"id\":\"d264f1f0-8233-49b6-89f8-407c4b535ab6\",\"type\":\"WheelZoomTool\"},{\"id\":\"7a409171-3a54-4b12-be60-81c89bb3add4\",\"type\":\"BoxZoomTool\"},{\"id\":\"536cad3c-af6a-4c6f-91d2-c12ee44b12a7\",\"type\":\"SaveTool\"},{\"id\":\"ad7ba93d-3a06-4c88-bce7-739f83857eda\",\"type\":\"ResetTool\"},{\"id\":\"049fcf0d-5faf-4e42-9e9d-d3adf83e4ad2\",\"type\":\"HelpTool\"}]},\"id\":\"cfe6e228-3efc-45e2-b686-738812348bc8\",\"type\":\"Toolbar\"},{\"attributes\":{\"callback\":{\"id\":\"cd69df2b-621f-4b68-bb2d-96b8a1cb126e\",\"type\":\"CustomJS\"},\"title\":\"Change color\",\"value\":\"Apples\"},\"id\":\"fe87ac73-6fa3-4adc-9891-1caa141fe049\",\"type\":\"TextInput\"},{\"attributes\":{\"children\":[{\"id\":\"f80da241-8e83-455b-a583-29ea54a8417e\",\"subtype\":\"Figure\",\"type\":\"Plot\"},{\"id\":\"fcafa607-1832-4454-a205-aac7af3548fa\",\"type\":\"WidgetBox\"}]},\"id\":\"269f897e-27af-43ab-a421-c2943fa20b49\",\"type\":\"Row\"},{\"attributes\":{},\"id\":\"9e7f2401-c385-45a2-8812-f63f5ff2434a\",\"type\":\"PanTool\"},{\"attributes\":{\"formatter\":{\"id\":\"d2992df9-99c9-45ab-8474-e8931d602c55\",\"type\":\"BasicTickFormatter\"},\"plot\":{\"id\":\"f80da241-8e83-455b-a583-29ea54a8417e\",\"subtype\":\"Figure\",\"type\":\"Plot\"},\"ticker\":{\"id\":\"cae8b024-eb53-4c2b-a940-dd9cb3dd1f86\",\"type\":\"BasicTicker\"}},\"id\":\"40d22570-4264-4218-ac4c-746fb843ee0e\",\"type\":\"LinearAxis\"},{\"attributes\":{\"bottom_units\":\"screen\",\"fill_alpha\":{\"value\":0.5},\"fill_color\":{\"value\":\"lightgrey\"},\"left_units\":\"screen\",\"level\":\"overlay\",\"line_alpha\":{\"value\":1.0},\"line_color\":{\"value\":\"black\"},\"line_dash\":[4,4],\"line_width\":{\"value\":2},\"plot\":null,\"render_mode\":\"css\",\"right_units\":\"screen\",\"top_units\":\"screen\"},\"id\":\"3c0ecad6-62b5-4f26-bccd-96ffd533123a\",\"type\":\"BoxAnnotation\"},{\"attributes\":{\"formatter\":{\"id\":\"59300349-2131-4b04-8b01-c583a229b854\",\"type\":\"CategoricalTickFormatter\"},\"plot\":{\"id\":\"f80da241-8e83-455b-a583-29ea54a8417e\",\"subtype\":\"Figure\",\"type\":\"Plot\"},\"ticker\":{\"id\":\"82831711-7a9f-4f51-b2af-51ec43279751\",\"type\":\"CategoricalTicker\"}},\"id\":\"d0774b93-75e1-4d53-968e-8a14ef22554a\",\"type\":\"CategoricalAxis\"},{\"attributes\":{\"callback\":{\"id\":\"cd69df2b-621f-4b68-bb2d-96b8a1cb126e\",\"type\":\"CustomJS\"},\"options\":[\"Apples\",\"Pears\",\"Nectarines\",\"Plums\",\"Grapes\",\"Strawberries\"],\"size\":3,\"title\":\"M\",\"value\":[\"Apples\"]},\"id\":\"3882548a-d538-4c62-a568-9a9b1cf07b4d\",\"type\":\"MultiSelect\"},{\"attributes\":{\"callback\":null},\"id\":\"3d79cb58-27b8-43fa-b5d9-ce2442a234b0\",\"type\":\"DataRange1d\"},{\"attributes\":{},\"id\":\"ef92ffc5-220d-4c70-993d-920663566c43\",\"type\":\"CategoricalScale\"},{\"attributes\":{\"callback\":null,\"factors\":[\"Zubeim\",\"Musen\",\"Hegred\",\"Vinkam\",\"Girgof\",\"Glom\",\"Steman\",\"Tath\",\"Vodam-Kof\",\"Thi-Deur\",\"Brotvoozold\",\"Toph\",\"Telmooc\",\"Ay Han\",\"Hiow\",\"Vimbirti\",\"Grunchain\",\"Vokrod\",\"Khumud\",\"Nodgil\",\"Sterth\",\"Mojah\",\"Chie Nin\",\"Zozer\",\"Nesk\"]},\"id\":\"79a6d466-ed2f-4feb-863e-39f44b577955\",\"type\":\"FactorRange\"},{\"attributes\":{\"args\":{\"range\":{\"id\":\"1a60f20e-8e27-4924-8697-d008cd6fdb15\",\"type\":\"RangeSlider\"},\"selected\":{\"id\":\"3882548a-d538-4c62-a568-9a9b1cf07b4d\",\"type\":\"MultiSelect\"},\"source\":{\"id\":\"5598c03b-6a0e-4b30-a7ff-1073f3188112\",\"type\":\"ColumnDataSource\"},\"txt\":{\"id\":\"fe87ac73-6fa3-4adc-9891-1caa141fe049\",\"type\":\"TextInput\"}},\"code\":\"\\n    var data = source.data;\\n    var L = range.value[0];\\n    var H = range.value[1];\\n    var S = selected.value;\\n    var T = txt.value;\\n    x = data['x']\\n    y = data['y']\\n    color = data['color']\\n    x0 = data['x0']\\n    y0 = data['y0']\\n    color0 = data['color0']\\n    fruit = data['fruit']\\n    \\n    for (i = 0; i < x.length; i++) {\\n        if (fruit[i] == T){\\n            color[i] = 'blue'\\n        }\\n        if (y0[i] >= L & y0[i] <= H & S.indexOf(fruit[i]) >= 0){\\n            y[i] = y0[i];\\n            x[i] = x0[i];\\n        } else {\\n            y[i] = NaN;\\n            x[i] = NaN;\\n        }  \\n    }\\n    source.change.emit();\\n\"},\"id\":\"cd69df2b-621f-4b68-bb2d-96b8a1cb126e\",\"type\":\"CustomJS\"},{\"attributes\":{},\"id\":\"e08dde67-e231-47f2-a8d0-005cb0e6426f\",\"type\":\"LinearScale\"},{\"attributes\":{\"data_source\":{\"id\":\"5598c03b-6a0e-4b30-a7ff-1073f3188112\",\"type\":\"ColumnDataSource\"},\"glyph\":{\"id\":\"20a9b84b-487d-44d8-9bd2-1e479ee75e7c\",\"type\":\"Circle\"},\"hover_glyph\":null,\"muted_glyph\":null,\"nonselection_glyph\":{\"id\":\"17900353-621b-4e4f-aaa8-2af5fcc6095d\",\"type\":\"Circle\"},\"selection_glyph\":null,\"view\":{\"id\":\"f0554c9b-dd05-4341-bcdf-97d35ecf3984\",\"type\":\"CDSView\"}},\"id\":\"6bd72934-18d7-486b-8a56-785bb7547b66\",\"type\":\"GlyphRenderer\"},{\"attributes\":{\"children\":[{\"id\":\"1a60f20e-8e27-4924-8697-d008cd6fdb15\",\"type\":\"RangeSlider\"},{\"id\":\"3882548a-d538-4c62-a568-9a9b1cf07b4d\",\"type\":\"MultiSelect\"},{\"id\":\"fe87ac73-6fa3-4adc-9891-1caa141fe049\",\"type\":\"TextInput\"}]},\"id\":\"fcafa607-1832-4454-a205-aac7af3548fa\",\"type\":\"WidgetBox\"},{\"attributes\":{\"plot\":null,\"text\":\"\"},\"id\":\"39e1a3d8-6eb4-4e4f-8282-92d10af9c969\",\"type\":\"Title\"},{\"attributes\":{\"background_fill_alpha\":{\"value\":0.3},\"background_fill_color\":{\"value\":\"#AAFFEE\"},\"below\":[{\"id\":\"d0774b93-75e1-4d53-968e-8a14ef22554a\",\"type\":\"CategoricalAxis\"}],\"left\":[{\"id\":\"40d22570-4264-4218-ac4c-746fb843ee0e\",\"type\":\"LinearAxis\"}],\"plot_height\":400,\"renderers\":[{\"id\":\"d0774b93-75e1-4d53-968e-8a14ef22554a\",\"type\":\"CategoricalAxis\"},{\"id\":\"19dfa60d-380b-4a30-8999-d3157d12d529\",\"type\":\"Grid\"},{\"id\":\"40d22570-4264-4218-ac4c-746fb843ee0e\",\"type\":\"LinearAxis\"},{\"id\":\"b1eec231-5bfd-49a5-bb96-78b4eeca6ace\",\"type\":\"Grid\"},{\"id\":\"3c0ecad6-62b5-4f26-bccd-96ffd533123a\",\"type\":\"BoxAnnotation\"},{\"id\":\"6bd72934-18d7-486b-8a56-785bb7547b66\",\"type\":\"GlyphRenderer\"}],\"title\":{\"id\":\"39e1a3d8-6eb4-4e4f-8282-92d10af9c969\",\"type\":\"Title\"},\"toolbar\":{\"id\":\"cfe6e228-3efc-45e2-b686-738812348bc8\",\"type\":\"Toolbar\"},\"x_range\":{\"id\":\"79a6d466-ed2f-4feb-863e-39f44b577955\",\"type\":\"FactorRange\"},\"x_scale\":{\"id\":\"ef92ffc5-220d-4c70-993d-920663566c43\",\"type\":\"CategoricalScale\"},\"y_range\":{\"id\":\"3d79cb58-27b8-43fa-b5d9-ce2442a234b0\",\"type\":\"DataRange1d\"},\"y_scale\":{\"id\":\"e08dde67-e231-47f2-a8d0-005cb0e6426f\",\"type\":\"LinearScale\"}},\"id\":\"f80da241-8e83-455b-a583-29ea54a8417e\",\"subtype\":\"Figure\",\"type\":\"Plot\"},{\"attributes\":{\"source\":{\"id\":\"5598c03b-6a0e-4b30-a7ff-1073f3188112\",\"type\":\"ColumnDataSource\"}},\"id\":\"f0554c9b-dd05-4341-bcdf-97d35ecf3984\",\"type\":\"CDSView\"},{\"attributes\":{\"fill_alpha\":{\"value\":0.1},\"fill_color\":{\"value\":\"#1f77b4\"},\"line_alpha\":{\"value\":0.1},\"line_color\":{\"value\":\"#1f77b4\"},\"size\":{\"units\":\"screen\",\"value\":20},\"x\":{\"field\":\"x\"},\"y\":{\"field\":\"y\"}},\"id\":\"17900353-621b-4e4f-aaa8-2af5fcc6095d\",\"type\":\"Circle\"},{\"attributes\":{},\"id\":\"59300349-2131-4b04-8b01-c583a229b854\",\"type\":\"CategoricalTickFormatter\"},{\"attributes\":{\"callback\":{\"id\":\"cd69df2b-621f-4b68-bb2d-96b8a1cb126e\",\"type\":\"CustomJS\"},\"end\":10,\"start\":0,\"title\":\"Stuff\",\"value\":[0,9]},\"id\":\"1a60f20e-8e27-4924-8697-d008cd6fdb15\",\"type\":\"RangeSlider\"},{\"attributes\":{},\"id\":\"cae8b024-eb53-4c2b-a940-dd9cb3dd1f86\",\"type\":\"BasicTicker\"},{\"attributes\":{\"plot\":{\"id\":\"f80da241-8e83-455b-a583-29ea54a8417e\",\"subtype\":\"Figure\",\"type\":\"Plot\"},\"ticker\":{\"id\":\"82831711-7a9f-4f51-b2af-51ec43279751\",\"type\":\"CategoricalTicker\"}},\"id\":\"19dfa60d-380b-4a30-8999-d3157d12d529\",\"type\":\"Grid\"},{\"attributes\":{\"dimension\":1,\"plot\":{\"id\":\"f80da241-8e83-455b-a583-29ea54a8417e\",\"subtype\":\"Figure\",\"type\":\"Plot\"},\"ticker\":{\"id\":\"cae8b024-eb53-4c2b-a940-dd9cb3dd1f86\",\"type\":\"BasicTicker\"}},\"id\":\"b1eec231-5bfd-49a5-bb96-78b4eeca6ace\",\"type\":\"Grid\"},{\"attributes\":{},\"id\":\"ad7ba93d-3a06-4c88-bce7-739f83857eda\",\"type\":\"ResetTool\"},{\"attributes\":{},\"id\":\"536cad3c-af6a-4c6f-91d2-c12ee44b12a7\",\"type\":\"SaveTool\"},{\"attributes\":{},\"id\":\"d2992df9-99c9-45ab-8474-e8931d602c55\",\"type\":\"BasicTickFormatter\"},{\"attributes\":{},\"id\":\"049fcf0d-5faf-4e42-9e9d-d3adf83e4ad2\",\"type\":\"HelpTool\"},{\"attributes\":{},\"id\":\"82831711-7a9f-4f51-b2af-51ec43279751\",\"type\":\"CategoricalTicker\"},{\"attributes\":{},\"id\":\"d264f1f0-8233-49b6-89f8-407c4b535ab6\",\"type\":\"WheelZoomTool\"}],\"root_ids\":[\"269f897e-27af-43ab-a421-c2943fa20b49\"]},\"title\":\"Bokeh Application\",\"version\":\"0.12.15\"}};\n",
       "  var render_items = [{\"docid\":\"c8f49a8a-0c5d-4970-a1fa-4f134ac020ac\",\"elementid\":\"3db79d42-a59e-41ba-b9d1-507d05c3b335\",\"modelid\":\"269f897e-27af-43ab-a421-c2943fa20b49\"}];\n",
       "  root.Bokeh.embed.embed_items_notebook(docs_json, render_items);\n",
       "\n",
       "  }\n",
       "  if (root.Bokeh !== undefined) {\n",
       "    embed_document(root);\n",
       "  } else {\n",
       "    var attempts = 0;\n",
       "    var timer = setInterval(function(root) {\n",
       "      if (root.Bokeh !== undefined) {\n",
       "        embed_document(root);\n",
       "        clearInterval(timer);\n",
       "      }\n",
       "      attempts++;\n",
       "      if (attempts > 100) {\n",
       "        console.log(\"Bokeh: ERROR: Unable to run BokehJS code because BokehJS library is missing\")\n",
       "        clearInterval(timer);\n",
       "      }\n",
       "    }, 10, root)\n",
       "  }\n",
       "})(window);"
      ],
      "application/vnd.bokehjs_exec.v0+json": ""
     },
     "metadata": {
      "application/vnd.bokehjs_exec.v0+json": {
       "id": "269f897e-27af-43ab-a421-c2943fa20b49"
      }
     },
     "output_type": "display_data"
    }
   ],
   "source": [
    "from bokeh.io import curdoc\n",
    "from bokeh.layouts import row, widgetbox\n",
    "X = list(fruits['name'])\n",
    "p = figure(x_range =X, plot_width=600, plot_height=400, background_fill_color='#AAFFEE', background_fill_alpha=0.3)\n",
    "\n",
    "source = ColumnDataSource(data=dict(\n",
    "    fruit = fruits['fruit'],\n",
    "    x0 = X,\n",
    "    y0 = list(fruits['score']),\n",
    "    x = X,\n",
    "    y = list(fruits['score']),\n",
    "    color0 = ['salmon'] * len(fruits),\n",
    "    color = ['salmon'] * len(fruits)))\n",
    "p.circle('x', 'y', color = 'color', size=20, source=source)\n",
    "\n",
    "\n",
    "callback = CustomJS(args=dict(source=source), code=\"\"\"\n",
    "    var data = source.data;\n",
    "    var L = range.value[0];\n",
    "    var H = range.value[1];\n",
    "    var S = selected.value;\n",
    "    var T = txt.value;\n",
    "    x = data['x']\n",
    "    y = data['y']\n",
    "    color = data['color']\n",
    "    x0 = data['x0']\n",
    "    y0 = data['y0']\n",
    "    color0 = data['color0']\n",
    "    fruit = data['fruit']\n",
    "    \n",
    "    for (i = 0; i < x.length; i++) {\n",
    "        if (fruit[i] == T){\n",
    "            color[i] = 'blue'\n",
    "        }\n",
    "        if (y0[i] >= L & y0[i] <= H & S.indexOf(fruit[i]) >= 0){\n",
    "            y[i] = y0[i];\n",
    "            x[i] = x0[i];\n",
    "        } else {\n",
    "            y[i] = NaN;\n",
    "            x[i] = NaN;\n",
    "        }  \n",
    "    }\n",
    "    source.change.emit();\n",
    "\"\"\")\n",
    "\n",
    "text_input = TextInput( title=\"Change color\", value = \"Apples\", callback=callback)  \n",
    "callback.args[\"txt\"] = text_input\n",
    "multi_select = MultiSelect( title=\"M\", options = fruit_list, value = [\"Apples\"], size = 3,callback=callback)  \n",
    "callback.args[\"selected\"] = multi_select\n",
    "range_slider = RangeSlider(start=0, end=10, value=(0,9), step=1, title=\"Stuff\",callback=callback)\n",
    "callback.args[\"range\"] = range_slider\n",
    "# range_slider.on_change('value', lambda attr, old, new: update())\n",
    "\n",
    "layout = row(\n",
    "    p,\n",
    "    widgetbox(range_slider,multi_select,text_input),\n",
    ")\n",
    "\n",
    "show(layout)"
   ]
  },
  {
   "cell_type": "markdown",
   "metadata": {},
   "source": [
    "## <a id='tools'></a>\n",
    "\n",
    "# TOOLS\n",
    "\n",
    "####  [home](#home)"
   ]
  },
  {
   "cell_type": "code",
   "execution_count": 138,
   "metadata": {
    "collapsed": true,
    "scrolled": false
   },
   "outputs": [],
   "source": [
    "# get a list of tools\n",
    "import bokeh.models\n",
    "# dir(bokeh.models.tools)"
   ]
  },
  {
   "cell_type": "code",
   "execution_count": 144,
   "metadata": {
    "scrolled": false
   },
   "outputs": [
    {
     "data": {
      "text/html": [
       "\n",
       "<div class=\"bk-root\">\n",
       "    <div class=\"bk-plotdiv\" id=\"21cca689-5bd6-4096-bef3-f3dbebab17a3\"></div>\n",
       "</div>"
      ]
     },
     "metadata": {},
     "output_type": "display_data"
    },
    {
     "data": {
      "application/javascript": [
       "(function(root) {\n",
       "  function embed_document(root) {\n",
       "    \n",
       "  var docs_json = {\"8196fdad-e642-4574-8bd5-40f94aca9f5d\":{\"roots\":{\"references\":[{\"attributes\":{},\"id\":\"fcbc5012-d465-4f70-9163-a51de549f6dc\",\"type\":\"BasicTickFormatter\"},{\"attributes\":{\"plot\":null,\"text\":\"\"},\"id\":\"7f4d9c4b-5004-4a9e-aae0-5056c1718995\",\"type\":\"Title\"},{\"attributes\":{\"fill_color\":{\"value\":\"#1f77b4\"},\"line_color\":{\"value\":\"#1f77b4\"},\"x\":{\"field\":\"x\"},\"y\":{\"field\":\"y\"}},\"id\":\"807fd6e4-373c-439b-9da0-7651214a1eea\",\"type\":\"Circle\"},{\"attributes\":{},\"id\":\"43675a91-5ba3-486e-91cd-01a45aea17e2\",\"type\":\"CategoricalTicker\"},{\"attributes\":{\"callback\":null,\"column_names\":[\"x\",\"y\"],\"data\":{\"x\":[\"A\",\"B\",\"C\",\"D\",\"E\"],\"y\":[1,3,4,2,5]},\"selected\":null,\"selection_policy\":null},\"id\":\"4e6abbe5-a6ee-4847-88b7-02a55a4dd3fd\",\"type\":\"ColumnDataSource\"},{\"attributes\":{},\"id\":\"b3e5e78f-9b9e-45eb-b0be-0f18ebeeea56\",\"type\":\"LinearScale\"},{\"attributes\":{\"active_drag\":\"auto\",\"active_inspect\":\"auto\",\"active_scroll\":\"auto\",\"active_tap\":\"auto\",\"logo\":null,\"tools\":[{\"id\":\"193c687c-da5c-4428-ba2d-98f19c581a54\",\"type\":\"PanTool\"},{\"id\":\"355e6200-a557-42d6-9f3b-eac3a306ca30\",\"type\":\"ResetTool\"},{\"id\":\"9a1beac6-931b-4e6b-b14a-dd483f8ee649\",\"type\":\"BoxZoomTool\"}]},\"id\":\"036e15e5-0150-4fd8-b993-5468d3e9cb6b\",\"type\":\"Toolbar\"},{\"attributes\":{\"callback\":null},\"id\":\"68e3cdea-c673-4e96-b243-97bf71ba53d5\",\"type\":\"DataRange1d\"},{\"attributes\":{},\"id\":\"a6fb9d1d-042a-475d-8805-dfa652a4a070\",\"type\":\"CategoricalScale\"},{\"attributes\":{\"source\":{\"id\":\"4e6abbe5-a6ee-4847-88b7-02a55a4dd3fd\",\"type\":\"ColumnDataSource\"}},\"id\":\"795dc9e1-53ab-4609-98d0-9a90978c91ee\",\"type\":\"CDSView\"},{\"attributes\":{\"grid_line_color\":{\"value\":null},\"plot\":{\"id\":\"ba4d8b93-f6b9-42ed-bf8d-031b2d424ead\",\"subtype\":\"Figure\",\"type\":\"Plot\"},\"ticker\":{\"id\":\"43675a91-5ba3-486e-91cd-01a45aea17e2\",\"type\":\"CategoricalTicker\"}},\"id\":\"59c10843-e7ca-472b-a22f-a5432e55d069\",\"type\":\"Grid\"},{\"attributes\":{},\"id\":\"824a03a3-0859-497b-858f-239df047321a\",\"type\":\"CategoricalTickFormatter\"},{\"attributes\":{\"callback\":null,\"factors\":[\"A\",\"B\",\"C\",\"D\",\"E\"]},\"id\":\"a92cc841-8caa-4539-bf42-84f44e2195f9\",\"type\":\"FactorRange\"},{\"attributes\":{},\"id\":\"355e6200-a557-42d6-9f3b-eac3a306ca30\",\"type\":\"ResetTool\"},{\"attributes\":{},\"id\":\"fe1b70b1-9609-483f-98c1-f9ee89c7a68d\",\"type\":\"BasicTicker\"},{\"attributes\":{\"dimension\":1,\"grid_line_color\":{\"value\":null},\"plot\":{\"id\":\"ba4d8b93-f6b9-42ed-bf8d-031b2d424ead\",\"subtype\":\"Figure\",\"type\":\"Plot\"},\"ticker\":{\"id\":\"fe1b70b1-9609-483f-98c1-f9ee89c7a68d\",\"type\":\"BasicTicker\"}},\"id\":\"cb5cfac6-1652-4f5b-85d2-14d1c307796d\",\"type\":\"Grid\"},{\"attributes\":{},\"id\":\"193c687c-da5c-4428-ba2d-98f19c581a54\",\"type\":\"PanTool\"},{\"attributes\":{\"formatter\":{\"id\":\"824a03a3-0859-497b-858f-239df047321a\",\"type\":\"CategoricalTickFormatter\"},\"plot\":{\"id\":\"ba4d8b93-f6b9-42ed-bf8d-031b2d424ead\",\"subtype\":\"Figure\",\"type\":\"Plot\"},\"ticker\":{\"id\":\"43675a91-5ba3-486e-91cd-01a45aea17e2\",\"type\":\"CategoricalTicker\"}},\"id\":\"b6701596-c823-4209-b8ba-05ddefdf3e5e\",\"type\":\"CategoricalAxis\"},{\"attributes\":{\"overlay\":{\"id\":\"3c4fc3ad-a131-463c-8769-f06b845b49c7\",\"type\":\"BoxAnnotation\"}},\"id\":\"9a1beac6-931b-4e6b-b14a-dd483f8ee649\",\"type\":\"BoxZoomTool\"},{\"attributes\":{\"bottom_units\":\"screen\",\"fill_alpha\":{\"value\":0.5},\"fill_color\":{\"value\":\"lightgrey\"},\"left_units\":\"screen\",\"level\":\"overlay\",\"line_alpha\":{\"value\":1.0},\"line_color\":{\"value\":\"black\"},\"line_dash\":[4,4],\"line_width\":{\"value\":2},\"plot\":null,\"render_mode\":\"css\",\"right_units\":\"screen\",\"top_units\":\"screen\"},\"id\":\"3c4fc3ad-a131-463c-8769-f06b845b49c7\",\"type\":\"BoxAnnotation\"},{\"attributes\":{\"bottom_units\":\"screen\",\"fill_alpha\":{\"value\":0.5},\"fill_color\":{\"value\":\"lightgrey\"},\"left_units\":\"screen\",\"level\":\"overlay\",\"line_alpha\":{\"value\":1.0},\"line_color\":{\"value\":\"black\"},\"line_dash\":[4,4],\"line_width\":{\"value\":2},\"plot\":null,\"render_mode\":\"css\",\"right_units\":\"screen\",\"top_units\":\"screen\"},\"id\":\"7aba91c6-3171-44a3-9836-4d4986b4768a\",\"type\":\"BoxAnnotation\"},{\"attributes\":{\"fill_alpha\":{\"value\":0.1},\"fill_color\":{\"value\":\"#1f77b4\"},\"line_alpha\":{\"value\":0.1},\"line_color\":{\"value\":\"#1f77b4\"},\"x\":{\"field\":\"x\"},\"y\":{\"field\":\"y\"}},\"id\":\"a2f6f140-5a63-4212-886f-3ac2fb754e2f\",\"type\":\"Circle\"},{\"attributes\":{\"background_fill_alpha\":{\"value\":0.3},\"background_fill_color\":{\"value\":\"#AAFFEE\"},\"below\":[{\"id\":\"b6701596-c823-4209-b8ba-05ddefdf3e5e\",\"type\":\"CategoricalAxis\"}],\"left\":[{\"id\":\"94a43482-e338-4bed-b35c-0ccbc9a455c1\",\"type\":\"LinearAxis\"}],\"plot_height\":400,\"plot_width\":400,\"renderers\":[{\"id\":\"b6701596-c823-4209-b8ba-05ddefdf3e5e\",\"type\":\"CategoricalAxis\"},{\"id\":\"59c10843-e7ca-472b-a22f-a5432e55d069\",\"type\":\"Grid\"},{\"id\":\"94a43482-e338-4bed-b35c-0ccbc9a455c1\",\"type\":\"LinearAxis\"},{\"id\":\"cb5cfac6-1652-4f5b-85d2-14d1c307796d\",\"type\":\"Grid\"},{\"id\":\"7aba91c6-3171-44a3-9836-4d4986b4768a\",\"type\":\"BoxAnnotation\"},{\"id\":\"ee952434-f008-4e7c-a6fb-9a56b15b1379\",\"type\":\"GlyphRenderer\"}],\"title\":{\"id\":\"7f4d9c4b-5004-4a9e-aae0-5056c1718995\",\"type\":\"Title\"},\"toolbar\":{\"id\":\"036e15e5-0150-4fd8-b993-5468d3e9cb6b\",\"type\":\"Toolbar\"},\"x_range\":{\"id\":\"a92cc841-8caa-4539-bf42-84f44e2195f9\",\"type\":\"FactorRange\"},\"x_scale\":{\"id\":\"a6fb9d1d-042a-475d-8805-dfa652a4a070\",\"type\":\"CategoricalScale\"},\"y_range\":{\"id\":\"68e3cdea-c673-4e96-b243-97bf71ba53d5\",\"type\":\"DataRange1d\"},\"y_scale\":{\"id\":\"b3e5e78f-9b9e-45eb-b0be-0f18ebeeea56\",\"type\":\"LinearScale\"}},\"id\":\"ba4d8b93-f6b9-42ed-bf8d-031b2d424ead\",\"subtype\":\"Figure\",\"type\":\"Plot\"},{\"attributes\":{\"data_source\":{\"id\":\"4e6abbe5-a6ee-4847-88b7-02a55a4dd3fd\",\"type\":\"ColumnDataSource\"},\"glyph\":{\"id\":\"807fd6e4-373c-439b-9da0-7651214a1eea\",\"type\":\"Circle\"},\"hover_glyph\":null,\"muted_glyph\":null,\"nonselection_glyph\":{\"id\":\"a2f6f140-5a63-4212-886f-3ac2fb754e2f\",\"type\":\"Circle\"},\"selection_glyph\":null,\"view\":{\"id\":\"795dc9e1-53ab-4609-98d0-9a90978c91ee\",\"type\":\"CDSView\"}},\"id\":\"ee952434-f008-4e7c-a6fb-9a56b15b1379\",\"type\":\"GlyphRenderer\"},{\"attributes\":{\"formatter\":{\"id\":\"fcbc5012-d465-4f70-9163-a51de549f6dc\",\"type\":\"BasicTickFormatter\"},\"plot\":{\"id\":\"ba4d8b93-f6b9-42ed-bf8d-031b2d424ead\",\"subtype\":\"Figure\",\"type\":\"Plot\"},\"ticker\":{\"id\":\"fe1b70b1-9609-483f-98c1-f9ee89c7a68d\",\"type\":\"BasicTicker\"}},\"id\":\"94a43482-e338-4bed-b35c-0ccbc9a455c1\",\"type\":\"LinearAxis\"}],\"root_ids\":[\"ba4d8b93-f6b9-42ed-bf8d-031b2d424ead\"]},\"title\":\"Bokeh Application\",\"version\":\"0.12.15\"}};\n",
       "  var render_items = [{\"docid\":\"8196fdad-e642-4574-8bd5-40f94aca9f5d\",\"elementid\":\"21cca689-5bd6-4096-bef3-f3dbebab17a3\",\"modelid\":\"ba4d8b93-f6b9-42ed-bf8d-031b2d424ead\"}];\n",
       "  root.Bokeh.embed.embed_items_notebook(docs_json, render_items);\n",
       "\n",
       "  }\n",
       "  if (root.Bokeh !== undefined) {\n",
       "    embed_document(root);\n",
       "  } else {\n",
       "    var attempts = 0;\n",
       "    var timer = setInterval(function(root) {\n",
       "      if (root.Bokeh !== undefined) {\n",
       "        embed_document(root);\n",
       "        clearInterval(timer);\n",
       "      }\n",
       "      attempts++;\n",
       "      if (attempts > 100) {\n",
       "        console.log(\"Bokeh: ERROR: Unable to run BokehJS code because BokehJS library is missing\")\n",
       "        clearInterval(timer);\n",
       "      }\n",
       "    }, 10, root)\n",
       "  }\n",
       "})(window);"
      ],
      "application/vnd.bokehjs_exec.v0+json": ""
     },
     "metadata": {
      "application/vnd.bokehjs_exec.v0+json": {
       "id": "ba4d8b93-f6b9-42ed-bf8d-031b2d424ead"
      }
     },
     "output_type": "display_data"
    }
   ],
   "source": [
    "from bokeh.models import PanTool, ResetTool, BoxZoomTool\n",
    "X = ['A','B','C','D','E']\n",
    "p = figure(x_range =X, plot_width=400, plot_height=400, background_fill_color='#AAFFEE', background_fill_alpha=0.3)\n",
    "Y = [1,3,4,2,5]\n",
    "p.circle(X,Y)\n",
    "p.tools =[PanTool(), ResetTool(), BoxZoomTool()]\n",
    "p.toolbar.logo = None\n",
    "p.grid.grid_line_color = None\n",
    "show(p)"
   ]
  },
  {
   "cell_type": "markdown",
   "metadata": {
    "heading_collapsed": true
   },
   "source": [
    "### <a id='stackedbar'></a>\n",
    "\n",
    "\n",
    "## Stacked bar chart (hover; range padding)\n",
    "\n",
    "[see example here but with modification](http://bokeh.pydata.org/en/latest/docs/gallery/bar_stacked.html)\n",
    "\n",
    "####  [home](#home)"
   ]
  },
  {
   "cell_type": "code",
   "execution_count": 172,
   "metadata": {
    "hidden": true,
    "scrolled": false
   },
   "outputs": [
    {
     "data": {
      "text/html": [
       "\n",
       "<div class=\"bk-root\">\n",
       "    <div class=\"bk-plotdiv\" id=\"9c0710bc-130f-485a-907d-55826ba4c730\"></div>\n",
       "</div>"
      ]
     },
     "metadata": {},
     "output_type": "display_data"
    },
    {
     "data": {
      "application/javascript": [
       "(function(root) {\n",
       "  function embed_document(root) {\n",
       "    \n",
       "  var docs_json = {\"61568f00-8595-4516-9586-abda025d9c95\":{\"roots\":{\"references\":[{\"attributes\":{\"label\":{\"value\":\"2015\"},\"renderers\":[{\"id\":\"7f9398ce-d09e-45b8-9dbc-dc92b41f87cf\",\"type\":\"GlyphRenderer\"}]},\"id\":\"e7470763-491a-44c2-9830-499ff7c9181d\",\"type\":\"LegendItem\"},{\"attributes\":{\"bottom\":{\"expr\":{\"id\":\"0c7d5b84-5bfc-42b9-ae3e-a02b0e0effb6\",\"type\":\"Stack\"}},\"fill_color\":{\"value\":\"#c9d9d3\"},\"line_color\":{\"value\":\"#c9d9d3\"},\"top\":{\"expr\":{\"id\":\"7429049d-9e6c-482e-a032-2fe60bedbc97\",\"type\":\"Stack\"}},\"width\":{\"value\":0.9},\"x\":{\"field\":\"fruits\"}},\"id\":\"63220df7-9990-44d3-a8d2-b219ac374782\",\"type\":\"VBar\"},{\"attributes\":{\"callback\":null,\"renderers\":[{\"id\":\"7f9398ce-d09e-45b8-9dbc-dc92b41f87cf\",\"type\":\"GlyphRenderer\"}],\"tooltips\":[[\"fruit\",\"@fruits\"],[\"2015 total\",\"@2015\"]]},\"id\":\"2e3ac40e-7560-47d9-be10-eb8c27b4897f\",\"type\":\"HoverTool\"},{\"attributes\":{\"formatter\":{\"id\":\"41a47eb6-c894-41fd-80b7-540088a812a8\",\"type\":\"CategoricalTickFormatter\"},\"minor_tick_line_color\":{\"value\":null},\"plot\":{\"id\":\"ca2d474e-abfe-4a73-bec8-f3c70272a274\",\"subtype\":\"Figure\",\"type\":\"Plot\"},\"ticker\":{\"id\":\"1fd66bf2-2ab7-453d-9bc1-73f0678ead6c\",\"type\":\"CategoricalTicker\"}},\"id\":\"917498bd-2beb-4b89-a102-a0662b0df6f3\",\"type\":\"CategoricalAxis\"},{\"attributes\":{},\"id\":\"43443987-4543-4fcc-aa63-2fcadcfd746a\",\"type\":\"BasicTicker\"},{\"attributes\":{\"fields\":[]},\"id\":\"0c7d5b84-5bfc-42b9-ae3e-a02b0e0effb6\",\"type\":\"Stack\"},{\"attributes\":{\"callback\":null,\"column_names\":[\"fruits\",\"2015\",\"2016\",\"2017\"],\"data\":{\"2015\":[2,1,4,3,2,4],\"2016\":[5,3,4,2,4,6],\"2017\":[3,2,4,4,5,3],\"fruits\":[\"Apples\",\"Pears\",\"Nectarines\",\"Plums\",\"Grapes\",\"Strawberries\"]},\"selected\":null,\"selection_policy\":null},\"id\":\"954b4de3-74d4-49b8-995e-8b35cbd650f1\",\"type\":\"ColumnDataSource\"},{\"attributes\":{},\"id\":\"12d84f22-1f82-4064-bfb4-0704c0ae4677\",\"type\":\"LinearScale\"},{\"attributes\":{\"bottom\":{\"expr\":{\"id\":\"337039f3-f5f4-41c4-90d5-b95f4a3b07cb\",\"type\":\"Stack\"}},\"fill_alpha\":{\"value\":0.1},\"fill_color\":{\"value\":\"#1f77b4\"},\"line_alpha\":{\"value\":0.1},\"line_color\":{\"value\":\"#1f77b4\"},\"top\":{\"expr\":{\"id\":\"532e1aa0-3bd7-4493-a02e-f86c82e6f247\",\"type\":\"Stack\"}},\"width\":{\"value\":0.9},\"x\":{\"field\":\"fruits\"}},\"id\":\"4338a48c-4fe6-40e6-80ce-00a6842d9998\",\"type\":\"VBar\"},{\"attributes\":{\"source\":{\"id\":\"954b4de3-74d4-49b8-995e-8b35cbd650f1\",\"type\":\"ColumnDataSource\"}},\"id\":\"de51e3e0-8a27-42e7-8bfc-4eccf2e6f552\",\"type\":\"CDSView\"},{\"attributes\":{\"callback\":null,\"renderers\":[{\"id\":\"7a9ac3af-8639-401f-94a8-3373dcc9b723\",\"type\":\"GlyphRenderer\"}],\"tooltips\":[[\"fruit\",\"@fruits\"],[\"2017 total\",\"@2017\"]]},\"id\":\"e0243727-2a44-42a6-8ce2-a288f9e8538d\",\"type\":\"HoverTool\"},{\"attributes\":{},\"id\":\"41a47eb6-c894-41fd-80b7-540088a812a8\",\"type\":\"CategoricalTickFormatter\"},{\"attributes\":{\"formatter\":{\"id\":\"5c47c2a7-7815-46c4-a39b-d51c375bb3dd\",\"type\":\"BasicTickFormatter\"},\"minor_tick_line_color\":{\"value\":null},\"plot\":{\"id\":\"ca2d474e-abfe-4a73-bec8-f3c70272a274\",\"subtype\":\"Figure\",\"type\":\"Plot\"},\"ticker\":{\"id\":\"43443987-4543-4fcc-aa63-2fcadcfd746a\",\"type\":\"BasicTicker\"}},\"id\":\"7349735c-3abb-402a-8b2f-fbd2be6f430f\",\"type\":\"LinearAxis\"},{\"attributes\":{\"active_drag\":\"auto\",\"active_inspect\":\"auto\",\"active_scroll\":\"auto\",\"active_tap\":\"auto\",\"tools\":[{\"id\":\"2e3ac40e-7560-47d9-be10-eb8c27b4897f\",\"type\":\"HoverTool\"},{\"id\":\"7087972c-ae0f-48ca-b1ac-db1f37f575c5\",\"type\":\"HoverTool\"},{\"id\":\"e0243727-2a44-42a6-8ce2-a288f9e8538d\",\"type\":\"HoverTool\"}]},\"id\":\"ee832585-1ea0-4a68-8d12-8864247a597b\",\"type\":\"Toolbar\"},{\"attributes\":{\"bottom\":{\"expr\":{\"id\":\"337039f3-f5f4-41c4-90d5-b95f4a3b07cb\",\"type\":\"Stack\"}},\"fill_color\":{\"value\":\"#e84d60\"},\"line_color\":{\"value\":\"#e84d60\"},\"top\":{\"expr\":{\"id\":\"532e1aa0-3bd7-4493-a02e-f86c82e6f247\",\"type\":\"Stack\"}},\"width\":{\"value\":0.9},\"x\":{\"field\":\"fruits\"}},\"id\":\"b1988527-5dee-4ed5-9c63-ba66f892df73\",\"type\":\"VBar\"},{\"attributes\":{\"dimension\":1,\"plot\":{\"id\":\"ca2d474e-abfe-4a73-bec8-f3c70272a274\",\"subtype\":\"Figure\",\"type\":\"Plot\"},\"ticker\":{\"id\":\"43443987-4543-4fcc-aa63-2fcadcfd746a\",\"type\":\"BasicTicker\"}},\"id\":\"532f3eda-b33a-47dc-bb96-81e7dc93f60c\",\"type\":\"Grid\"},{\"attributes\":{\"bottom\":{\"expr\":{\"id\":\"0c7d5b84-5bfc-42b9-ae3e-a02b0e0effb6\",\"type\":\"Stack\"}},\"fill_alpha\":{\"value\":0.1},\"fill_color\":{\"value\":\"#1f77b4\"},\"line_alpha\":{\"value\":0.1},\"line_color\":{\"value\":\"#1f77b4\"},\"top\":{\"expr\":{\"id\":\"7429049d-9e6c-482e-a032-2fe60bedbc97\",\"type\":\"Stack\"}},\"width\":{\"value\":0.9},\"x\":{\"field\":\"fruits\"}},\"id\":\"a1d797b0-5e95-4e91-b8ad-3a204cdcbc66\",\"type\":\"VBar\"},{\"attributes\":{\"callback\":null,\"factors\":[\"Apples\",\"Pears\",\"Nectarines\",\"Plums\",\"Grapes\",\"Strawberries\"],\"range_padding\":0.3},\"id\":\"ddc694f2-ef09-47a0-be9b-6480a2175886\",\"type\":\"FactorRange\"},{\"attributes\":{\"callback\":null,\"renderers\":[{\"id\":\"f1b77687-fbf7-466f-b07a-a315f5ddebf9\",\"type\":\"GlyphRenderer\"}],\"tooltips\":[[\"fruit\",\"@fruits\"],[\"2016 total\",\"@2016\"]]},\"id\":\"7087972c-ae0f-48ca-b1ac-db1f37f575c5\",\"type\":\"HoverTool\"},{\"attributes\":{\"source\":{\"id\":\"954b4de3-74d4-49b8-995e-8b35cbd650f1\",\"type\":\"ColumnDataSource\"}},\"id\":\"e8f16dae-008d-407e-9d23-3866041b0333\",\"type\":\"CDSView\"},{\"attributes\":{\"data_source\":{\"id\":\"954b4de3-74d4-49b8-995e-8b35cbd650f1\",\"type\":\"ColumnDataSource\"},\"glyph\":{\"id\":\"b1988527-5dee-4ed5-9c63-ba66f892df73\",\"type\":\"VBar\"},\"hover_glyph\":null,\"muted_glyph\":null,\"name\":\"2017\",\"nonselection_glyph\":{\"id\":\"4338a48c-4fe6-40e6-80ce-00a6842d9998\",\"type\":\"VBar\"},\"selection_glyph\":null,\"view\":{\"id\":\"61a1225a-46a6-47ac-b174-a72d4233ef58\",\"type\":\"CDSView\"}},\"id\":\"7a9ac3af-8639-401f-94a8-3373dcc9b723\",\"type\":\"GlyphRenderer\"},{\"attributes\":{},\"id\":\"1fd66bf2-2ab7-453d-9bc1-73f0678ead6c\",\"type\":\"CategoricalTicker\"},{\"attributes\":{\"below\":[{\"id\":\"917498bd-2beb-4b89-a102-a0662b0df6f3\",\"type\":\"CategoricalAxis\"}],\"left\":[{\"id\":\"7349735c-3abb-402a-8b2f-fbd2be6f430f\",\"type\":\"LinearAxis\"}],\"outline_line_color\":{\"value\":null},\"plot_height\":350,\"renderers\":[{\"id\":\"917498bd-2beb-4b89-a102-a0662b0df6f3\",\"type\":\"CategoricalAxis\"},{\"id\":\"5637c7b8-00cf-440d-8da6-9b1a0f764ca9\",\"type\":\"Grid\"},{\"id\":\"7349735c-3abb-402a-8b2f-fbd2be6f430f\",\"type\":\"LinearAxis\"},{\"id\":\"532f3eda-b33a-47dc-bb96-81e7dc93f60c\",\"type\":\"Grid\"},{\"id\":\"c2c20db0-3016-4b21-b77f-ec76460b7fac\",\"type\":\"Legend\"},{\"id\":\"7f9398ce-d09e-45b8-9dbc-dc92b41f87cf\",\"type\":\"GlyphRenderer\"},{\"id\":\"f1b77687-fbf7-466f-b07a-a315f5ddebf9\",\"type\":\"GlyphRenderer\"},{\"id\":\"7a9ac3af-8639-401f-94a8-3373dcc9b723\",\"type\":\"GlyphRenderer\"}],\"title\":{\"id\":\"1faff0f1-79b7-4b7b-a5af-a99d9d6ad02b\",\"type\":\"Title\"},\"toolbar\":{\"id\":\"ee832585-1ea0-4a68-8d12-8864247a597b\",\"type\":\"Toolbar\"},\"toolbar_location\":null,\"x_range\":{\"id\":\"ddc694f2-ef09-47a0-be9b-6480a2175886\",\"type\":\"FactorRange\"},\"x_scale\":{\"id\":\"dbe559a7-bca7-4c0a-8aa6-a66770870fac\",\"type\":\"CategoricalScale\"},\"y_range\":{\"id\":\"32d7cb79-2f63-4517-ab2a-00fcc50d5d46\",\"type\":\"DataRange1d\"},\"y_scale\":{\"id\":\"12d84f22-1f82-4064-bfb4-0704c0ae4677\",\"type\":\"LinearScale\"}},\"id\":\"ca2d474e-abfe-4a73-bec8-f3c70272a274\",\"subtype\":\"Figure\",\"type\":\"Plot\"},{\"attributes\":{\"fields\":[\"2015\"]},\"id\":\"96b37e23-0217-4b10-b325-ec25d73a12ca\",\"type\":\"Stack\"},{\"attributes\":{\"grid_line_color\":{\"value\":null},\"plot\":{\"id\":\"ca2d474e-abfe-4a73-bec8-f3c70272a274\",\"subtype\":\"Figure\",\"type\":\"Plot\"},\"ticker\":{\"id\":\"1fd66bf2-2ab7-453d-9bc1-73f0678ead6c\",\"type\":\"CategoricalTicker\"}},\"id\":\"5637c7b8-00cf-440d-8da6-9b1a0f764ca9\",\"type\":\"Grid\"},{\"attributes\":{\"label\":{\"value\":\"2017\"},\"renderers\":[{\"id\":\"7a9ac3af-8639-401f-94a8-3373dcc9b723\",\"type\":\"GlyphRenderer\"}]},\"id\":\"f56bb856-344c-4808-b1ce-35f27273eaa5\",\"type\":\"LegendItem\"},{\"attributes\":{\"items\":[{\"id\":\"e7470763-491a-44c2-9830-499ff7c9181d\",\"type\":\"LegendItem\"},{\"id\":\"61e837c6-4bed-45b1-bd82-3064a4a047a8\",\"type\":\"LegendItem\"},{\"id\":\"f56bb856-344c-4808-b1ce-35f27273eaa5\",\"type\":\"LegendItem\"}],\"location\":\"top_left\",\"orientation\":\"horizontal\",\"plot\":{\"id\":\"ca2d474e-abfe-4a73-bec8-f3c70272a274\",\"subtype\":\"Figure\",\"type\":\"Plot\"}},\"id\":\"c2c20db0-3016-4b21-b77f-ec76460b7fac\",\"type\":\"Legend\"},{\"attributes\":{\"label\":{\"value\":\"2016\"},\"renderers\":[{\"id\":\"f1b77687-fbf7-466f-b07a-a315f5ddebf9\",\"type\":\"GlyphRenderer\"}]},\"id\":\"61e837c6-4bed-45b1-bd82-3064a4a047a8\",\"type\":\"LegendItem\"},{\"attributes\":{\"callback\":null,\"start\":0},\"id\":\"32d7cb79-2f63-4517-ab2a-00fcc50d5d46\",\"type\":\"DataRange1d\"},{\"attributes\":{\"fields\":[\"2015\",\"2016\"]},\"id\":\"49a33869-aed5-4594-ba81-f3f135369438\",\"type\":\"Stack\"},{\"attributes\":{\"fields\":[\"2015\"]},\"id\":\"7429049d-9e6c-482e-a032-2fe60bedbc97\",\"type\":\"Stack\"},{\"attributes\":{\"fields\":[\"2015\",\"2016\"]},\"id\":\"337039f3-f5f4-41c4-90d5-b95f4a3b07cb\",\"type\":\"Stack\"},{\"attributes\":{\"bottom\":{\"expr\":{\"id\":\"96b37e23-0217-4b10-b325-ec25d73a12ca\",\"type\":\"Stack\"}},\"fill_color\":{\"value\":\"#718dbf\"},\"line_color\":{\"value\":\"#718dbf\"},\"top\":{\"expr\":{\"id\":\"49a33869-aed5-4594-ba81-f3f135369438\",\"type\":\"Stack\"}},\"width\":{\"value\":0.9},\"x\":{\"field\":\"fruits\"}},\"id\":\"32abc502-9ef8-41de-badc-b17857475e0f\",\"type\":\"VBar\"},{\"attributes\":{\"source\":{\"id\":\"954b4de3-74d4-49b8-995e-8b35cbd650f1\",\"type\":\"ColumnDataSource\"}},\"id\":\"61a1225a-46a6-47ac-b174-a72d4233ef58\",\"type\":\"CDSView\"},{\"attributes\":{\"plot\":null,\"text\":\"Fruit Counts by Year\"},\"id\":\"1faff0f1-79b7-4b7b-a5af-a99d9d6ad02b\",\"type\":\"Title\"},{\"attributes\":{},\"id\":\"dbe559a7-bca7-4c0a-8aa6-a66770870fac\",\"type\":\"CategoricalScale\"},{\"attributes\":{\"fields\":[\"2015\",\"2016\",\"2017\"]},\"id\":\"532e1aa0-3bd7-4493-a02e-f86c82e6f247\",\"type\":\"Stack\"},{\"attributes\":{\"bottom\":{\"expr\":{\"id\":\"96b37e23-0217-4b10-b325-ec25d73a12ca\",\"type\":\"Stack\"}},\"fill_alpha\":{\"value\":0.1},\"fill_color\":{\"value\":\"#1f77b4\"},\"line_alpha\":{\"value\":0.1},\"line_color\":{\"value\":\"#1f77b4\"},\"top\":{\"expr\":{\"id\":\"49a33869-aed5-4594-ba81-f3f135369438\",\"type\":\"Stack\"}},\"width\":{\"value\":0.9},\"x\":{\"field\":\"fruits\"}},\"id\":\"60c724c0-dc3e-4ac8-a705-14b98e2d88e8\",\"type\":\"VBar\"},{\"attributes\":{},\"id\":\"5c47c2a7-7815-46c4-a39b-d51c375bb3dd\",\"type\":\"BasicTickFormatter\"},{\"attributes\":{\"data_source\":{\"id\":\"954b4de3-74d4-49b8-995e-8b35cbd650f1\",\"type\":\"ColumnDataSource\"},\"glyph\":{\"id\":\"63220df7-9990-44d3-a8d2-b219ac374782\",\"type\":\"VBar\"},\"hover_glyph\":null,\"muted_glyph\":null,\"name\":\"2015\",\"nonselection_glyph\":{\"id\":\"a1d797b0-5e95-4e91-b8ad-3a204cdcbc66\",\"type\":\"VBar\"},\"selection_glyph\":null,\"view\":{\"id\":\"de51e3e0-8a27-42e7-8bfc-4eccf2e6f552\",\"type\":\"CDSView\"}},\"id\":\"7f9398ce-d09e-45b8-9dbc-dc92b41f87cf\",\"type\":\"GlyphRenderer\"},{\"attributes\":{\"data_source\":{\"id\":\"954b4de3-74d4-49b8-995e-8b35cbd650f1\",\"type\":\"ColumnDataSource\"},\"glyph\":{\"id\":\"32abc502-9ef8-41de-badc-b17857475e0f\",\"type\":\"VBar\"},\"hover_glyph\":null,\"muted_glyph\":null,\"name\":\"2016\",\"nonselection_glyph\":{\"id\":\"60c724c0-dc3e-4ac8-a705-14b98e2d88e8\",\"type\":\"VBar\"},\"selection_glyph\":null,\"view\":{\"id\":\"e8f16dae-008d-407e-9d23-3866041b0333\",\"type\":\"CDSView\"}},\"id\":\"f1b77687-fbf7-466f-b07a-a315f5ddebf9\",\"type\":\"GlyphRenderer\"}],\"root_ids\":[\"ca2d474e-abfe-4a73-bec8-f3c70272a274\"]},\"title\":\"Bokeh Application\",\"version\":\"0.12.15\"}};\n",
       "  var render_items = [{\"docid\":\"61568f00-8595-4516-9586-abda025d9c95\",\"elementid\":\"9c0710bc-130f-485a-907d-55826ba4c730\",\"modelid\":\"ca2d474e-abfe-4a73-bec8-f3c70272a274\"}];\n",
       "  root.Bokeh.embed.embed_items_notebook(docs_json, render_items);\n",
       "\n",
       "  }\n",
       "  if (root.Bokeh !== undefined) {\n",
       "    embed_document(root);\n",
       "  } else {\n",
       "    var attempts = 0;\n",
       "    var timer = setInterval(function(root) {\n",
       "      if (root.Bokeh !== undefined) {\n",
       "        embed_document(root);\n",
       "        clearInterval(timer);\n",
       "      }\n",
       "      attempts++;\n",
       "      if (attempts > 100) {\n",
       "        console.log(\"Bokeh: ERROR: Unable to run BokehJS code because BokehJS library is missing\")\n",
       "        clearInterval(timer);\n",
       "      }\n",
       "    }, 10, root)\n",
       "  }\n",
       "})(window);"
      ],
      "application/vnd.bokehjs_exec.v0+json": ""
     },
     "metadata": {
      "application/vnd.bokehjs_exec.v0+json": {
       "id": "ca2d474e-abfe-4a73-bec8-f3c70272a274"
      }
     },
     "output_type": "display_data"
    }
   ],
   "source": [
    "from bokeh.core.properties import value\n",
    "from bokeh.io import show, output_file\n",
    "from bokeh.models import ColumnDataSource, HoverTool\n",
    "from bokeh.plotting import figure\n",
    "\n",
    "# output_file(\"bar_stacked.html\")\n",
    "\n",
    "fruits = ['Apples', 'Pears', 'Nectarines', 'Plums', 'Grapes', 'Strawberries']\n",
    "years = [\"2015\", \"2016\", \"2017\"]\n",
    "colors = [\"#c9d9d3\", \"#718dbf\", \"#e84d60\"]\n",
    "\n",
    "data = {'fruits' : fruits,\n",
    "        '2015'   : [2, 1, 4, 3, 2, 4],\n",
    "        '2016'   : [5, 3, 4, 2, 4, 6],\n",
    "        '2017'   : [3, 2, 4, 4, 5, 3]}\n",
    "\n",
    "source = ColumnDataSource(data=data)\n",
    "\n",
    "p = figure(x_range=fruits, plot_height=350, title=\"Fruit Counts by Year\",\n",
    "           toolbar_location=None, tools=\"\")\n",
    "\n",
    "renderers = p.vbar_stack(years, x='fruits', width=0.9, color=colors, source=source,\n",
    "                         legend=[value(x) for x in years], name=years)\n",
    "\n",
    "for r in renderers:\n",
    "    year = r.name\n",
    "    hover = HoverTool(tooltips=[\n",
    "        (\"fruit\", \"@fruits\"),\n",
    "        (\"%s total\" % year, \"@%s\" % year),\n",
    "        \n",
    "    ], renderers=[r])\n",
    "    p.add_tools(hover)\n",
    "\n",
    "p.y_range.start = 0\n",
    "p.x_range.range_padding = 0.3\n",
    "p.xgrid.grid_line_color = None\n",
    "p.axis.minor_tick_line_color = None\n",
    "p.outline_line_color = None\n",
    "p.legend.location = \"top_left\"\n",
    "p.legend.orientation = \"horizontal\"\n",
    "\n",
    "show(p)"
   ]
  },
  {
   "cell_type": "markdown",
   "metadata": {},
   "source": [
    "### <a id='click'></a>\n",
    "\n",
    "## Click\n",
    "\n",
    "####  [home](#home)"
   ]
  },
  {
   "cell_type": "code",
   "execution_count": 5,
   "metadata": {
    "scrolled": false
   },
   "outputs": [
    {
     "data": {
      "text/html": [
       "\n",
       "<div class=\"bk-root\">\n",
       "    <div class=\"bk-plotdiv\" id=\"5dd4e04d-7efb-4f44-879f-c8a218f66fa9\"></div>\n",
       "</div>"
      ]
     },
     "metadata": {},
     "output_type": "display_data"
    },
    {
     "data": {
      "application/javascript": [
       "(function(root) {\n",
       "  function embed_document(root) {\n",
       "    \n",
       "  var docs_json = {\"ab13dc39-1f88-4c04-8831-c1ce065a57ee\":{\"roots\":{\"references\":[{\"attributes\":{\"formatter\":{\"id\":\"01bab53a-bdf1-43ca-bf9a-104e13d7fe56\",\"type\":\"BasicTickFormatter\"},\"plot\":{\"id\":\"513fce19-4780-49e3-80cb-9555528e099f\",\"subtype\":\"Figure\",\"type\":\"Plot\"},\"ticker\":{\"id\":\"8208fc8b-8c47-41dc-a08a-4bd5f9711a80\",\"type\":\"BasicTicker\"}},\"id\":\"dd2da32b-57a4-4df8-9e57-c4b17aeecb0e\",\"type\":\"LinearAxis\"},{\"attributes\":{\"url\":\"@urls\"},\"id\":\"5552b79c-83af-4fb3-bf1c-1978497bdf23\",\"type\":\"OpenURL\"},{\"attributes\":{},\"id\":\"01bab53a-bdf1-43ca-bf9a-104e13d7fe56\",\"type\":\"BasicTickFormatter\"},{\"attributes\":{},\"id\":\"1da602df-977f-4a4e-bec5-a658ce4bbb13\",\"type\":\"LinearScale\"},{\"attributes\":{\"callback\":null},\"id\":\"a86809af-ed83-4939-844b-d0a7c1c947c0\",\"type\":\"DataRange1d\"},{\"attributes\":{},\"id\":\"6478e712-4e37-4d83-9efb-bb29c811647b\",\"type\":\"BasicTicker\"},{\"attributes\":{},\"id\":\"8208fc8b-8c47-41dc-a08a-4bd5f9711a80\",\"type\":\"BasicTicker\"},{\"attributes\":{\"source\":{\"id\":\"162cea44-0df6-43ba-99c0-c57b4d9eecb5\",\"type\":\"ColumnDataSource\"}},\"id\":\"c3e07c20-edc5-4bb7-8622-2373351eb138\",\"type\":\"CDSView\"},{\"attributes\":{\"callback\":{\"id\":\"5552b79c-83af-4fb3-bf1c-1978497bdf23\",\"type\":\"OpenURL\"}},\"id\":\"305a6737-1eba-45ba-97ab-9a2d82383d95\",\"type\":\"TapTool\"},{\"attributes\":{\"fill_alpha\":{\"value\":0.1},\"fill_color\":{\"value\":\"#1f77b4\"},\"line_alpha\":{\"value\":0.1},\"line_color\":{\"value\":\"#1f77b4\"},\"size\":{\"units\":\"screen\",\"value\":20},\"x\":{\"field\":\"x\"},\"y\":{\"field\":\"y\"}},\"id\":\"24f7171b-e3de-4c6d-b551-f8c39cdb3318\",\"type\":\"Circle\"},{\"attributes\":{},\"id\":\"827cecf6-42dc-4563-a526-00f3a7437813\",\"type\":\"LinearScale\"},{\"attributes\":{\"formatter\":{\"id\":\"e4527ee7-ccec-4359-b5da-0994b1c5ff88\",\"type\":\"BasicTickFormatter\"},\"plot\":{\"id\":\"513fce19-4780-49e3-80cb-9555528e099f\",\"subtype\":\"Figure\",\"type\":\"Plot\"},\"ticker\":{\"id\":\"6478e712-4e37-4d83-9efb-bb29c811647b\",\"type\":\"BasicTicker\"}},\"id\":\"28e35c75-e62b-4e0a-b2b8-61f7fca1e5b4\",\"type\":\"LinearAxis\"},{\"attributes\":{\"callback\":null,\"column_names\":[\"color\",\"x\",\"urls\",\"y\"],\"data\":{\"color\":[\"navy\",\"orange\",\"olive\",\"firebrick\",\"gold\"],\"urls\":[\"http://www.colors.commutercreative.com/navy/\",\"http://www.colors.commutercreative.com/orange/\",\"http://www.colors.commutercreative.com/olive/\",\"http://www.colors.commutercreative.com/firebrick/\",\"http://www.colors.commutercreative.com/gold/\"],\"x\":[1,2,3,4,5],\"y\":[2,5,8,2,7]},\"selected\":null,\"selection_policy\":null},\"id\":\"162cea44-0df6-43ba-99c0-c57b4d9eecb5\",\"type\":\"ColumnDataSource\"},{\"attributes\":{\"active_drag\":\"auto\",\"active_inspect\":\"auto\",\"active_scroll\":\"auto\",\"active_tap\":\"auto\",\"tools\":[{\"id\":\"305a6737-1eba-45ba-97ab-9a2d82383d95\",\"type\":\"TapTool\"},{\"id\":\"b0ab454c-0cad-450f-beda-aea6980b34fc\",\"type\":\"ResetTool\"}]},\"id\":\"355d985a-dbb9-423e-9352-3098cad5405f\",\"type\":\"Toolbar\"},{\"attributes\":{},\"id\":\"e4527ee7-ccec-4359-b5da-0994b1c5ff88\",\"type\":\"BasicTickFormatter\"},{\"attributes\":{\"plot\":{\"id\":\"513fce19-4780-49e3-80cb-9555528e099f\",\"subtype\":\"Figure\",\"type\":\"Plot\"},\"ticker\":{\"id\":\"8208fc8b-8c47-41dc-a08a-4bd5f9711a80\",\"type\":\"BasicTicker\"}},\"id\":\"290be3dc-5b58-4050-af22-71eb3b113d06\",\"type\":\"Grid\"},{\"attributes\":{},\"id\":\"b0ab454c-0cad-450f-beda-aea6980b34fc\",\"type\":\"ResetTool\"},{\"attributes\":{\"fill_color\":{\"field\":\"color\"},\"line_color\":{\"field\":\"color\"},\"size\":{\"units\":\"screen\",\"value\":20},\"x\":{\"field\":\"x\"},\"y\":{\"field\":\"y\"}},\"id\":\"f0308b39-9861-4855-aa8f-89cfc666d7cc\",\"type\":\"Circle\"},{\"attributes\":{\"data_source\":{\"id\":\"162cea44-0df6-43ba-99c0-c57b4d9eecb5\",\"type\":\"ColumnDataSource\"},\"glyph\":{\"id\":\"f0308b39-9861-4855-aa8f-89cfc666d7cc\",\"type\":\"Circle\"},\"hover_glyph\":null,\"muted_glyph\":null,\"nonselection_glyph\":{\"id\":\"24f7171b-e3de-4c6d-b551-f8c39cdb3318\",\"type\":\"Circle\"},\"selection_glyph\":null,\"view\":{\"id\":\"c3e07c20-edc5-4bb7-8622-2373351eb138\",\"type\":\"CDSView\"}},\"id\":\"efc0cdda-ad10-45a6-8f6f-9396a7522021\",\"type\":\"GlyphRenderer\"},{\"attributes\":{\"below\":[{\"id\":\"dd2da32b-57a4-4df8-9e57-c4b17aeecb0e\",\"type\":\"LinearAxis\"}],\"left\":[{\"id\":\"28e35c75-e62b-4e0a-b2b8-61f7fca1e5b4\",\"type\":\"LinearAxis\"}],\"plot_height\":400,\"plot_width\":400,\"renderers\":[{\"id\":\"dd2da32b-57a4-4df8-9e57-c4b17aeecb0e\",\"type\":\"LinearAxis\"},{\"id\":\"290be3dc-5b58-4050-af22-71eb3b113d06\",\"type\":\"Grid\"},{\"id\":\"28e35c75-e62b-4e0a-b2b8-61f7fca1e5b4\",\"type\":\"LinearAxis\"},{\"id\":\"124ada52-cadc-4ad7-9c30-88174be644da\",\"type\":\"Grid\"},{\"id\":\"efc0cdda-ad10-45a6-8f6f-9396a7522021\",\"type\":\"GlyphRenderer\"}],\"title\":{\"id\":\"a31a0ce0-7d3b-4719-998f-d02fb41ebbc1\",\"type\":\"Title\"},\"toolbar\":{\"id\":\"355d985a-dbb9-423e-9352-3098cad5405f\",\"type\":\"Toolbar\"},\"x_range\":{\"id\":\"a86809af-ed83-4939-844b-d0a7c1c947c0\",\"type\":\"DataRange1d\"},\"x_scale\":{\"id\":\"827cecf6-42dc-4563-a526-00f3a7437813\",\"type\":\"LinearScale\"},\"y_range\":{\"id\":\"d4a8db00-8a9f-439c-b6d8-ae48bc4de962\",\"type\":\"DataRange1d\"},\"y_scale\":{\"id\":\"1da602df-977f-4a4e-bec5-a658ce4bbb13\",\"type\":\"LinearScale\"}},\"id\":\"513fce19-4780-49e3-80cb-9555528e099f\",\"subtype\":\"Figure\",\"type\":\"Plot\"},{\"attributes\":{\"callback\":null},\"id\":\"d4a8db00-8a9f-439c-b6d8-ae48bc4de962\",\"type\":\"DataRange1d\"},{\"attributes\":{\"dimension\":1,\"plot\":{\"id\":\"513fce19-4780-49e3-80cb-9555528e099f\",\"subtype\":\"Figure\",\"type\":\"Plot\"},\"ticker\":{\"id\":\"6478e712-4e37-4d83-9efb-bb29c811647b\",\"type\":\"BasicTicker\"}},\"id\":\"124ada52-cadc-4ad7-9c30-88174be644da\",\"type\":\"Grid\"},{\"attributes\":{\"plot\":null,\"text\":\"Click the Dots\"},\"id\":\"a31a0ce0-7d3b-4719-998f-d02fb41ebbc1\",\"type\":\"Title\"}],\"root_ids\":[\"513fce19-4780-49e3-80cb-9555528e099f\"]},\"title\":\"Bokeh Application\",\"version\":\"0.12.15\"}};\n",
       "  var render_items = [{\"docid\":\"ab13dc39-1f88-4c04-8831-c1ce065a57ee\",\"elementid\":\"5dd4e04d-7efb-4f44-879f-c8a218f66fa9\",\"modelid\":\"513fce19-4780-49e3-80cb-9555528e099f\"}];\n",
       "  root.Bokeh.embed.embed_items_notebook(docs_json, render_items);\n",
       "\n",
       "  }\n",
       "  if (root.Bokeh !== undefined) {\n",
       "    embed_document(root);\n",
       "  } else {\n",
       "    var attempts = 0;\n",
       "    var timer = setInterval(function(root) {\n",
       "      if (root.Bokeh !== undefined) {\n",
       "        embed_document(root);\n",
       "        clearInterval(timer);\n",
       "      }\n",
       "      attempts++;\n",
       "      if (attempts > 100) {\n",
       "        console.log(\"Bokeh: ERROR: Unable to run BokehJS code because BokehJS library is missing\")\n",
       "        clearInterval(timer);\n",
       "      }\n",
       "    }, 10, root)\n",
       "  }\n",
       "})(window);"
      ],
      "application/vnd.bokehjs_exec.v0+json": ""
     },
     "metadata": {
      "application/vnd.bokehjs_exec.v0+json": {
       "id": "513fce19-4780-49e3-80cb-9555528e099f"
      }
     },
     "output_type": "display_data"
    }
   ],
   "source": [
    "p = figure(plot_width=400, plot_height=400,\n",
    "           tools=['tap', 'reset'], title=\"Click the Dots\")\n",
    "\n",
    "source = ColumnDataSource(data=dict(\n",
    "    x=[1, 2, 3, 4, 5],\n",
    "    y=[2, 5, 8, 2, 7],\n",
    "    color=[\"navy\", \"orange\", \"olive\", \"firebrick\", \"gold\"],\n",
    "    urls = [\"http://www.colors.commutercreative.com/navy/\",\n",
    "       \"http://www.colors.commutercreative.com/orange/\",\n",
    "       \"http://www.colors.commutercreative.com/olive/\",\n",
    "       \"http://www.colors.commutercreative.com/firebrick/\",\n",
    "       \"http://www.colors.commutercreative.com/gold/\"]\n",
    "\n",
    "    ))\n",
    "\n",
    "p.circle('x', 'y', color='color', size=20, source=source)\n",
    "\n",
    "# url = \"http://www.colors.commutercreative.com/@color/\"\n",
    "\n",
    "url = \"@urls\" # use this with the urls in the source is more flexible\n",
    "taptool = p.select(type=TapTool)\n",
    "taptool.callback = OpenURL(url=url)\n",
    "\n",
    "\n",
    "show(p)"
   ]
  },
  {
   "cell_type": "markdown",
   "metadata": {},
   "source": [
    "## <a id='typeset'></a>\n",
    "\n",
    "## Typeset, axes, ticks\n",
    "\n",
    "####  [home](#home)"
   ]
  },
  {
   "cell_type": "code",
   "execution_count": 156,
   "metadata": {
    "scrolled": false
   },
   "outputs": [
    {
     "data": {
      "text/html": [
       "\n",
       "<div class=\"bk-root\">\n",
       "    <div class=\"bk-plotdiv\" id=\"0934f636-dc8b-4457-af71-41080a5d2b6a\"></div>\n",
       "</div>"
      ]
     },
     "metadata": {},
     "output_type": "display_data"
    },
    {
     "data": {
      "application/javascript": [
       "(function(root) {\n",
       "  function embed_document(root) {\n",
       "    \n",
       "  var docs_json = {\"8a97b0cf-b4a8-4aca-959f-d2ee9a9076c0\":{\"roots\":{\"references\":[{\"attributes\":{\"fill_alpha\":{\"value\":0.1},\"fill_color\":{\"value\":\"#1f77b4\"},\"line_alpha\":{\"value\":0.1},\"line_color\":{\"value\":\"#1f77b4\"},\"x\":{\"field\":\"x\"},\"y\":{\"field\":\"y\"}},\"id\":\"481a61dc-e66c-4e25-885c-47cf6ad6089a\",\"type\":\"Circle\"},{\"attributes\":{\"dimension\":1,\"plot\":{\"id\":\"7f159b15-87f1-4291-af45-dd82c61f23b9\",\"subtype\":\"Figure\",\"type\":\"Plot\"},\"ticker\":{\"id\":\"bda82c90-3b7f-4cfd-a1a4-e96435495b09\",\"type\":\"FixedTicker\"}},\"id\":\"f72ef5c4-2ac3-4cdd-8460-1672029ae3a4\",\"type\":\"Grid\"},{\"attributes\":{\"ticks\":[1,2.5,5]},\"id\":\"e8247bc1-6cdc-47a9-81a3-fae7ec4edd92\",\"type\":\"FixedTicker\"},{\"attributes\":{\"axis_label\":\"X\",\"formatter\":{\"id\":\"dc9018ed-2609-4679-8edd-5135f389e2c5\",\"type\":\"CategoricalTickFormatter\"},\"plot\":{\"id\":\"7f159b15-87f1-4291-af45-dd82c61f23b9\",\"subtype\":\"Figure\",\"type\":\"Plot\"},\"ticker\":{\"id\":\"70949020-7fa7-4288-9f48-1b508a404a73\",\"type\":\"CategoricalTicker\"}},\"id\":\"a8f69c0f-feda-4640-8cae-9bb0dd84fccd\",\"type\":\"CategoricalAxis\"},{\"attributes\":{\"callback\":null,\"factors\":[\"A\",\"B\",\"C\",\"D\",\"E\"]},\"id\":\"34decbe3-adfa-45aa-942c-40d08071a20f\",\"type\":\"FactorRange\"},{\"attributes\":{},\"id\":\"91c01fbc-3e5c-4374-b17e-4c74de1c2898\",\"type\":\"HelpTool\"},{\"attributes\":{\"formatter\":{\"id\":\"fae4249d-3260-4f4e-ae0a-30445d592b7c\",\"type\":\"BasicTickFormatter\"},\"major_label_text_font_size\":{\"value\":\"1.5em\"},\"major_tick_in\":-4,\"major_tick_out\":10,\"plot\":{\"id\":\"7f159b15-87f1-4291-af45-dd82c61f23b9\",\"subtype\":\"Figure\",\"type\":\"Plot\"},\"ticker\":{\"id\":\"e8247bc1-6cdc-47a9-81a3-fae7ec4edd92\",\"type\":\"FixedTicker\"}},\"id\":\"dce836d5-7ecd-454c-b1bd-51d097a4b19f\",\"type\":\"LinearAxis\"},{\"attributes\":{\"plot\":{\"id\":\"7f159b15-87f1-4291-af45-dd82c61f23b9\",\"subtype\":\"Figure\",\"type\":\"Plot\"},\"ticker\":{\"id\":\"70949020-7fa7-4288-9f48-1b508a404a73\",\"type\":\"CategoricalTicker\"}},\"id\":\"ca07f908-1229-45f7-8e48-f62357387900\",\"type\":\"Grid\"},{\"attributes\":{},\"id\":\"4b2a7d66-3419-4f2b-b077-cb55c5aa5bac\",\"type\":\"ResetTool\"},{\"attributes\":{},\"id\":\"a5e2db1a-edc2-463d-a5aa-9b83198bedf6\",\"type\":\"SaveTool\"},{\"attributes\":{},\"id\":\"fae4249d-3260-4f4e-ae0a-30445d592b7c\",\"type\":\"BasicTickFormatter\"},{\"attributes\":{\"background_fill_alpha\":{\"value\":0.3},\"background_fill_color\":{\"value\":\"#AAFFEE\"},\"below\":[{\"id\":\"a8f69c0f-feda-4640-8cae-9bb0dd84fccd\",\"type\":\"CategoricalAxis\"}],\"left\":[{\"id\":\"dce836d5-7ecd-454c-b1bd-51d097a4b19f\",\"type\":\"LinearAxis\"}],\"min_border\":10,\"plot_height\":400,\"plot_width\":400,\"renderers\":[{\"id\":\"a8f69c0f-feda-4640-8cae-9bb0dd84fccd\",\"type\":\"CategoricalAxis\"},{\"id\":\"ca07f908-1229-45f7-8e48-f62357387900\",\"type\":\"Grid\"},{\"id\":\"dce836d5-7ecd-454c-b1bd-51d097a4b19f\",\"type\":\"LinearAxis\"},{\"id\":\"f72ef5c4-2ac3-4cdd-8460-1672029ae3a4\",\"type\":\"Grid\"},{\"id\":\"bc34267f-97aa-4192-b35c-cb742eb90405\",\"type\":\"BoxAnnotation\"},{\"id\":\"659b149a-22f5-4e2d-9e18-68a090708833\",\"type\":\"GlyphRenderer\"}],\"title\":{\"id\":\"0c88d3f4-3ff9-47b1-a98f-51620d3c6347\",\"type\":\"Title\"},\"toolbar\":{\"id\":\"28758a8a-4e23-4591-9e40-1248c6573c04\",\"type\":\"Toolbar\"},\"x_range\":{\"id\":\"34decbe3-adfa-45aa-942c-40d08071a20f\",\"type\":\"FactorRange\"},\"x_scale\":{\"id\":\"c0e7f62a-fa1b-4e9e-a8e7-556e59ca6b2e\",\"type\":\"CategoricalScale\"},\"y_range\":{\"id\":\"62ade372-e05b-41ce-8d56-65479047a4e0\",\"type\":\"DataRange1d\"},\"y_scale\":{\"id\":\"2200897b-b560-423d-88db-3e73f724d6f2\",\"type\":\"LinearScale\"}},\"id\":\"7f159b15-87f1-4291-af45-dd82c61f23b9\",\"subtype\":\"Figure\",\"type\":\"Plot\"},{\"attributes\":{\"data_source\":{\"id\":\"c65ff522-f06b-4e1d-adff-a4bf8c6efb15\",\"type\":\"ColumnDataSource\"},\"glyph\":{\"id\":\"0152d34c-7088-4d35-beea-91338b8a08fd\",\"type\":\"Circle\"},\"hover_glyph\":null,\"muted_glyph\":null,\"nonselection_glyph\":{\"id\":\"481a61dc-e66c-4e25-885c-47cf6ad6089a\",\"type\":\"Circle\"},\"selection_glyph\":null,\"view\":{\"id\":\"ebacd0b0-fa97-461a-a3ec-216685fff833\",\"type\":\"CDSView\"}},\"id\":\"659b149a-22f5-4e2d-9e18-68a090708833\",\"type\":\"GlyphRenderer\"},{\"attributes\":{},\"id\":\"cfec573b-4857-49a6-9200-8e1212b74afd\",\"type\":\"PanTool\"},{\"attributes\":{\"callback\":null,\"column_names\":[\"x\",\"y\"],\"data\":{\"x\":[\"A\",\"B\",\"C\",\"D\",\"E\"],\"y\":[1,3,4,2,5]},\"selected\":null,\"selection_policy\":null},\"id\":\"c65ff522-f06b-4e1d-adff-a4bf8c6efb15\",\"type\":\"ColumnDataSource\"},{\"attributes\":{\"fill_color\":{\"value\":\"#1f77b4\"},\"line_color\":{\"value\":\"#1f77b4\"},\"x\":{\"field\":\"x\"},\"y\":{\"field\":\"y\"}},\"id\":\"0152d34c-7088-4d35-beea-91338b8a08fd\",\"type\":\"Circle\"},{\"attributes\":{\"bottom_units\":\"screen\",\"fill_alpha\":{\"value\":0.5},\"fill_color\":{\"value\":\"lightgrey\"},\"left_units\":\"screen\",\"level\":\"overlay\",\"line_alpha\":{\"value\":1.0},\"line_color\":{\"value\":\"black\"},\"line_dash\":[4,4],\"line_width\":{\"value\":2},\"plot\":null,\"render_mode\":\"css\",\"right_units\":\"screen\",\"top_units\":\"screen\"},\"id\":\"bc34267f-97aa-4192-b35c-cb742eb90405\",\"type\":\"BoxAnnotation\"},{\"attributes\":{},\"id\":\"dc9018ed-2609-4679-8edd-5135f389e2c5\",\"type\":\"CategoricalTickFormatter\"},{\"attributes\":{\"ticks\":[1,2.5,5]},\"id\":\"bda82c90-3b7f-4cfd-a1a4-e96435495b09\",\"type\":\"FixedTicker\"},{\"attributes\":{\"active_drag\":\"auto\",\"active_inspect\":\"auto\",\"active_scroll\":\"auto\",\"active_tap\":\"auto\",\"logo\":null,\"tools\":[{\"id\":\"cfec573b-4857-49a6-9200-8e1212b74afd\",\"type\":\"PanTool\"},{\"id\":\"da397723-9029-469c-89ff-e4ea2490ba9a\",\"type\":\"WheelZoomTool\"},{\"id\":\"73f11c91-eae1-45dc-b821-a36a4e0658c8\",\"type\":\"BoxZoomTool\"},{\"id\":\"a5e2db1a-edc2-463d-a5aa-9b83198bedf6\",\"type\":\"SaveTool\"},{\"id\":\"4b2a7d66-3419-4f2b-b077-cb55c5aa5bac\",\"type\":\"ResetTool\"},{\"id\":\"91c01fbc-3e5c-4374-b17e-4c74de1c2898\",\"type\":\"HelpTool\"}]},\"id\":\"28758a8a-4e23-4591-9e40-1248c6573c04\",\"type\":\"Toolbar\"},{\"attributes\":{\"source\":{\"id\":\"c65ff522-f06b-4e1d-adff-a4bf8c6efb15\",\"type\":\"ColumnDataSource\"}},\"id\":\"ebacd0b0-fa97-461a-a3ec-216685fff833\",\"type\":\"CDSView\"},{\"attributes\":{},\"id\":\"da397723-9029-469c-89ff-e4ea2490ba9a\",\"type\":\"WheelZoomTool\"},{\"attributes\":{},\"id\":\"c0e7f62a-fa1b-4e9e-a8e7-556e59ca6b2e\",\"type\":\"CategoricalScale\"},{\"attributes\":{},\"id\":\"2200897b-b560-423d-88db-3e73f724d6f2\",\"type\":\"LinearScale\"},{\"attributes\":{},\"id\":\"70949020-7fa7-4288-9f48-1b508a404a73\",\"type\":\"CategoricalTicker\"},{\"attributes\":{\"callback\":null},\"id\":\"62ade372-e05b-41ce-8d56-65479047a4e0\",\"type\":\"DataRange1d\"},{\"attributes\":{\"align\":\"center\",\"plot\":null,\"text\":\"Title\",\"text_font_size\":{\"value\":\"2em\"}},\"id\":\"0c88d3f4-3ff9-47b1-a98f-51620d3c6347\",\"type\":\"Title\"},{\"attributes\":{\"overlay\":{\"id\":\"bc34267f-97aa-4192-b35c-cb742eb90405\",\"type\":\"BoxAnnotation\"}},\"id\":\"73f11c91-eae1-45dc-b821-a36a4e0658c8\",\"type\":\"BoxZoomTool\"}],\"root_ids\":[\"7f159b15-87f1-4291-af45-dd82c61f23b9\"]},\"title\":\"Bokeh Application\",\"version\":\"0.12.15\"}};\n",
       "  var render_items = [{\"docid\":\"8a97b0cf-b4a8-4aca-959f-d2ee9a9076c0\",\"elementid\":\"0934f636-dc8b-4457-af71-41080a5d2b6a\",\"modelid\":\"7f159b15-87f1-4291-af45-dd82c61f23b9\"}];\n",
       "  root.Bokeh.embed.embed_items_notebook(docs_json, render_items);\n",
       "\n",
       "  }\n",
       "  if (root.Bokeh !== undefined) {\n",
       "    embed_document(root);\n",
       "  } else {\n",
       "    var attempts = 0;\n",
       "    var timer = setInterval(function(root) {\n",
       "      if (root.Bokeh !== undefined) {\n",
       "        embed_document(root);\n",
       "        clearInterval(timer);\n",
       "      }\n",
       "      attempts++;\n",
       "      if (attempts > 100) {\n",
       "        console.log(\"Bokeh: ERROR: Unable to run BokehJS code because BokehJS library is missing\")\n",
       "        clearInterval(timer);\n",
       "      }\n",
       "    }, 10, root)\n",
       "  }\n",
       "})(window);"
      ],
      "application/vnd.bokehjs_exec.v0+json": ""
     },
     "metadata": {
      "application/vnd.bokehjs_exec.v0+json": {
       "id": "7f159b15-87f1-4291-af45-dd82c61f23b9"
      }
     },
     "output_type": "display_data"
    }
   ],
   "source": [
    "##\n",
    "\n",
    "X = ['A','B','C','D','E']\n",
    "p = figure(x_range =X, plot_width=400, plot_height=400, background_fill_color='#AAFFEE', background_fill_alpha=0.3)\n",
    "# p.tools = ['pantool']\n",
    "Y = [1,3,4,2,5]\n",
    "p.circle(X,Y)\n",
    "p.title.text = 'Title'\n",
    "p.title.text_font_size = '2em'\n",
    "p.title.align = 'center'\n",
    "\n",
    "# p.xaxis.visible = False # using axis changes both x and y\n",
    "# p.yaxis.minor_tick_line_color = None\n",
    "p.yaxis.major_tick_out = 10\n",
    "p.yaxis.major_tick_in = -4\n",
    "p.yaxis.major_label_text_font_size = '1.5em'\n",
    "\n",
    "p.xaxis.axis_label = 'X'\n",
    "p.toolbar.logo = None\n",
    "p.yaxis.ticker = FixedTicker(ticks=[1, 2.5,5]) #[1, 2.5,5]\n",
    "p.ygrid.ticker = FixedTicker(ticks=[1, 2.5,5])\n",
    "\n",
    "\n",
    "show(p)"
   ]
  },
  {
   "cell_type": "code",
   "execution_count": 45,
   "metadata": {
    "scrolled": false
   },
   "outputs": [
    {
     "data": {
      "text/html": [
       "<div style=\"display: table;\"><div style=\"display: table-row;\"><div style=\"display: table-cell;\"><b title=\"bokeh.models.tickers.BasicTicker\">BasicTicker</b>(</div><div style=\"display: table-cell;\">id&nbsp;=&nbsp;'f071addf-8778-40d8-9a24-ed7ee3cefb16', <span id=\"3bacffb7-c1a0-4bcc-ab12-c35a34dad472\" style=\"cursor: pointer;\">&hellip;)</span></div></div><div class=\"a662945f-4f56-40a6-93f5-29d0a02fffe3\" style=\"display: none;\"><div style=\"display: table-cell;\"></div><div style=\"display: table-cell;\">base&nbsp;=&nbsp;10.0,</div></div><div class=\"a662945f-4f56-40a6-93f5-29d0a02fffe3\" style=\"display: none;\"><div style=\"display: table-cell;\"></div><div style=\"display: table-cell;\">desired_num_ticks&nbsp;=&nbsp;6,</div></div><div class=\"a662945f-4f56-40a6-93f5-29d0a02fffe3\" style=\"display: none;\"><div style=\"display: table-cell;\"></div><div style=\"display: table-cell;\">js_event_callbacks&nbsp;=&nbsp;{},</div></div><div class=\"a662945f-4f56-40a6-93f5-29d0a02fffe3\" style=\"display: none;\"><div style=\"display: table-cell;\"></div><div style=\"display: table-cell;\">js_property_callbacks&nbsp;=&nbsp;{},</div></div><div class=\"a662945f-4f56-40a6-93f5-29d0a02fffe3\" style=\"display: none;\"><div style=\"display: table-cell;\"></div><div style=\"display: table-cell;\">mantissas&nbsp;=&nbsp;[1, 2, 5],</div></div><div class=\"a662945f-4f56-40a6-93f5-29d0a02fffe3\" style=\"display: none;\"><div style=\"display: table-cell;\"></div><div style=\"display: table-cell;\">max_interval&nbsp;=&nbsp;None,</div></div><div class=\"a662945f-4f56-40a6-93f5-29d0a02fffe3\" style=\"display: none;\"><div style=\"display: table-cell;\"></div><div style=\"display: table-cell;\">min_interval&nbsp;=&nbsp;0.0,</div></div><div class=\"a662945f-4f56-40a6-93f5-29d0a02fffe3\" style=\"display: none;\"><div style=\"display: table-cell;\"></div><div style=\"display: table-cell;\">name&nbsp;=&nbsp;None,</div></div><div class=\"a662945f-4f56-40a6-93f5-29d0a02fffe3\" style=\"display: none;\"><div style=\"display: table-cell;\"></div><div style=\"display: table-cell;\">num_minor_ticks&nbsp;=&nbsp;5,</div></div><div class=\"a662945f-4f56-40a6-93f5-29d0a02fffe3\" style=\"display: none;\"><div style=\"display: table-cell;\"></div><div style=\"display: table-cell;\">subscribed_events&nbsp;=&nbsp;[],</div></div><div class=\"a662945f-4f56-40a6-93f5-29d0a02fffe3\" style=\"display: none;\"><div style=\"display: table-cell;\"></div><div style=\"display: table-cell;\">tags&nbsp;=&nbsp;[])</div></div></div>\n",
       "<script>\n",
       "(function() {\n",
       "  var expanded = false;\n",
       "  var ellipsis = document.getElementById(\"3bacffb7-c1a0-4bcc-ab12-c35a34dad472\");\n",
       "  ellipsis.addEventListener(\"click\", function() {\n",
       "    var rows = document.getElementsByClassName(\"a662945f-4f56-40a6-93f5-29d0a02fffe3\");\n",
       "    for (var i = 0; i < rows.length; i++) {\n",
       "      var el = rows[i];\n",
       "      el.style.display = expanded ? \"none\" : \"table-row\";\n",
       "    }\n",
       "    ellipsis.innerHTML = expanded ? \"&hellip;)\" : \"&lsaquo;&lsaquo;&lsaquo;\";\n",
       "    expanded = !expanded;\n",
       "  });\n",
       "})();\n",
       "</script>\n"
      ],
      "text/plain": [
       "BasicTicker(id='f071addf-8778-40d8-9a24-ed7ee3cefb16', ...)"
      ]
     },
     "execution_count": 45,
     "metadata": {},
     "output_type": "execute_result"
    }
   ],
   "source": []
  },
  {
   "cell_type": "code",
   "execution_count": null,
   "metadata": {
    "collapsed": true,
    "scrolled": false
   },
   "outputs": [],
   "source": []
  }
 ],
 "metadata": {
  "kernelspec": {
   "display_name": "Python 3",
   "language": "python",
   "name": "python3"
  },
  "language_info": {
   "codemirror_mode": {
    "name": "ipython",
    "version": 3
   },
   "file_extension": ".py",
   "mimetype": "text/x-python",
   "name": "python",
   "nbconvert_exporter": "python",
   "pygments_lexer": "ipython3",
   "version": "3.5.3"
  }
 },
 "nbformat": 4,
 "nbformat_minor": 2
}
