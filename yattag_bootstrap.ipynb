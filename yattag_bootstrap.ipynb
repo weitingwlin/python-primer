{
 "cells": [
  {
   "cell_type": "markdown",
   "metadata": {},
   "source": [
    "# Creating bootstrap webpages from python\n",
    "\n"
   ]
  },
  {
   "cell_type": "code",
   "execution_count": 1,
   "metadata": {
    "collapsed": true
   },
   "outputs": [],
   "source": [
    "from datetime import datetime, timedelta\n",
    "from pytz import timezone\n",
    "import pytz\n",
    "utc = pytz.utc\n",
    "pst = timezone('US/Pacific-New')\n",
    "from dateutil.relativedelta import *\n",
    "\n",
    "from collections import defaultdict\n",
    "from yattag import Doc\n",
    "from yattag import indent\n",
    "import pandas as pd\n",
    "\n",
    "# for displaying \n",
    "from IPython.core.display import display, HTML\n",
    "from IPython.display import IFrame\n",
    "# display(HTML(df_table))\n",
    "# IFrame(src='template.html', width='80%', height='400')"
   ]
  },
  {
   "cell_type": "markdown",
   "metadata": {},
   "source": [
    "# bootstrap templates\n",
    "\n",
    "Build bootstrap page from python codes"
   ]
  },
  {
   "cell_type": "code",
   "execution_count": 2,
   "metadata": {
    "collapsed": true
   },
   "outputs": [],
   "source": [
    "def bootstrap_template(input_plugins):\n",
    "    doc, tag, text = Doc().tagtext()\n",
    "    '''\n",
    "    input_plugins={\n",
    "    'tag_title': 'HOME',\n",
    "    'icon': 'icon.png',\n",
    "    'chunk_head': '', # additional head stuff (script, links)\n",
    "    'page_title': 'title placeholder',\n",
    "    'page_subtitle':'subtitle placeholder',\n",
    "    'page_text': 'text placeholder',\n",
    "    'nav_bar': 'nav bar asis'\n",
    "    'chunk_A': 'whatever asis in container',\n",
    "    'chunk_B': 'whatever asis in container',\n",
    "    'chunk_C': 'whatever asis out of container'\n",
    "    'chunk_D': 'whatever asis out of container'\n",
    "    }\n",
    "    '''\n",
    "    # default the plugin\n",
    "    plug = defaultdict(str)\n",
    "    if isinstance(input_plugins, dict):\n",
    "        for key, value in input_plugins.items():\n",
    "            plug[key] = value\n",
    "    else:\n",
    "        plug['chunk_A'] = input_plugins\n",
    "\n",
    "\n",
    "    with tag('html', lang=\"en\"):\n",
    "        with tag('head'):\n",
    "            doc.asis('<meta charset=\"utf-8\">')\n",
    "            with tag('title'):\n",
    "                text(plug['tag_title'])\n",
    "            # icon\n",
    "            doc.asis('<!-- icon -->') # add note to the html, so the html is readable\n",
    "            doc.asis('<link rel=\"icon\"  type=\"image/png\"  href=\"'+ plug['icon'] +'\">')\n",
    "            # bootstrap things\n",
    "            doc.asis('<!-- bootstrap things -->')\n",
    "            doc.asis('<link rel=\"stylesheet\" href=\"https://maxcdn.bootstrapcdn.com/bootstrap/4.0.0/css/bootstrap.min.css\" integrity=\"sha384-Gn5384xqQ1aoWXA+058RXPxPg6fy4IWvTNh0E263XmFcJlSAwiGgFAW/dAiS6JXm\" crossorigin=\"anonymous\">')\n",
    "            with tag('script', src=\"https://code.jquery.com/jquery-3.2.1.slim.min.js\", integrity=\"sha384-KJ3o2DKtIkvYIK3UENzmM7KCkRr/rE9/Qpg6aAZGJwFDMVNA/GpGFF93hXpG5KkN\", crossorigin=\"anonymous\"):\n",
    "                pass\n",
    "            with tag('script',src=\"https://cdnjs.cloudflare.com/ajax/libs/popper.js/1.12.9/umd/popper.min.js\", integrity=\"sha384-ApNbgh9B+Y1QKtv3Rn7W3mgPxhU9K/ScQsAP7hUibX39j7fakFPskvXusvfa0b4Q\", crossorigin=\"anonymous\"):\n",
    "                pass\n",
    "            with tag('script',src=\"https://maxcdn.bootstrapcdn.com/bootstrap/4.0.0/js/bootstrap.min.js\", integrity=\"sha384-JZR6Spejh4U02d8jOt6vLEHfe/JQGiRRSQQxSfFWpi1MquVdAyjUar5+76PVCmYl\", crossorigin=\"anonymous\"):\n",
    "                pass\n",
    "            doc.asis('<!-- chunk_head -->') \n",
    "            doc.asis(plug['chunk_head'])\n",
    "            doc.asis('<!-- chunk_head -->') \n",
    "            \n",
    "        with tag('body'):\n",
    "            doc.asis('<!-- nav_bar -->') \n",
    "            doc.asis(plug['nav_bar'])\n",
    "            doc.asis('<!-- nav_bar -->')                        \n",
    "            with tag('div',style=\"background:transparent !important\" ,klass=\"jumbotron jumbotron-fluid\"):\n",
    "                with tag('div', klass=\"container\", style='padding-top: 30px'):\n",
    "                    with tag('h1', klass=\"display-3\"):\n",
    "                        text(plug['page_title'])\n",
    "                    with tag('h2', klass=\"display-4\"):\n",
    "                        text(plug['page_subtitle'])\n",
    "                    with tag('p'):\n",
    "                        text(plug['page_text'])    \n",
    "                    doc.asis('<!-- chunk_A -->') \n",
    "                    doc.asis(plug['chunk_A'])\n",
    "                    doc.asis('<!-- end chunk_A -->')\n",
    "                    \n",
    "                    doc.asis('<!-- chunk_B -->') \n",
    "                    doc.asis(plug['chunk_B'])\n",
    "                    doc.asis('<!-- end chunk_B -->')\n",
    "            doc.asis('<!-- chunk_C -->') \n",
    "            doc.asis(plug['chunk_C'])\n",
    "            doc.asis('<!-- end chunk_C -->')\n",
    "            doc.asis('<!-- chunk_D -->') \n",
    "            doc.asis(plug['chunk_D'])\n",
    "            doc.asis('<!-- end chunk_D -->')\n",
    "    return indent(doc.getvalue())"
   ]
  },
  {
   "cell_type": "markdown",
   "metadata": {},
   "source": [
    "### Try it out"
   ]
  },
  {
   "cell_type": "code",
   "execution_count": 3,
   "metadata": {},
   "outputs": [
    {
     "data": {
      "text/html": [
       "\n",
       "        <iframe\n",
       "            width=\"80%\"\n",
       "            height=\"400\"\n",
       "            src=\"template.html\"\n",
       "            frameborder=\"0\"\n",
       "            allowfullscreen\n",
       "        ></iframe>\n",
       "        "
      ],
      "text/plain": [
       "<IPython.lib.display.IFrame at 0x11007d6d8>"
      ]
     },
     "execution_count": 3,
     "metadata": {},
     "output_type": "execute_result"
    }
   ],
   "source": [
    "plug = {'page_title': 'Bootstrap-style title',\n",
    "        'chunk_A': '<img src=\"https://www.w3schools.com/bootstrap4/paris.jpg\" class=\"mx-auto d-block\">'}\n",
    "# plug =  '<img src=\"https://www.w3schools.com/bootstrap4/paris.jpg\" class=\"mx-auto d-block\">'\n",
    "\n",
    "with open('template.html', 'w') as f:\n",
    "    f.write(bootstrap_template(plug))\n",
    "IFrame(src='template.html', width='80%', height='400')"
   ]
  },
  {
   "cell_type": "markdown",
   "metadata": {},
   "source": [
    "## make a template"
   ]
  },
  {
   "cell_type": "code",
   "execution_count": 6,
   "metadata": {},
   "outputs": [],
   "source": [
    "input_plugins={\\\n",
    "    'tag_title': 'HOME',\n",
    "    'icon': 'icon.png',\n",
    "    'chunk_head': '', # additional head stuff (script, links)\n",
    "    'page_title': 'title placeholder',\n",
    "    'page_subtitle':'subtitle placeholder',\n",
    "    'page_text': 'text placeholder',\n",
    "    'nav_bar': 'nav bar asis',\n",
    "    'chunk_A': 'whatever asis in container',\n",
    "    'chunk_B': 'whatever asis in container',\n",
    "    'chunk_C': 'whatever asis out of container',\n",
    "    'chunk_D': 'whatever asis out of container'\n",
    "    }\n",
    "\n",
    "with open('template.html', 'w') as f:\n",
    "    f.write(bootstrap_template(input_plugins))"
   ]
  },
  {
   "cell_type": "markdown",
   "metadata": {},
   "source": [
    "## Nav bar template"
   ]
  },
  {
   "cell_type": "code",
   "execution_count": 4,
   "metadata": {
    "collapsed": true
   },
   "outputs": [],
   "source": [
    "def bootstrap_navbar(input_plugins):\n",
    "    doc, tag, text = Doc().tagtext()\n",
    "    '''\n",
    "    input_plugins={\n",
    "    'home_tab': 'HOME',\n",
    "    'home_page': 'index.html',\n",
    "    'nav_prefix': '', #\n",
    "    'tabs': [['tab1', 'tab1.html'],['tab2', 'tab2.html'],['tab3', 'tab3.html']],\n",
    "    'page_title': 'title placeholder',\n",
    "    }\n",
    "    '''\n",
    "    # default the \n",
    "    plug = defaultdict(str)\n",
    "    for key, value in input_plugins.items():\n",
    "        plug[key] = value\n",
    "    \n",
    "    with tag('nav',klass=\"navbar fixed-top navbar-expand-md navbar-light bg-light\"):\n",
    "                with tag('a',klass=\"navbar-brand\", href=plug['nav_prefix'] + plug['home_page']):\n",
    "                    text(plug['home_tab'])\n",
    "                    \n",
    "                doc.asis('<button class=\"navbar-toggler\" type=\"button\" data-toggle=\"collapse\" data-target=\"#navbarNav\" aria-controls=\"navbarNav\" aria-expanded=\"false\" aria-label=\"Toggle navigation\"><span class=\"navbar-toggler-icon\"></span></button>')\n",
    "                with tag('div', klass=\"collapse navbar-collapse\", id=\"navbarNav\"):\n",
    "                    with tag('ul', klass=\"navbar-nav\"):\n",
    "                        for tabi, linki in plug['tabs']:\n",
    "                            with tag('li',klass=\"nav-item\"):\n",
    "                                with tag('a',klass=\"nav-link\", href=plug['nav_prefix'] + linki):\n",
    "                                    text(tabi)\n",
    "    return indent(doc.getvalue())"
   ]
  },
  {
   "cell_type": "markdown",
   "metadata": {},
   "source": [
    "### Try it out"
   ]
  },
  {
   "cell_type": "code",
   "execution_count": 11,
   "metadata": {
    "collapsed": true
   },
   "outputs": [],
   "source": [
    "plug ={\n",
    "    'home_tab': 'HOME',\n",
    "    'home_page': 'index.html',\n",
    "    'nav_prefix': '', # if the current page is hidden somewhere\n",
    "    'tabs':[],# [['tab1', 'tab1.html'],['tab2', 'tab2.html'],['tab3', 'tab3.html']],\n",
    "    'page_title': 'title placeholder',\n",
    "    }\n",
    "nav_asis = bootstrap_navbar(plug)"
   ]
  },
  {
   "cell_type": "code",
   "execution_count": 12,
   "metadata": {},
   "outputs": [
    {
     "data": {
      "text/html": [
       "\n",
       "        <iframe\n",
       "            width=\"80%\"\n",
       "            height=\"200\"\n",
       "            src=\"template.html\"\n",
       "            frameborder=\"0\"\n",
       "            allowfullscreen\n",
       "        ></iframe>\n",
       "        "
      ],
      "text/plain": [
       "<IPython.lib.display.IFrame at 0x118dd5048>"
      ]
     },
     "execution_count": 12,
     "metadata": {},
     "output_type": "execute_result"
    }
   ],
   "source": [
    "plug = {'nav_bar': nav_asis,}\n",
    "with open('template.html', 'w') as f:\n",
    "    f.write(bootstrap_template(plug))\n",
    "IFrame(src='template.html', width='80%', height='200')"
   ]
  },
  {
   "cell_type": "markdown",
   "metadata": {},
   "source": [
    "### Example:  making a complete webpage"
   ]
  },
  {
   "cell_type": "code",
   "execution_count": 7,
   "metadata": {},
   "outputs": [
    {
     "data": {
      "text/html": [
       "\n",
       "        <iframe\n",
       "            width=\"80%\"\n",
       "            height=\"400\"\n",
       "            src=\"template.html\"\n",
       "            frameborder=\"0\"\n",
       "            allowfullscreen\n",
       "        ></iframe>\n",
       "        "
      ],
      "text/plain": [
       "<IPython.lib.display.IFrame at 0x118d9eb00>"
      ]
     },
     "execution_count": 7,
     "metadata": {},
     "output_type": "execute_result"
    }
   ],
   "source": [
    "plug_nav ={\n",
    "    'home_tab': 'HOME',\n",
    "    'home_page': 'index.html',\n",
    "    'nav_prefix': '',\n",
    "    'tabs': [['tab1', 'tab1.html'],['tab2', 'tab2.html'],['tab3', 'tab3.html']],\n",
    "    }\n",
    "nav_asis = bootstrap_navbar(plug_nav)\n",
    "\n",
    "footer = '<div class=\"jumbotron text-center\" style=\"margin-bottom:0\"> <p>Footer</p></div>'\n",
    "\n",
    "plug = {'page_title': 'Bootstrap-style title',\n",
    "        'nav_bar': nav_asis,\n",
    "        'tag_title': 'yattag', \n",
    "        'icon': 'icon.png',\n",
    "        'chunk_head': '', # additional head stuff (script, links)\n",
    "        'page_title': 'title placeholder',\n",
    "        'page_subtitle':'',\n",
    "        'page_text': 'check the actual webpage to see how \"tag_title\", \"icon\" works out',\n",
    "        'chunk_A': '<img src=\"https://www.w3schools.com/bootstrap4/paris.jpg\" class=\"mx-auto d-block\">',\n",
    "        'chunk_B': '<br><div class=\"card bg-info text-white\"><div class=\"card-body\">chunk_B</div></div>',\n",
    "        'chunk_C': '<p>what ever as is, out of the container</p>',\n",
    "        'chunk_D': footer,\n",
    "        }\n",
    "\n",
    "with open('template.html', 'w') as f:\n",
    "    f.write(bootstrap_template(plug))\n",
    "IFrame(src='template.html', width='80%', height='400')"
   ]
  },
  {
   "cell_type": "markdown",
   "metadata": {},
   "source": [
    "## Drop-down"
   ]
  },
  {
   "cell_type": "code",
   "execution_count": 16,
   "metadata": {
    "collapsed": true
   },
   "outputs": [],
   "source": [
    "def bootstrap_dropdown(title, items, links, link_prefix = ''):\n",
    "    '''\n",
    "    Return an 'asis' html elements\n",
    "    '''\n",
    "    doc1, tag1, text1 = Doc().tagtext()\n",
    "    with tag1('div',klass=\"dropdown show\"):\n",
    "        doc1.asis('<a class=\"btn btn-secondary dropdown-toggle\" href=\"#\" role=\"button\" id=\"dropdownMenuLink\" data-toggle=\"dropdown\" aria-haspopup=\"true\" aria-expanded=\"false\">'+ title +'</a>')\n",
    "        with tag1('div', klass=\"dropdown-menu\", aria_labelledby=\"dropdownMenuLink\"):\n",
    "            for d, l in zip(items, links):\n",
    "                with tag1('a',klass=\"dropdown-item\", href=link_prefix + l):\n",
    "                    text1(d)\n",
    "    return indent(doc1.getvalue())"
   ]
  },
  {
   "cell_type": "code",
   "execution_count": 19,
   "metadata": {},
   "outputs": [
    {
     "data": {
      "text/html": [
       "\n",
       "        <iframe\n",
       "            width=\"80%\"\n",
       "            height=\"200\"\n",
       "            src=\"template.html\"\n",
       "            frameborder=\"0\"\n",
       "            allowfullscreen\n",
       "        ></iframe>\n",
       "        "
      ],
      "text/plain": [
       "<IPython.lib.display.IFrame at 0x116bfcf28>"
      ]
     },
     "execution_count": 19,
     "metadata": {},
     "output_type": "execute_result"
    }
   ],
   "source": [
    "rgb = ['red', 'green', 'blue']\n",
    "manu = bootstrap_dropdown(title= 'colors', items=rgb, links=rgb, link_prefix = 'color/')\n",
    "with open('template.html', 'w') as f:\n",
    "    f.write(bootstrap_template(manu))\n",
    "IFrame(src='template.html', width='80%', height='200')"
   ]
  },
  {
   "cell_type": "markdown",
   "metadata": {},
   "source": [
    "# Table formatter\n",
    "\n",
    "Add bootstrap flavors, cell filter, and clickable rows"
   ]
  },
  {
   "cell_type": "code",
   "execution_count": 8,
   "metadata": {
    "collapsed": true
   },
   "outputs": [],
   "source": [
    "def bootstrap_table(df, filters={}, table_classes=[], table_border='1', thead_classes=[],\\\n",
    "                    tr_classes=[], tr_links =[], index=True):\n",
    "    '''\n",
    "    Render a bootstrap 4-styled html table. \n",
    "    filter: dictionary of list of touples (flag, filter function). Note the order: later filter will overide the former one\n",
    "            flag options: (primary, success, info, warning, danger, active, secondary, light, dark)\n",
    "            e.g.\n",
    "            filters = {'B': [('danger', lambda x: x)], 'C': [('warning', lambda x: x> 1), ('danger', lambda x: x> 2)]}\n",
    "    table_classes: bs4 table classes in addition to 'table' adding to 'table-'\n",
    "            table_classes options: striped, bordered, hover, dark, borderless, sm, responsive and all 'flag options'\n",
    "    thead_classes:\n",
    "            thead_classes options: dark, light\n",
    "    thead_classes: the list is mapped to each row\n",
    "        \n",
    "    ref. https://www.w3schools.com/bootstrap4/bootstrap_tables.asp\n",
    "    '''\n",
    "#     context_list = ['primary', 'success', 'info', warning, danger, active, secondary, light, dark]\n",
    "    # disect the pandas dataframe into elements\n",
    "    header = df.columns.values.tolist() # this is the correct order\n",
    "    rows = df.to_dict() # raws\n",
    "    inds = list(df.index) # index\n",
    "    \n",
    "    # populate table classes\n",
    "    t_classes = \"dataframe table\"\n",
    "    for c in table_classes:\n",
    "        t_classes += \" table-\" + c\n",
    "    if 'borderless' in table_classes:\n",
    "        table_border = 0\n",
    "        \n",
    "    # populate thead classes\n",
    "    th_classes = \"\"\n",
    "    for c in thead_classes:\n",
    "        th_classes += \" table-\" + c\n",
    "    \n",
    "    # default to tr classes\n",
    "    if not tr_classes:\n",
    "        tr_classes = [''] * len(df)\n",
    "        \n",
    "    # default to tr classes\n",
    "    if not tr_links:\n",
    "        tr_links = [''] * len(df)\n",
    "    \n",
    "    doc, tag, text = Doc().tagtext()\n",
    "    with tag('table', border=table_border, klass=t_classes):\n",
    "        with tag('thead', klass=th_classes):\n",
    "            with tag('tr', style=\"text-align: right;\"):\n",
    "                if index:\n",
    "                    with tag('th'): # the index column be empty             \n",
    "                        pass \n",
    "                for h in header:\n",
    "                    with tag('th'):\n",
    "                        text(h)\n",
    "        with tag('tbody'):\n",
    "            for i, ind in enumerate(inds):\n",
    "                clickable = ''\n",
    "                if tr_links[i]:\n",
    "                    clickable = ' clickable-row'\n",
    "                    \n",
    "                with tag('tr',  ('data-url', tr_links[i]), klass=tr_classes[i] + clickable): # each row\n",
    "                    if index:\n",
    "                        with tag('th'): # the index column\n",
    "                            text(ind)\n",
    "                    for h in header:\n",
    "                        cls = ''\n",
    "                        if h in filters:\n",
    "                            for fs in filters[h]:\n",
    "                                if fs[1](rows[h][ind]):\n",
    "                                    cls = 'table-' + fs[0]\n",
    "                        with tag('td', klass = cls):\n",
    "                            text(rows[h][ind]) \n",
    "                            \n",
    "    doc.asis('<script>$(document).ready(function() {jQuery(document).ready(function($) {$(\".clickable-row\").click(function() {window.open( $(this).data(\"url\"), \"_newtab\");});});});</script>')\n",
    "   \n",
    "    return indent(doc.getvalue())                \n",
    "    "
   ]
  },
  {
   "cell_type": "markdown",
   "metadata": {},
   "source": [
    "### Try it out"
   ]
  },
  {
   "cell_type": "code",
   "execution_count": 9,
   "metadata": {},
   "outputs": [
    {
     "ename": "NameError",
     "evalue": "name 'filters' is not defined",
     "output_type": "error",
     "traceback": [
      "\u001b[0;31m------------------------------------\u001b[0m",
      "\u001b[0;31mNameError\u001b[0mTraceback (most recent call last)",
      "\u001b[0;32m<ipython-input-9-669b30e5546d>\u001b[0m in \u001b[0;36m<module>\u001b[0;34m()\u001b[0m\n\u001b[1;32m      1\u001b[0m \u001b[0mdf\u001b[0m \u001b[0;34m=\u001b[0m \u001b[0mpd\u001b[0m\u001b[0;34m.\u001b[0m\u001b[0mDataFrame\u001b[0m\u001b[0;34m(\u001b[0m\u001b[0;34m{\u001b[0m\u001b[0;34m'C'\u001b[0m\u001b[0;34m:\u001b[0m\u001b[0;34m[\u001b[0m\u001b[0;36m1\u001b[0m\u001b[0;34m,\u001b[0m\u001b[0;36m2\u001b[0m\u001b[0;34m,\u001b[0m\u001b[0;36m3\u001b[0m\u001b[0;34m]\u001b[0m\u001b[0;34m,\u001b[0m \u001b[0;34m'B'\u001b[0m\u001b[0;34m:\u001b[0m\u001b[0;34m[\u001b[0m\u001b[0;32mTrue\u001b[0m\u001b[0;34m,\u001b[0m \u001b[0;32mFalse\u001b[0m\u001b[0;34m,\u001b[0m \u001b[0;32mTrue\u001b[0m\u001b[0;34m]\u001b[0m \u001b[0;34m}\u001b[0m\u001b[0;34m)\u001b[0m\u001b[0;34m\u001b[0m\u001b[0m\n\u001b[1;32m      2\u001b[0m \u001b[0mdf\u001b[0m\u001b[0;34m[\u001b[0m\u001b[0;34m'A'\u001b[0m\u001b[0;34m]\u001b[0m \u001b[0;34m=\u001b[0m \u001b[0;34m[\u001b[0m\u001b[0;36m100\u001b[0m\u001b[0;34m,\u001b[0m \u001b[0;36m100\u001b[0m\u001b[0;34m,\u001b[0m \u001b[0;36m90\u001b[0m\u001b[0;34m]\u001b[0m\u001b[0;34m\u001b[0m\u001b[0m\n\u001b[0;32m----> 3\u001b[0;31m \u001b[0mdf_table\u001b[0m \u001b[0;34m=\u001b[0m \u001b[0mbootstrap_table\u001b[0m\u001b[0;34m(\u001b[0m\u001b[0mdf\u001b[0m\u001b[0;34m,\u001b[0m \u001b[0mfilters\u001b[0m\u001b[0;34m,\u001b[0m \u001b[0mtable_classes\u001b[0m\u001b[0;34m=\u001b[0m\u001b[0;34m[\u001b[0m\u001b[0;34m'hover'\u001b[0m\u001b[0;34m]\u001b[0m\u001b[0;34m,\u001b[0m \u001b[0mthead_classes\u001b[0m\u001b[0;34m=\u001b[0m\u001b[0;34m[\u001b[0m\u001b[0;34m'light'\u001b[0m\u001b[0;34m]\u001b[0m\u001b[0;34m,\u001b[0m \u001b[0mindex\u001b[0m\u001b[0;34m=\u001b[0m\u001b[0;32mFalse\u001b[0m\u001b[0;34m)\u001b[0m\u001b[0;34m\u001b[0m\u001b[0m\n\u001b[0m\u001b[1;32m      4\u001b[0m \u001b[0;31m# df_table = bootstrap_table(df,  table_classes=['striped'], table_border ='2em', thead_classes=['primary'])\u001b[0m\u001b[0;34m\u001b[0m\u001b[0;34m\u001b[0m\u001b[0m\n\u001b[1;32m      5\u001b[0m \u001b[0;31m# df_table = bootstrap_table(df,  table_classes=['borderless'], tr_links = ['','','https://www.w3schools.com/bootstrap4/default.asp'])\u001b[0m\u001b[0;34m\u001b[0m\u001b[0;34m\u001b[0m\u001b[0m\n",
      "\u001b[0;31mNameError\u001b[0m: name 'filters' is not defined"
     ]
    }
   ],
   "source": [
    "df = pd.DataFrame({'C':[1,2,3], 'B':[True, False, True] })\n",
    "df['A'] = [100, 100, 90]\n",
    "df_table = bootstrap_table(df, filters, table_classes=['hover'], thead_classes=['light'], index=False)\n",
    "# df_table = bootstrap_table(df,  table_classes=['striped'], table_border ='2em', thead_classes=['primary'])\n",
    "# df_table = bootstrap_table(df,  table_classes=['borderless'], tr_links = ['','','https://www.w3schools.com/bootstrap4/default.asp'])\n",
    "with open('template.html', 'w') as f:\n",
    "    f.write(bootstrap_template(df_table))"
   ]
  },
  {
   "cell_type": "code",
   "execution_count": null,
   "metadata": {
    "collapsed": true
   },
   "outputs": [],
   "source": [
    "IFrame(src='template.html', width='80%', height='300')\n",
    "# `display(HTML(df_table))` will not work because we need bootstrap framework"
   ]
  },
  {
   "cell_type": "code",
   "execution_count": null,
   "metadata": {
    "collapsed": true
   },
   "outputs": [],
   "source": []
  },
  {
   "cell_type": "code",
   "execution_count": null,
   "metadata": {
    "collapsed": true
   },
   "outputs": [],
   "source": []
  }
 ],
 "metadata": {
  "kernelspec": {
   "display_name": "Python 3",
   "language": "python",
   "name": "python3"
  },
  "language_info": {
   "codemirror_mode": {
    "name": "ipython",
    "version": 3
   },
   "file_extension": ".py",
   "mimetype": "text/x-python",
   "name": "python",
   "nbconvert_exporter": "python",
   "pygments_lexer": "ipython3",
   "version": "3.5.3"
  }
 },
 "nbformat": 4,
 "nbformat_minor": 2
}
