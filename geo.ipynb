{
 "cells": [
  {
   "cell_type": "code",
   "execution_count": 1,
   "metadata": {
    "collapsed": true
   },
   "outputs": [],
   "source": [
    "import folium\n",
    "import numpy as np\n",
    "\n",
    "# m = folium.Map(location=[45.5236, -122.6750])\n"
   ]
  },
  {
   "cell_type": "code",
   "execution_count": 41,
   "metadata": {},
   "outputs": [
    {
     "data": {
      "text/plain": [
       "<folium.map.Marker at 0x10d6865f8>"
      ]
     },
     "execution_count": 41,
     "metadata": {},
     "output_type": "execute_result"
    }
   ],
   "source": [
    "lines =[[(37.3703, -122.04447),(37.35013, -122.05001)],[(37.3514, -122.05049),(37.37052, -122.04447)]]\n",
    "f = folium.Figure(width=500, height=400)\n",
    "m = folium.Map(location = lines[0][0],zoom_start=12, min_zoom = 10, max_zoom = 14).add_to(f)\n",
    "for l in lines:\n",
    "    folium.PolyLine(l).add_to(m)\n",
    "    get_arrows(locations=[mid_point(l), l[1]], n_arrows=1)[0].add_to(m)\n",
    "folium.Marker(location=mid_point(l, 0.8), icon=folium.Icon(color='green')).add_to(m)\n",
    "\n",
    "# arrows[0].add_to(m)\n",
    "tooltip = 'Click me!'\n",
    "folium.Marker(location=lines[0][0], popup='<i>Toyota Sunnyvale</i>', tooltip=tooltip).add_to(m)"
   ]
  },
  {
   "cell_type": "code",
   "execution_count": 40,
   "metadata": {},
   "outputs": [
    {
     "data": {
      "text/html": [
       "<iframe src=\"data:text/html;charset=utf-8;base64,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\" width=\"500\" height=\"400\"style=\"border:none !important;\" \"allowfullscreen\" \"webkitallowfullscreen\" \"mozallowfullscreen\"></iframe>"
      ],
      "text/plain": [
       "<branca.element.Figure at 0x10d696550>"
      ]
     },
     "execution_count": 40,
     "metadata": {},
     "output_type": "execute_result"
    }
   ],
   "source": [
    "f"
   ]
  },
  {
   "cell_type": "code",
   "execution_count": 42,
   "metadata": {
    "collapsed": true
   },
   "outputs": [],
   "source": [
    "f.save(outfile='map.html')\n"
   ]
  },
  {
   "cell_type": "code",
   "execution_count": 26,
   "metadata": {
    "collapsed": true
   },
   "outputs": [],
   "source": [
    "def mid_point(line, bias=0.5):\n",
    "    p1, p2 = line\n",
    "    v = (p2[0]- p1[0], p2[1]- p1[1])\n",
    "    return (p1[0] + v[0]* bias, p1[1] + v[1]* bias)"
   ]
  },
  {
   "cell_type": "code",
   "execution_count": 32,
   "metadata": {},
   "outputs": [
    {
     "data": {
      "text/plain": [
       "(0.9, 0.9)"
      ]
     },
     "execution_count": 32,
     "metadata": {},
     "output_type": "execute_result"
    }
   ],
   "source": [
    "l=[(0,0),(1,1)]\n",
    "mid_point(l,0.9)"
   ]
  },
  {
   "cell_type": "markdown",
   "metadata": {},
   "source": [
    "[source](https://medium.com/@bobhaffner/folium-lines-with-arrows-25a0fe88e4e)"
   ]
  },
  {
   "cell_type": "code",
   "execution_count": 6,
   "metadata": {
    "collapsed": true
   },
   "outputs": [],
   "source": [
    "from collections import namedtuple\n",
    "def get_arrows(locations, color='blue', size=6, n_arrows=3):\n",
    "    \n",
    "    '''\n",
    "    Get a list of correctly placed and rotated \n",
    "    arrows/markers to be plotted\n",
    "    \n",
    "    Parameters\n",
    "    locations : list of lists of lat lons that represent the \n",
    "                start and end of the line. \n",
    "                eg [[41.1132, -96.1993],[41.3810, -95.8021]]\n",
    "    arrow_color : default is 'blue'\n",
    "    size : default is 6\n",
    "    n_arrows : number of arrows to create.  default is 3\n",
    "    Return\n",
    "    list of arrows/markers\n",
    "    '''\n",
    "    \n",
    "    Point = namedtuple('Point', field_names=['lat', 'lon'])\n",
    "    \n",
    "    # creating point from our Point named tuple\n",
    "    p1 = Point(locations[0][0], locations[0][1])\n",
    "    p2 = Point(locations[1][0], locations[1][1])\n",
    "    \n",
    "    # getting the rotation needed for our marker.  \n",
    "    # Subtracting 90 to account for the marker's orientation\n",
    "    # of due East(get_bearing returns North)\n",
    "    rotation = get_bearing(p1, p2) - 90\n",
    "    \n",
    "    # get an evenly space list of lats and lons for our arrows\n",
    "    # note that I'm discarding the first and last for aesthetics\n",
    "    # as I'm using markers to denote the start and end\n",
    "    arrow_lats = np.linspace(p1.lat, p2.lat, n_arrows + 2)[1:n_arrows+1]\n",
    "    arrow_lons = np.linspace(p1.lon, p2.lon, n_arrows + 2)[1:n_arrows+1]\n",
    "    \n",
    "    arrows = []\n",
    "    somemap = folium.Map()\n",
    "    #creating each \"arrow\" and appending them to our arrows list\n",
    "    for points in zip(arrow_lats, arrow_lons):\n",
    "        arrows.append(folium.RegularPolygonMarker(location=points, \n",
    "                      fill_color=color, number_of_sides=3, \n",
    "                      radius=size, rotation=rotation).add_to(somemap))\n",
    "    return arrows"
   ]
  },
  {
   "cell_type": "code",
   "execution_count": 7,
   "metadata": {
    "collapsed": true
   },
   "outputs": [],
   "source": [
    "def get_bearing(p1, p2):\n",
    "    \n",
    "    '''\n",
    "    Returns compass bearing from p1 to p2\n",
    "    \n",
    "    Parameters\n",
    "    p1 : namedtuple with lat lon\n",
    "    p2 : namedtuple with lat lon\n",
    "    \n",
    "    Return\n",
    "    compass bearing of type float\n",
    "    \n",
    "    Notes\n",
    "    Based on https://gist.github.com/jeromer/2005586\n",
    "    '''\n",
    "    \n",
    "    long_diff = np.radians(p2.lon - p1.lon)\n",
    "    \n",
    "    lat1 = np.radians(p1.lat)\n",
    "    lat2 = np.radians(p2.lat)\n",
    "    \n",
    "    x = np.sin(long_diff) * np.cos(lat2)\n",
    "    y = (np.cos(lat1) * np.sin(lat2) \n",
    "        - (np.sin(lat1) * np.cos(lat2) \n",
    "        * np.cos(long_diff)))\n",
    "    bearing = np.degrees(np.arctan2(x, y))\n",
    "    \n",
    "    # adjusting for compass bearing\n",
    "    if bearing < 0:\n",
    "        return bearing + 360\n",
    "    return bearing"
   ]
  },
  {
   "cell_type": "markdown",
   "metadata": {
    "collapsed": true
   },
   "source": [
    "## Geo distance"
   ]
  },
  {
   "cell_type": "code",
   "execution_count": 2,
   "metadata": {},
   "outputs": [
    {
     "name": "stdout",
     "output_type": "stream",
     "text": [
      "538.3904453677204\n"
     ]
    }
   ],
   "source": [
    "from geopy.distance import distance\n",
    "newport_ri = (41.49008, -71.312796)\n",
    "cleveland_oh = (41.499498, -81.695391)\n",
    "print(distance(newport_ri, cleveland_oh).miles)\n"
   ]
  },
  {
   "cell_type": "code",
   "execution_count": null,
   "metadata": {
    "collapsed": true
   },
   "outputs": [],
   "source": []
  }
 ],
 "metadata": {
  "kernelspec": {
   "display_name": "Python 3",
   "language": "python",
   "name": "python3"
  },
  "language_info": {
   "codemirror_mode": {
    "name": "ipython",
    "version": 3
   },
   "file_extension": ".py",
   "mimetype": "text/x-python",
   "name": "python",
   "nbconvert_exporter": "python",
   "pygments_lexer": "ipython3",
   "version": "3.5.3"
  }
 },
 "nbformat": 4,
 "nbformat_minor": 2
}
